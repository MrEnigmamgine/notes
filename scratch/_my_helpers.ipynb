{
 "cells": [
  {
   "cell_type": "code",
   "execution_count": 8,
   "metadata": {},
   "outputs": [],
   "source": [
    "import sympy as sp\n",
    "from IPython.display import display\n"
   ]
  },
  {
   "cell_type": "code",
   "execution_count": 9,
   "metadata": {},
   "outputs": [],
   "source": [
    "# Display numbers in engineering format\n",
    "from matplotlib.ticker import EngFormatter\n",
    "engf = EngFormatter()"
   ]
  },
  {
   "cell_type": "code",
   "execution_count": 10,
   "metadata": {},
   "outputs": [],
   "source": [
    "class si :\n",
    "    \"\"\"\n",
    "    This is a simple class that provides an easy way to access the engineering prefixes for the metric system.\n",
    "    Example:\n",
    "        25*si.k results in 25_000\n",
    "    \"\"\"\n",
    "    Y = 10**24  # Yotta\n",
    "    Z = 10**21  # Zetta\n",
    "    E = 10**18  # Exa\n",
    "    P = 10**15  # Peta\n",
    "    T = 10**12  # Tera\n",
    "    G = 10**9   # Giga\n",
    "    M = 10**6   # Mega\n",
    "    k = 10**3   # kilo\n",
    "\n",
    "    m = 10**-3  # milli\n",
    "    µ = 10**-6  # micro\n",
    "    u = 10**-6  # micro ## so that we can type u instead of µ\n",
    "    n = 10**-9  # nano\n",
    "    p = 10**-12 # pico\n",
    "    f = 10**-15 # femto\n",
    "    a = 10**-18 # atto\n",
    "    z = 10**-21 # zepto\n",
    "    y = 10**-24 # yocto"
   ]
  },
  {
   "cell_type": "markdown",
   "metadata": {},
   "source": [
    "### Parallel resistances / etc"
   ]
  },
  {
   "cell_type": "code",
   "execution_count": 11,
   "metadata": {},
   "outputs": [],
   "source": [
    "def recipsumrecip(data):\n",
    "    denom = 0\n",
    "    for n in data:\n",
    "        denom += 1/n\n",
    "    return 1/denom\n",
    "\n",
    "def recip(num):\n",
    "    return 1/num"
   ]
  },
  {
   "cell_type": "code",
   "execution_count": 12,
   "metadata": {},
   "outputs": [],
   "source": [
    "parallel = recipsumrecip"
   ]
  },
  {
   "cell_type": "markdown",
   "metadata": {},
   "source": [
    "### Mesh Analysis"
   ]
  },
  {
   "cell_type": "code",
   "execution_count": 13,
   "metadata": {},
   "outputs": [],
   "source": [
    "def cramers_rule(A,b):\n",
    "    display(A)\n",
    "    det_A = A.det()\n",
    "    print(f\"detA= {engf(det_A)}\\n\")\n",
    "\n",
    "    if det_A == 0:\n",
    "        raise ValueError(\"The $\\det(A)$ is zero; the system has no unique solution.\")\n",
    "    \n",
    "    solutions = []\n",
    "\n",
    "    for i in range(A.cols):\n",
    "        print(f'I={i}')\n",
    "        \n",
    "        A_i = A.copy()\n",
    "        A_i[:, i] = b\n",
    "        display(A_i)\n",
    "        \n",
    "        det_Ai = A_i.det()\n",
    "        print(f\"det{i}= {engf(det_Ai)}\")\n",
    "        \n",
    "        sol = det_Ai/det_A\n",
    "        solutions.append(sol.evalf())\n",
    "        print(f\"sol{i}= {engf(sol)}\\n\")\n",
    "\n",
    "    return solutions\n"
   ]
  },
  {
   "cell_type": "code",
   "execution_count": null,
   "metadata": {},
   "outputs": [],
   "source": [
    "exprs = []\n",
    "vars = []\n",
    "A= sp.Matrix([\n",
    "    [expr.coeff(var) for var in vars] for expr in exprs\n",
    "\n",
    "])\n",
    "A"
   ]
  },
  {
   "cell_type": "code",
   "execution_count": null,
   "metadata": {},
   "outputs": [],
   "source": [
    "substitutions = dict(zip(vars, [0 for var in vars]))\n",
    "b = sp.Matrix(\n",
    "    [-expr.subs(substitutions) for expr in exprs]\n",
    ")\n",
    "b"
   ]
  },
  {
   "cell_type": "code",
   "execution_count": null,
   "metadata": {},
   "outputs": [],
   "source": [
    "sol = cramers_rule(A,b)\n",
    "sol"
   ]
  }
 ],
 "metadata": {
  "kernelspec": {
   "display_name": "Python 3",
   "language": "python",
   "name": "python3"
  },
  "language_info": {
   "codemirror_mode": {
    "name": "ipython",
    "version": 3
   },
   "file_extension": ".py",
   "mimetype": "text/x-python",
   "name": "python",
   "nbconvert_exporter": "python",
   "pygments_lexer": "ipython3",
   "version": "3.10.8"
  }
 },
 "nbformat": 4,
 "nbformat_minor": 2
}
