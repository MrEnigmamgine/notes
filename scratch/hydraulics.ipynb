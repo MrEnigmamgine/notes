{
 "cells": [
  {
   "cell_type": "code",
   "execution_count": null,
   "metadata": {},
   "outputs": [],
   "source": []
  },
  {
   "cell_type": "markdown",
   "metadata": {},
   "source": [
    "## Vane Pumps and Motors\n",
    "\n",
    "$$\n",
    "p = \\frac{2 \\pi T}{V_D}\n",
    "$$\n",
    "$$\n",
    "T = \\frac{p*V_D}{2\\pi}\n",
    "$$\n",
    "\n",
    "Where:  \n",
    "$T$ = Torque  \n",
    "$p$ = Pressure  \n",
    "$V_D$ = Volumetric Displacement  \n"
   ]
  },
  {
   "cell_type": "markdown",
   "metadata": {},
   "source": []
  },
  {
   "cell_type": "markdown",
   "metadata": {},
   "source": []
  }
 ],
 "metadata": {
  "language_info": {
   "name": "python"
  }
 },
 "nbformat": 4,
 "nbformat_minor": 2
}
