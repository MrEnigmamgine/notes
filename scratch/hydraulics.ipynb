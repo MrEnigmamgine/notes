{
 "cells": [
  {
   "cell_type": "markdown",
   "metadata": {},
   "source": [
    "## Vane Pumps and Motors\n",
    "\n",
    "$$\n",
    "p = \\frac{2 \\pi T}{V_D}\n",
    "$$\n",
    "$$\n",
    "T = \\frac{p*V_D}{2\\pi}\n",
    "$$\n",
    "\n",
    "Where:  \n",
    "$T$ = Torque  \n",
    "$p$ = Pressure  \n",
    "$V_D$ = Volumetric Displacement  \n"
   ]
  },
  {
   "cell_type": "markdown",
   "metadata": {},
   "source": []
  },
  {
   "cell_type": "markdown",
   "metadata": {},
   "source": []
  }
 ],
 "metadata": {
  "kernelspec": {
   "display_name": "Python 3",
   "language": "python",
   "name": "python3"
  },
  "language_info": {
   "codemirror_mode": {
    "name": "ipython",
    "version": 3
   },
   "file_extension": ".py",
   "mimetype": "text/x-python",
   "name": "python",
   "nbconvert_exporter": "python",
   "pygments_lexer": "ipython3",
   "version": "3.10.8"
  }
 },
 "nbformat": 4,
 "nbformat_minor": 2
}
