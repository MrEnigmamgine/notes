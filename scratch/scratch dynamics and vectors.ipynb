{
 "cells": [
  {
   "cell_type": "code",
   "execution_count": 45,
   "metadata": {},
   "outputs": [],
   "source": [
    "import numpy as np\n",
    "import sympy as sp\n",
    "import math"
   ]
  },
  {
   "cell_type": "code",
   "execution_count": 30,
   "metadata": {},
   "outputs": [],
   "source": [
    "def p2v(magnitude, degrees):\n",
    "    \"\"\"Returns a numpy vector from a given polar format\"\"\"\n",
    "    radians = math.radians(degrees)\n",
    "    x = magnitude * math.cos(radians)\n",
    "    y = magnitude * math.sin(radians)\n",
    "    return np.array([x,y])\n",
    "\n",
    "def v2p(vector):\n",
    "    \"\"\"Returns magnitude and angle (in degrees) from a given numpy vector\"\"\"\n",
    "    magnitude = np.hypot(*vector)  # Equivalent to sqrt(x**2 + y**2)\n",
    "    degrees = np.degrees(np.arctan2(*vector))\n",
    "    return magnitude, degrees"
   ]
  },
  {
   "cell_type": "code",
   "execution_count": null,
   "metadata": {},
   "outputs": [
    {
     "data": {
      "text/plain": [
       "array([13.88504859, 44.03774794])"
      ]
     },
     "execution_count": 43,
     "metadata": {},
     "output_type": "execute_result"
    }
   ],
   "source": [
    "delta_t = 2\n",
    "v0 = p2v(50,-45) #converts polar-format vectors to an numpy [x,y] vectors\n",
    "v1 = p2v(50,10)\n",
    "\n",
    "# Finding delta_V is trivial with numpy vectors\n",
    "delta_v = v1-v0\n",
    "delta_v"
   ]
  },
  {
   "cell_type": "code",
   "execution_count": null,
   "metadata": {},
   "outputs": [
    {
     "data": {
      "text/plain": [
       "(23.087430661751696, 17.499999999999996)"
      ]
     },
     "execution_count": 44,
     "metadata": {},
     "output_type": "execute_result"
    }
   ],
   "source": [
    "# acceleration\n",
    "a = delta_v/delta_t\n",
    "v2p(a) #display in polar format (magnitude, degrees)"
   ]
  },
  {
   "cell_type": "markdown",
   "metadata": {},
   "source": [
    "### 9\n",
    "A motorcycle accelerates at 1.78 m/s2 to reach a velocity of 21 m/s over a distance of 52 m. Determine its initial velocity. "
   ]
  },
  {
   "cell_type": "code",
   "execution_count": 50,
   "metadata": {},
   "outputs": [],
   "source": [
    "vf, v0, a, s, t = sp.symbols('V_F, V_0, a, s, t')"
   ]
  },
  {
   "cell_type": "code",
   "execution_count": 53,
   "metadata": {},
   "outputs": [
    {
     "data": {
      "text/latex": [
       "$\\displaystyle V_{F}^{2} = V_{0}^{2} + 2 a s$"
      ],
      "text/plain": [
       "Eq(V_F**2, V_0**2 + 2*a*s)"
      ]
     },
     "execution_count": 53,
     "metadata": {},
     "output_type": "execute_result"
    }
   ],
   "source": [
    "expr = sp.Eq(vf**2, v0**2 + 2*a*s)\n",
    "expr"
   ]
  },
  {
   "cell_type": "code",
   "execution_count": 56,
   "metadata": {},
   "outputs": [
    {
     "data": {
      "text/latex": [
       "$\\displaystyle \\sqrt{V_{F}^{2} - 2 a s}$"
      ],
      "text/plain": [
       "sqrt(V_F**2 - 2*a*s)"
      ]
     },
     "execution_count": 56,
     "metadata": {},
     "output_type": "execute_result"
    }
   ],
   "source": [
    "expr_v0 = sp.solve(expr, v0)[1]\n",
    "expr_v0"
   ]
  },
  {
   "cell_type": "code",
   "execution_count": 57,
   "metadata": {},
   "outputs": [
    {
     "data": {
      "text/latex": [
       "$\\displaystyle 15.9962495604438$"
      ],
      "text/plain": [
       "15.9962495604438"
      ]
     },
     "execution_count": 57,
     "metadata": {},
     "output_type": "execute_result"
    }
   ],
   "source": [
    "expr_v0.subs({\n",
    "    vf: 21,\n",
    "    a: 1.78,\n",
    "    s: 52\n",
    "})"
   ]
  },
  {
   "cell_type": "code",
   "execution_count": 58,
   "metadata": {},
   "outputs": [
    {
     "data": {
      "text/latex": [
       "$\\displaystyle 14.4$"
      ],
      "text/plain": [
       "14.4000000000000"
      ]
     },
     "execution_count": 58,
     "metadata": {},
     "output_type": "execute_result"
    }
   ],
   "source": [
    "expr_v0.subs({\n",
    "    vf: 19,\n",
    "    a: 1.67,\n",
    "    s: 46\n",
    "})"
   ]
  },
  {
   "cell_type": "code",
   "execution_count": 59,
   "metadata": {},
   "outputs": [
    {
     "data": {
      "text/plain": [
       "2.754491017964072"
      ]
     },
     "execution_count": 59,
     "metadata": {},
     "output_type": "execute_result"
    }
   ],
   "source": [
    "(19-14.4)/1.67"
   ]
  },
  {
   "cell_type": "code",
   "execution_count": 65,
   "metadata": {},
   "outputs": [
    {
     "data": {
      "text/latex": [
       "$\\displaystyle \\frac{- V_{0}^{2} + V_{F}^{2}}{2 s}$"
      ],
      "text/plain": [
       "(-V_0**2 + V_F**2)/(2*s)"
      ]
     },
     "execution_count": 65,
     "metadata": {},
     "output_type": "execute_result"
    }
   ],
   "source": [
    "sp.solve(expr,a)[0]"
   ]
  },
  {
   "cell_type": "code",
   "execution_count": 64,
   "metadata": {},
   "outputs": [
    {
     "data": {
      "text/latex": [
       "$\\displaystyle 14.6938775510204$"
      ],
      "text/plain": [
       "14.6938775510204"
      ]
     },
     "execution_count": 64,
     "metadata": {},
     "output_type": "execute_result"
    }
   ],
   "source": [
    "sp.solve(expr,a)[0].subs({\n",
    "    v0: 0,\n",
    "    vf: 12,\n",
    "    s: 4.9\n",
    "})"
   ]
  }
 ],
 "metadata": {
  "kernelspec": {
   "display_name": "Python 3",
   "language": "python",
   "name": "python3"
  },
  "language_info": {
   "codemirror_mode": {
    "name": "ipython",
    "version": 3
   },
   "file_extension": ".py",
   "mimetype": "text/x-python",
   "name": "python",
   "nbconvert_exporter": "python",
   "pygments_lexer": "ipython3",
   "version": "3.10.8"
  }
 },
 "nbformat": 4,
 "nbformat_minor": 2
}
