{
 "cells": [
  {
   "cell_type": "code",
   "execution_count": 1,
   "metadata": {},
   "outputs": [],
   "source": [
    "# Imports\n",
    "import math\n",
    "\n",
    "#For prettifying large numbers\n",
    "from matplotlib.ticker import EngFormatter \n",
    "engFormatter = EngFormatter()\n",
    "# For making electronic schematics\n",
    "import schemdraw\n",
    "import schemdraw.elements as elm"
   ]
  },
  {
   "cell_type": "code",
   "execution_count": null,
   "metadata": {},
   "outputs": [],
   "source": [
    "# SI unit-prefixes class\n",
    "class si :\n",
    "    \"\"\"\n",
    "    This is a simple class that provides an easy way to access the engineering prefixes for the metric system.\n",
    "    Example:\n",
    "        25*si.k results in 25_000\n",
    "    \"\"\"\n",
    "    Y = 10**24  # Yotta\n",
    "    Z = 10**21  # Zetta\n",
    "    E = 10**18  # Exa\n",
    "    P = 10**15  # Peta\n",
    "    T = 10**12  # Tera\n",
    "    G = 10**9   # Giga\n",
    "    M = 10**6   # Mega\n",
    "    k = 10**3   # kilo\n",
    "\n",
    "    m = 10**-3  # milli\n",
    "    µ = 10**-6  # micro\n",
    "    u = 10**-6  # micro ## so that we can type u instead of µ\n",
    "    n = 10**-9  # nano\n",
    "    p = 10**-12 # pico\n",
    "    f = 10**-15 # femto\n",
    "    a = 10**-18 # atto\n",
    "    z = 10**-21 # zepto\n",
    "    y = 10**-24 # yocto\n"
   ]
  },
  {
   "cell_type": "code",
   "execution_count": null,
   "metadata": {},
   "outputs": [],
   "source": [
    "# Useful functions\n",
    "def recipsumrecip(data):\n",
    "    \"\"\"Useful for calculating parallel resistances. Expects an iterable as input.\"\"\"\n",
    "    denom = 0\n",
    "    for n in data:\n",
    "        denom += 1/n\n",
    "    return 1/denom\n",
    "\n",
    "def two_pi(n):\n",
    "    \"\"\"Multiplies a number by 2*pi. Useful for not having to type 2*math.pi as often.\"\"\"\n",
    "    return 2*math.pi*n"
   ]
  }
 ],
 "metadata": {
  "kernelspec": {
   "display_name": "Python 3",
   "language": "python",
   "name": "python3"
  },
  "language_info": {
   "codemirror_mode": {
    "name": "ipython",
    "version": 3
   },
   "file_extension": ".py",
   "mimetype": "text/x-python",
   "name": "python",
   "nbconvert_exporter": "python",
   "pygments_lexer": "ipython3",
   "version": "3.10.8"
  }
 },
 "nbformat": 4,
 "nbformat_minor": 2
}
