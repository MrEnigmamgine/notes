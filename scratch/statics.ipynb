{
 "cells": [
  {
   "cell_type": "code",
   "execution_count": 2,
   "metadata": {},
   "outputs": [],
   "source": [
    "import math\n",
    "import cmath\n",
    "\n",
    "def polar_format(complex_number):\n",
    "    magnitude, radians = cmath.polar(complex_number)\n",
    "    degrees = math.degrees(radians)\n",
    "    return (magnitude,degrees)\n",
    "\n",
    "def rect_format(magnitude,degrees):\n",
    "    radians = math.radians(degrees)\n",
    "    real = magnitude * math.cos(radians)\n",
    "    imaginary = magnitude * math.sin(radians)\n",
    "    return complex(real,imaginary)"
   ]
  },
  {
   "cell_type": "markdown",
   "metadata": {},
   "source": [
    "- There are three main combinations of slope numbers that produce a whole number for the hypotenuse of a right-angle triangle. \n",
    "    - These combinations are \n",
    "        - 3, 4, 5; \n",
    "        - 5, 12, 13; \n",
    "        - 8, 15, 17, \n",
    "        - or multiples thereof."
   ]
  }
 ],
 "metadata": {
  "kernelspec": {
   "display_name": "Python 3",
   "language": "python",
   "name": "python3"
  },
  "language_info": {
   "codemirror_mode": {
    "name": "ipython",
    "version": 3
   },
   "file_extension": ".py",
   "mimetype": "text/x-python",
   "name": "python",
   "nbconvert_exporter": "python",
   "pygments_lexer": "ipython3",
   "version": "3.10.8"
  }
 },
 "nbformat": 4,
 "nbformat_minor": 2
}
