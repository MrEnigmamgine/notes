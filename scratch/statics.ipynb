{
 "cells": [
  {
   "cell_type": "code",
   "execution_count": 2,
   "metadata": {},
   "outputs": [],
   "source": [
    "import math\n",
    "import cmath\n",
    "\n",
    "def polar_format(complex_number):\n",
    "    magnitude, radians = cmath.polar(complex_number)\n",
    "    degrees = math.degrees(radians)\n",
    "    return (magnitude,degrees)\n",
    "\n",
    "def rect_format(magnitude,degrees):\n",
    "    radians = math.radians(degrees)\n",
    "    real = magnitude * math.cos(radians)\n",
    "    imaginary = magnitude * math.sin(radians)\n",
    "    return complex(real,imaginary)"
   ]
  },
  {
   "cell_type": "markdown",
   "metadata": {},
   "source": [
    "- There are three main combinations of slope numbers that produce a whole number for the hypotenuse of a right-angle triangle. \n",
    "    - These combinations are \n",
    "        - 3, 4, 5; \n",
    "        - 5, 12, 13; \n",
    "        - 8, 15, 17, \n",
    "        - or multiples thereof."
   ]
  },
  {
   "cell_type": "code",
   "execution_count": 7,
   "metadata": {},
   "outputs": [
    {
     "name": "stdout",
     "output_type": "stream",
     "text": [
      "(-2.598076211353316-1.5000000000000004j)\n",
      "(-1.2940952255126041+4.8296291314453415j)\n",
      "(1.3680805733026753+3.7587704831436333j)\n",
      "(2+0j)\n"
     ]
    },
    {
     "data": {
      "text/plain": [
       "(7.107747908400775, 94.2285505408098)"
      ]
     },
     "execution_count": 7,
     "metadata": {},
     "output_type": "execute_result"
    }
   ],
   "source": [
    "f1 = rect_format(3,210)\n",
    "f2 = rect_format(5,105)\n",
    "f3 = rect_format(4,70)\n",
    "f4 = rect_format(2,0)\n",
    "print(f1)\n",
    "print(f2)\n",
    "print(f3)\n",
    "print(f4)\n",
    "polar_format(sum([f1,f2,f3,f4]))"
   ]
  },
  {
   "cell_type": "code",
   "execution_count": 4,
   "metadata": {},
   "outputs": [
    {
     "data": {
      "text/plain": [
       "(-0.5240908635632451+7.088399614588974j)"
      ]
     },
     "execution_count": 4,
     "metadata": {},
     "output_type": "execute_result"
    }
   ],
   "source": [
    "r = f1 + f2 +f3 +f4\n",
    "r"
   ]
  },
  {
   "cell_type": "code",
   "execution_count": 5,
   "metadata": {},
   "outputs": [
    {
     "data": {
      "text/plain": [
       "(7.107747908400775, 94.2285505408098)"
      ]
     },
     "execution_count": 5,
     "metadata": {},
     "output_type": "execute_result"
    }
   ],
   "source": [
    "polar_format(r)"
   ]
  }
 ],
 "metadata": {
  "kernelspec": {
   "display_name": "Python 3",
   "language": "python",
   "name": "python3"
  },
  "language_info": {
   "codemirror_mode": {
    "name": "ipython",
    "version": 3
   },
   "file_extension": ".py",
   "mimetype": "text/x-python",
   "name": "python",
   "nbconvert_exporter": "python",
   "pygments_lexer": "ipython3",
   "version": "3.10.8"
  }
 },
 "nbformat": 4,
 "nbformat_minor": 2
}
