{
 "cells": [
  {
   "cell_type": "code",
   "execution_count": 5,
   "id": "dd9fb5ba",
   "metadata": {},
   "outputs": [],
   "source": [
    "# My function:\n",
    "\n",
    "def function_example(arg1, arg2='Second Argument', arg3='!'):\n",
    "    print(f'The first argument is \"{arg1}\"')\n",
    "    print(f'The second argument is \"{arg2}\"')\n",
    "    print(f'The third argument is \"{arg3}\"')"
   ]
  },
  {
   "cell_type": "code",
   "execution_count": 6,
   "id": "8af658cf",
   "metadata": {},
   "outputs": [
    {
     "name": "stdout",
     "output_type": "stream",
     "text": [
      "The first argument is \"Hello\"\n",
      "The second argument is \"Second Argument\"\n",
      "The third argument is \"!\"\n"
     ]
    }
   ],
   "source": [
    "function_example('Hello')"
   ]
  },
  {
   "cell_type": "code",
   "execution_count": 7,
   "id": "85af22d2",
   "metadata": {},
   "outputs": [
    {
     "name": "stdout",
     "output_type": "stream",
     "text": [
      "The first argument is \"Hello\"\n",
      "The second argument is \"World\"\n",
      "The third argument is \"!\"\n"
     ]
    }
   ],
   "source": [
    "function_example('Hello', 'World')"
   ]
  },
  {
   "cell_type": "code",
   "execution_count": 8,
   "id": "5e587b5a",
   "metadata": {},
   "outputs": [
    {
     "name": "stdout",
     "output_type": "stream",
     "text": [
      "The first argument is \"Hello\"\n",
      "The second argument is \"Second Argument\"\n",
      "The third argument is \"?\"\n"
     ]
    }
   ],
   "source": [
    "function_example('Hello', arg3='?')"
   ]
  },
  {
   "cell_type": "code",
   "execution_count": 9,
   "id": "03860d50",
   "metadata": {},
   "outputs": [
    {
     "name": "stdout",
     "output_type": "stream",
     "text": [
      "The first argument is \"Goodbye\"\n",
      "The second argument is \"Cruel\"\n",
      "The third argument is \"World\"\n"
     ]
    }
   ],
   "source": [
    "things = ['Goodbye','Cruel','World']\n",
    "function_example(*things)"
   ]
  }
 ],
 "metadata": {
  "kernelspec": {
   "display_name": "Python 3",
   "language": "python",
   "name": "python3"
  },
  "language_info": {
   "codemirror_mode": {
    "name": "ipython",
    "version": 3
   },
   "file_extension": ".py",
   "mimetype": "text/x-python",
   "name": "python",
   "nbconvert_exporter": "python",
   "pygments_lexer": "ipython3",
   "version": "3.13.2"
  }
 },
 "nbformat": 4,
 "nbformat_minor": 5
}
