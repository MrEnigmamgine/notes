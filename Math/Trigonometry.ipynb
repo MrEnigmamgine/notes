{
 "cells": [
  {
   "cell_type": "code",
   "execution_count": 14,
   "metadata": {},
   "outputs": [],
   "source": [
    "import sympy as sp\n",
    "import numpy as np\n",
    "import math"
   ]
  },
  {
   "cell_type": "markdown",
   "metadata": {},
   "source": [
    "## Law of cosines\n",
    "The law of cosines relates the lengths of the sides of a triangle to the cosine of one of its angles.\n",
    "\n",
    "![Sides and angles symbols](../assets/cosines_triangle.png)\n",
    "\n",
    "$$\n",
    "a^2 = b^2 + c^2 - 2bc\\cos{(\\alpha)}\n",
    "$$\n"
   ]
  },
  {
   "cell_type": "code",
   "execution_count": 9,
   "metadata": {},
   "outputs": [],
   "source": [
    "a,b,c,alpha,beta,gamma = sp.symbols(r'a,b,c,\\alpha,\\beta,\\gamma')"
   ]
  },
  {
   "cell_type": "code",
   "execution_count": 25,
   "metadata": {},
   "outputs": [
    {
     "data": {
      "text/latex": [
       "$\\displaystyle a^{2} = b^{2} - 2 b c \\cos{\\left(\\alpha \\right)} + c^{2}$"
      ],
      "text/plain": [
       "Eq(a**2, b**2 - 2*b*c*cos(\\alpha) + c**2)"
      ]
     },
     "execution_count": 25,
     "metadata": {},
     "output_type": "execute_result"
    }
   ],
   "source": [
    "eq_cosines_law = sp.Eq(\n",
    "    a**2,\n",
    "    b**2 + c**2 - 2*(b*c*sp.cos(alpha))\n",
    ")\n",
    "\n",
    "eq_cosines_law"
   ]
  },
  {
   "cell_type": "code",
   "execution_count": 26,
   "metadata": {},
   "outputs": [
    {
     "data": {
      "text/latex": [
       "$\\displaystyle \\sqrt{b^{2} - 2 b c \\cos{\\left(\\alpha \\right)} + c^{2}}$"
      ],
      "text/plain": [
       "sqrt(b**2 - 2*b*c*cos(\\alpha) + c**2)"
      ]
     },
     "execution_count": 26,
     "metadata": {},
     "output_type": "execute_result"
    }
   ],
   "source": [
    "expr_a = sp.solve(eq_cosines_law, a)[1]\n",
    "expr_a"
   ]
  },
  {
   "cell_type": "code",
   "execution_count": 29,
   "metadata": {},
   "outputs": [
    {
     "data": {
      "text/latex": [
       "$\\displaystyle 14.3279891977156$"
      ],
      "text/plain": [
       "14.3279891977156"
      ]
     },
     "execution_count": 29,
     "metadata": {},
     "output_type": "execute_result"
    }
   ],
   "source": [
    "expr_a.subs({\n",
    "    b: 13.333333,\n",
    "    c: 13.333333,\n",
    "    alpha: math.radians(65)\n",
    "}).evalf()"
   ]
  }
 ],
 "metadata": {
  "kernelspec": {
   "display_name": "Python 3",
   "language": "python",
   "name": "python3"
  },
  "language_info": {
   "codemirror_mode": {
    "name": "ipython",
    "version": 3
   },
   "file_extension": ".py",
   "mimetype": "text/x-python",
   "name": "python",
   "nbconvert_exporter": "python",
   "pygments_lexer": "ipython3",
   "version": "3.13.2"
  }
 },
 "nbformat": 4,
 "nbformat_minor": 2
}
