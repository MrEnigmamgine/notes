{
 "cells": [
  {
   "cell_type": "code",
   "execution_count": 2,
   "metadata": {},
   "outputs": [],
   "source": [
    "import numpy as np\n",
    "import sympy as sp\n",
    "from sympy.plotting import plot\n",
    "import matplotlib.pyplot as plt"
   ]
  },
  {
   "cell_type": "markdown",
   "metadata": {},
   "source": [
    "## Preface"
   ]
  },
  {
   "cell_type": "markdown",
   "metadata": {},
   "source": [
    "In this section we will review some of the algebraic and geometric concepts used in our understanding of calculus."
   ]
  },
  {
   "cell_type": "markdown",
   "metadata": {},
   "source": [
    "### Linear Algebra"
   ]
  },
  {
   "cell_type": "markdown",
   "metadata": {},
   "source": [
    "$$ y = mx + b $$"
   ]
  },
  {
   "cell_type": "code",
   "execution_count": 3,
   "metadata": {},
   "outputs": [],
   "source": [
    "# Preparing symbols\n",
    "y, y1, y2, x, x1, x2, m, b = sp.symbols('y, y_1, y_2, x, x_1, x_2, m, b')"
   ]
  },
  {
   "cell_type": "markdown",
   "metadata": {},
   "source": [
    "|Where: | |\n",
    "|:----------:|-------------:|\n",
    "| $y$ | The y component of a function |\n",
    "| $x$ | The x component of a function |\n",
    "| $y_1$ | The y coordinate of point 1 |\n",
    "| $y_2$ | The y coordinate of point 2 |\n",
    "| $x_1$ | The x coordinate of point 1 |\n",
    "| $x_2$ | The x coordinate of point 2 |\n",
    "| $m$ | The slope of a line |\n",
    "| $b$ | They y-intercept of a line |"
   ]
  },
  {
   "cell_type": "markdown",
   "metadata": {},
   "source": [
    "#### Fomulae\n",
    "\n",
    "|Name | Formula | Alternatively | Description |\n",
    "|:----------:|:-------------:|:----:|---:|\n",
    "|Slope | $$ m = \\frac{y_2 - y_1}{x_2 - x_1} $$ | $$ m = \\frac{\\text{rise}}{\\text{run}}$$ | Defines the slope of a line between two points. |\n",
    "|\n",
    "\n"
   ]
  }
 ],
 "metadata": {
  "kernelspec": {
   "display_name": "Python 3",
   "language": "python",
   "name": "python3"
  },
  "language_info": {
   "codemirror_mode": {
    "name": "ipython",
    "version": 3
   },
   "file_extension": ".py",
   "mimetype": "text/x-python",
   "name": "python",
   "nbconvert_exporter": "python",
   "pygments_lexer": "ipython3",
   "version": "3.10.8"
  }
 },
 "nbformat": 4,
 "nbformat_minor": 2
}
