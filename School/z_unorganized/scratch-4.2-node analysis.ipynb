{
 "cells": [
  {
   "cell_type": "code",
   "execution_count": 88,
   "metadata": {},
   "outputs": [],
   "source": [
    "import sympy as sp\n",
    "from IPython.display import display\n",
    "from matplotlib.ticker import EngFormatter"
   ]
  },
  {
   "cell_type": "code",
   "execution_count": 89,
   "metadata": {},
   "outputs": [],
   "source": [
    "engf = EngFormatter()"
   ]
  },
  {
   "cell_type": "code",
   "execution_count": 90,
   "metadata": {},
   "outputs": [],
   "source": [
    "class si :\n",
    "    \"\"\"\n",
    "    This is a simple class that provides an easy way to access the engineering prefixes for the metric system.\n",
    "    Example:\n",
    "        25*si.k results in 25_000\n",
    "    \"\"\"\n",
    "    Y = 10**24  # Yotta\n",
    "    Z = 10**21  # Zetta\n",
    "    E = 10**18  # Exa\n",
    "    P = 10**15  # Peta\n",
    "    T = 10**12  # Tera\n",
    "    G = 10**9   # Giga\n",
    "    M = 10**6   # Mega\n",
    "    k = 10**3   # kilo\n",
    "\n",
    "    m = 10**-3  # milli\n",
    "    µ = 10**-6  # micro\n",
    "    u = 10**-6  # micro ## so that we can type u instead of µ\n",
    "    n = 10**-9  # nano\n",
    "    p = 10**-12 # pico\n",
    "    f = 10**-15 # femto\n",
    "    a = 10**-18 # atto\n",
    "    z = 10**-21 # zepto\n",
    "    y = 10**-24 # yocto"
   ]
  },
  {
   "cell_type": "code",
   "execution_count": 91,
   "metadata": {},
   "outputs": [],
   "source": [
    "def cramers_rule(A,b):\n",
    "    display(A)\n",
    "    det_A = A.det()\n",
    "    print(f\"detA= {engf(det_A)}\\n\")\n",
    "\n",
    "    if det_A == 0:\n",
    "        raise ValueError(\"The $\\det(A)$ is zero; the system has no unique solution.\")\n",
    "    \n",
    "    solutions = []\n",
    "\n",
    "    for i in range(A.cols):\n",
    "        print(f'I={i}') #Be verbose about which iteration we are on\n",
    "        \n",
    "        A_i = A.copy() #\n",
    "        A_i[:, i] = b\n",
    "        display(A_i)\n",
    "        \n",
    "        det_Ai = A_i.det()\n",
    "        print(f\"det{i}= {engf(det_Ai)}\")\n",
    "        \n",
    "        sol = det_Ai/det_A\n",
    "        solutions.append(sol.evalf())\n",
    "        print(f\"sol{i}= {engf(sol)}\\n\")\n",
    "\n",
    "    return solutions"
   ]
  },
  {
   "cell_type": "markdown",
   "metadata": {},
   "source": [
    "### Node Analysis"
   ]
  },
  {
   "cell_type": "code",
   "execution_count": 92,
   "metadata": {},
   "outputs": [],
   "source": [
    "va, vb, vc = sp.symbols('V_a, V_b, V_c')"
   ]
  },
  {
   "cell_type": "code",
   "execution_count": 93,
   "metadata": {},
   "outputs": [
    {
     "data": {
      "text/latex": [
       "$\\displaystyle - \\frac{81 V_{b}}{11000} + \\frac{V_{c}}{1000} + \\frac{2}{55}$"
      ],
      "text/plain": [
       "-81*V_b/11000 + V_c/1000 + 2/55"
      ]
     },
     "execution_count": 93,
     "metadata": {},
     "output_type": "execute_result"
    }
   ],
   "source": [
    "#Sympy automatically simplifies the equation\n",
    "eq1 = (12-vb)/330 - (vb-vc)/1000 - vb/300\n",
    "eq1"
   ]
  },
  {
   "cell_type": "code",
   "execution_count": 94,
   "metadata": {},
   "outputs": [
    {
     "data": {
      "text/latex": [
       "$\\displaystyle \\frac{V_{b}}{1000} - \\frac{371 V_{c}}{58500} + \\frac{1}{30}$"
      ],
      "text/plain": [
       "V_b/1000 - 371*V_c/58500 + 1/30"
      ]
     },
     "execution_count": 94,
     "metadata": {},
     "output_type": "execute_result"
    }
   ],
   "source": [
    "eq2 = (12-vc)/360 - (vc-vb)/1000 - vc/390\n",
    "eq2"
   ]
  },
  {
   "cell_type": "code",
   "execution_count": 95,
   "metadata": {},
   "outputs": [
    {
     "data": {
      "text/latex": [
       "$\\displaystyle \\left[\\begin{matrix}- \\frac{81}{11000} & \\frac{1}{1000}\\\\\\frac{1}{1000} & - \\frac{371}{58500}\\end{matrix}\\right]$"
      ],
      "text/plain": [
       "Matrix([\n",
       "[-81/11000,     1/1000],\n",
       "[   1/1000, -371/58500]])"
      ]
     },
     "execution_count": 95,
     "metadata": {},
     "output_type": "execute_result"
    }
   ],
   "source": [
    "# We can programmatically pull the coefficients of each variable into a matrix\n",
    "A= sp.Matrix([\n",
    "    [eq1.coeff(vb), eq1.coeff(vc)],\n",
    "    [eq2.coeff(vb), eq2.coeff(vc)]\n",
    "])\n",
    "A"
   ]
  },
  {
   "cell_type": "code",
   "execution_count": 96,
   "metadata": {},
   "outputs": [
    {
     "data": {
      "text/latex": [
       "$\\displaystyle \\left[\\begin{matrix}\\frac{2}{55}\\\\\\frac{1}{30}\\end{matrix}\\right]$"
      ],
      "text/plain": [
       "Matrix([\n",
       "[2/55],\n",
       "[1/30]])"
      ]
     },
     "execution_count": 96,
     "metadata": {},
     "output_type": "execute_result"
    }
   ],
   "source": [
    "# And by zeroing out each variable we are left with the constants.\n",
    "b = sp.Matrix(\n",
    "    [\n",
    "        eq1.subs({va:0,vb:0,vc:0}),\n",
    "        eq2.subs({va:0,vb:0,vc:0})\n",
    "    ]\n",
    ")\n",
    "b"
   ]
  },
  {
   "cell_type": "code",
   "execution_count": 97,
   "metadata": {},
   "outputs": [
    {
     "data": {
      "text/latex": [
       "$\\displaystyle \\left[\\begin{matrix}- \\frac{81}{11000} & \\frac{1}{1000}\\\\\\frac{1}{1000} & - \\frac{371}{58500}\\end{matrix}\\right]$"
      ],
      "text/plain": [
       "Matrix([\n",
       "[-81/11000,     1/1000],\n",
       "[   1/1000, -371/58500]])"
      ]
     },
     "metadata": {},
     "output_type": "display_data"
    },
    {
     "name": "stdout",
     "output_type": "stream",
     "text": [
      "detA= 45.6993006993007 µ\n",
      "\n",
      "I=0\n"
     ]
    },
    {
     "data": {
      "text/latex": [
       "$\\displaystyle \\left[\\begin{matrix}\\frac{2}{55} & \\frac{1}{1000}\\\\\\frac{1}{30} & - \\frac{371}{58500}\\end{matrix}\\right]$"
      ],
      "text/plain": [
       "Matrix([\n",
       "[2/55,     1/1000],\n",
       "[1/30, -371/58500]])"
      ]
     },
     "metadata": {},
     "output_type": "display_data"
    },
    {
     "name": "stdout",
     "output_type": "stream",
     "text": [
      "det0= −263.947163947164 µ\n",
      "sol0= −5.77573748193488\n",
      "\n",
      "I=1\n"
     ]
    },
    {
     "data": {
      "text/latex": [
       "$\\displaystyle \\left[\\begin{matrix}- \\frac{81}{11000} & \\frac{2}{55}\\\\\\frac{1}{1000} & \\frac{1}{30}\\end{matrix}\\right]$"
      ],
      "text/plain": [
       "Matrix([\n",
       "[-81/11000, 2/55],\n",
       "[   1/1000, 1/30]])"
      ]
     },
     "metadata": {},
     "output_type": "display_data"
    },
    {
     "name": "stdout",
     "output_type": "stream",
     "text": [
      "det1= −281.818181818182 µ\n",
      "sol1= −6.16679418515685\n",
      "\n"
     ]
    },
    {
     "data": {
      "text/plain": [
       "[-5.77573748193488, -6.16679418515685]"
      ]
     },
     "execution_count": 97,
     "metadata": {},
     "output_type": "execute_result"
    }
   ],
   "source": [
    "sol = cramers_rule(A,b)\n",
    "sol"
   ]
  },
  {
   "cell_type": "markdown",
   "metadata": {},
   "source": [
    "### Resistor currents"
   ]
  },
  {
   "cell_type": "code",
   "execution_count": 98,
   "metadata": {},
   "outputs": [],
   "source": [
    "# Using capital V to avoid overwriting sympy symbols\n",
    "Va = 12\n",
    "Vb = -sol[0]\n",
    "Vc = -sol[1]"
   ]
  },
  {
   "cell_type": "code",
   "execution_count": 99,
   "metadata": {},
   "outputs": [
    {
     "data": {
      "text/plain": [
       "'18.8614015698943 m'"
      ]
     },
     "execution_count": 99,
     "metadata": {},
     "output_type": "execute_result"
    }
   ],
   "source": [
    "r1 = (Va-Vb)/330\n",
    "engf(r1)"
   ]
  },
  {
   "cell_type": "code",
   "execution_count": 100,
   "metadata": {},
   "outputs": [
    {
     "data": {
      "text/plain": [
       "'19.2524582731163 m'"
      ]
     },
     "execution_count": 100,
     "metadata": {},
     "output_type": "execute_result"
    }
   ],
   "source": [
    "r2 = (Vb - 0)/300\n",
    "engf(r2)"
   ]
  },
  {
   "cell_type": "code",
   "execution_count": 101,
   "metadata": {},
   "outputs": [
    {
     "data": {
      "text/plain": [
       "'16.2033494856754 m'"
      ]
     },
     "execution_count": 101,
     "metadata": {},
     "output_type": "execute_result"
    }
   ],
   "source": [
    "r3 = (Va-Vc)/360\n",
    "engf(r3)"
   ]
  },
  {
   "cell_type": "code",
   "execution_count": 102,
   "metadata": {},
   "outputs": [
    {
     "data": {
      "text/plain": [
       "'15.8122927824535 m'"
      ]
     },
     "execution_count": 102,
     "metadata": {},
     "output_type": "execute_result"
    }
   ],
   "source": [
    "r4 = (Vc - 0)/390\n",
    "engf(r4)"
   ]
  },
  {
   "cell_type": "code",
   "execution_count": 103,
   "metadata": {},
   "outputs": [
    {
     "data": {
      "text/plain": [
       "'391.056703221967 µ'"
      ]
     },
     "execution_count": 103,
     "metadata": {},
     "output_type": "execute_result"
    }
   ],
   "source": [
    "rl = (Vc-Vb)/1000\n",
    "engf(rl)"
   ]
  }
 ],
 "metadata": {
  "kernelspec": {
   "display_name": "Python 3",
   "language": "python",
   "name": "python3"
  },
  "language_info": {
   "codemirror_mode": {
    "name": "ipython",
    "version": 3
   },
   "file_extension": ".py",
   "mimetype": "text/x-python",
   "name": "python",
   "nbconvert_exporter": "python",
   "pygments_lexer": "ipython3",
   "version": "3.10.8"
  }
 },
 "nbformat": 4,
 "nbformat_minor": 2
}
