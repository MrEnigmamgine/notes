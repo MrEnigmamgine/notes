{
 "cells": [
  {
   "cell_type": "code",
   "execution_count": 1,
   "id": "8b297113",
   "metadata": {},
   "outputs": [],
   "source": [
    "import sympy as sp\n",
    "import numpy as np\n",
    "import pandas as pd\n",
    "import matplotlib.pyplot as plt"
   ]
  },
  {
   "cell_type": "code",
   "execution_count": 2,
   "id": "f39932e6",
   "metadata": {},
   "outputs": [],
   "source": [
    "class si :\n",
    "    \"\"\"\n",
    "    This is a simple class that provides an easy way to access the engineering prefixes for the metric system.\n",
    "    Example:\n",
    "        25*si.k results in 25_000\n",
    "    \"\"\"\n",
    "    Y = 10**24  # Yotta\n",
    "    Z = 10**21  # Zetta\n",
    "    E = 10**18  # Exa\n",
    "    P = 10**15  # Peta\n",
    "    T = 10**12  # Tera\n",
    "    G = 10**9   # Giga\n",
    "    M = 10**6   # Mega\n",
    "    k = 10**3   # kilo\n",
    "\n",
    "    m = 10**-3  # milli\n",
    "    µ = 10**-6  # micro\n",
    "    u = 10**-6  # micro ## so that we can type u instead of µ\n",
    "    n = 10**-9  # nano\n",
    "    p = 10**-12 # pico\n",
    "    f = 10**-15 # femto\n",
    "    a = 10**-18 # atto\n",
    "    z = 10**-21 # zepto\n",
    "    y = 10**-24 # yocto\n"
   ]
  },
  {
   "cell_type": "code",
   "execution_count": 3,
   "id": "61fefd52",
   "metadata": {},
   "outputs": [],
   "source": [
    "from matplotlib.ticker import EngFormatter\n",
    "\n",
    "engf = EngFormatter()\n",
    "\n",
    "def eng_format(value, unit=''):\n",
    "    f = EngFormatter(unit=unit)\n",
    "    return f(value)"
   ]
  },
  {
   "cell_type": "markdown",
   "id": "80acd802",
   "metadata": {},
   "source": [
    "## Inductor Maths:"
   ]
  },
  {
   "cell_type": "markdown",
   "id": "e496a034",
   "metadata": {},
   "source": [
    "### LR Time Constant\n",
    "This is the time that it takes for the inductor to accumulate or dissipate 63.7% of the stead-state energy.\n",
    "\n",
    "$$\n",
    "\\tau_L = \\frac{L}{R}\n",
    "$$"
   ]
  },
  {
   "cell_type": "code",
   "execution_count": null,
   "id": "6830437f",
   "metadata": {},
   "outputs": [],
   "source": [
    "def tau_l(L,R):\n",
    "    return L/R"
   ]
  },
  {
   "cell_type": "markdown",
   "id": "aaf82d57",
   "metadata": {},
   "source": [
    "### Back EMF ($\\varepsilon$)\n",
    "Inductor resist changes in current. If the current tries to change, the inductor reacts by inducing a voltage to resist that current.\n",
    "\n",
    "$$\n",
    "\\varepsilon = -L\\frac{di}{dt}\n",
    "$$\n",
    "\n",
    "Where:\n",
    " - $\\varepsilon$ = Resistance to change\n",
    " - $L$ = Inductance\n",
    " - $\\frac{di}{dt}$ = Rate of change of current over time"
   ]
  },
  {
   "cell_type": "code",
   "execution_count": 11,
   "id": "ffb093e2",
   "metadata": {},
   "outputs": [
    {
     "data": {
      "text/latex": [
       "$\\displaystyle \\varepsilon = - \\frac{L di}{dt}$"
      ],
      "text/plain": [
       "Eq(\\varepsilon, -L*di/dt)"
      ]
     },
     "execution_count": 11,
     "metadata": {},
     "output_type": "execute_result"
    }
   ],
   "source": [
    "emf, L, di, dt = sp.symbols(r'\\varepsilon L di dt')\n",
    "eq_emf_l = sp.Eq(emf, -L*(di/dt))\n",
    "eq_emf_l"
   ]
  },
  {
   "cell_type": "code",
   "execution_count": 13,
   "id": "c55669fe",
   "metadata": {},
   "outputs": [
    {
     "data": {
      "text/latex": [
       "$\\displaystyle - \\frac{\\varepsilon dt}{di}$"
      ],
      "text/plain": [
       "-\\varepsilon*dt/di"
      ]
     },
     "execution_count": 13,
     "metadata": {},
     "output_type": "execute_result"
    }
   ],
   "source": [
    "sp.solve(eq_emf_l, L)[0]"
   ]
  },
  {
   "cell_type": "code",
   "execution_count": 9,
   "id": "6812d1d0",
   "metadata": {},
   "outputs": [
    {
     "data": {
      "text/latex": [
       "$\\displaystyle V = I R$"
      ],
      "text/plain": [
       "Eq(V, I*R)"
      ]
     },
     "execution_count": 9,
     "metadata": {},
     "output_type": "execute_result"
    }
   ],
   "source": [
    "# As a reminder, voltage is a product of current and resistance\n",
    "I, V, R = sp.symbols('I V R')\n",
    "eq_ohms_law = sp.Eq(V, I*R)\n",
    "eq_ohms_law"
   ]
  }
 ],
 "metadata": {
  "kernelspec": {
   "display_name": "Python 3",
   "language": "python",
   "name": "python3"
  },
  "language_info": {
   "codemirror_mode": {
    "name": "ipython",
    "version": 3
   },
   "file_extension": ".py",
   "mimetype": "text/x-python",
   "name": "python",
   "nbconvert_exporter": "python",
   "pygments_lexer": "ipython3",
   "version": "3.13.2"
  }
 },
 "nbformat": 4,
 "nbformat_minor": 5
}
