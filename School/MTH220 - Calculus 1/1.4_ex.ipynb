{
 "cells": [
  {
   "cell_type": "code",
   "execution_count": 10,
   "id": "9f2b7453",
   "metadata": {},
   "outputs": [],
   "source": [
    "import numpy as np\n",
    "import pandas as pd\n",
    "import sympy as sp\n",
    "import math\n",
    "from sympy.plotting import plot\n",
    "import matplotlib.pyplot as plt"
   ]
  },
  {
   "cell_type": "markdown",
   "id": "21871127",
   "metadata": {},
   "source": [
    "MTH220  \n",
    "1.4 Assignment  \n",
    "06/21/2025  \n",
    "J.D.M  \n"
   ]
  },
  {
   "cell_type": "markdown",
   "id": "67480099",
   "metadata": {},
   "source": [
    "## Exercise 1"
   ]
  },
  {
   "cell_type": "markdown",
   "id": "b58af4fa",
   "metadata": {},
   "source": [
    "### Background"
   ]
  },
  {
   "cell_type": "markdown",
   "id": "710dabfb",
   "metadata": {},
   "source": [
    "There are many engineering applications in which we need to take the derivative of a function that is not known to us. For example, aerospace engineers must simulate the structural forces on a rocket booster passing through max-Q (the point of maximum aerodynamic pressure); and architects must model the effects of seismic stress on their buildings.\n",
    "\n",
    "In many instances, all an engineer will have available is data collected through experiment.  \n",
    "These situations can each be simulated using a branch of applied mathematics known as \"**finite difference methods**\".  \n"
   ]
  },
  {
   "attachments": {
    "image.png": {
     "image/png": "[encoded data removed]"
    }
   },
   "cell_type": "markdown",
   "id": "d4feb787",
   "metadata": {},
   "source": [
    "\n",
    "For example, let's say we're simulating the flow of air over the wing of a new airliner;  the aircraft is \"embedded\" in a three-dimensional \"mesh\", and the aerodynamic forces are calculated at each \"node\" point where the mesh lines intersect. This is the scenario we'll examine in this exercise.\n",
    "\n",
    "For this to work, we'll need to simulate something similar to the definition of the derivative.\n",
    "$$\n",
    "f'(x) = \\lim_{h \\to 0} \\frac{f(x + h) - f(x)}{h}\n",
    "$$\n",
    "\n",
    "If we're working with a uniform one-dimensional mesh -- with the distance between adjacent nodes being the \"mesh size\" h -- we create a situation where \n",
    "- $x_{i+1} = x+h$ \n",
    "- and \n",
    "- $x_{i-1} = x-h$\n",
    "  \n",
    "![image.png](attachment:image.png)  \n",
    "From: https://ecpi.instructure.com/courses/145238/assignments/4611501\n",
    "\n"
   ]
  },
  {
   "cell_type": "markdown",
   "id": "9d423c43",
   "metadata": {},
   "source": [
    "Since we don't know the function that provides the values, we can't take the limit as $h \\to 0$, but we can approximate it. To do so, the expression that we use changes slightly depending on which direction we are comparing values along the mesh.\n",
    "\n",
    "__**Forward difference**__\n",
    "$$\n",
    "f'(x_i) \\approxeq \\frac{f(x_{i+1}) - f(x_i)}{h}\n",
    "$$\n",
    "\n",
    "__**Backward difference**__\n",
    "$$\n",
    "f'(x_i) \\approxeq \\frac{f(x_{i}) - f(x_{i-1})}{h}\n",
    "$$\n",
    "\n",
    "Note that these are approximations to the value of the derivative, since we're not taking the limit as h goes to zero; but we can improve the approximation by taking the average of these two difference formulas:\n",
    "\n",
    "\n",
    "__**Centered difference**__\n",
    "$$\n",
    "f'(x_i) \\approxeq \\frac{1}{2} \\left( \\frac{f(x_{i+1}) - f(x_{i})}{h} + \\frac{f(x_{i}) - f(x_{i-1})}{h} \\right)\n",
    "$$\n",
    "Simplifies to:\n",
    "$$\n",
    "f'(x_i) \\approxeq \\frac{f(x_{i+1}) - f(x_{i-1})}{2h}\n",
    "$$\n",
    "\n"
   ]
  },
  {
   "cell_type": "markdown",
   "id": "58e04211",
   "metadata": {},
   "source": [
    "### The Assignment"
   ]
  },
  {
   "cell_type": "markdown",
   "id": "c4578350",
   "metadata": {},
   "source": [
    "Rather than directly working with a dataset, we are going to generate our own using a known formula. This way, we get to compare the results of our efforts with the known derivative of the formula. We'll also be interested in the specific point $x_i = 1.7$.\n",
    "\n",
    "$$\\begin{align*}\\Large\n",
    "f(x) &= 5x^4 - 9x^3 + 2 \\\\\n",
    "x_i &= 1.7\n",
    "\\end{align*}$$"
   ]
  },
  {
   "cell_type": "code",
   "execution_count": 8,
   "id": "43dc7f2e",
   "metadata": {},
   "outputs": [
    {
     "data": {
      "text/latex": [
       "$\\displaystyle 20 x^{3} - 27 x^{2}$"
      ],
      "text/plain": [
       "20*x**3 - 27*x**2"
      ]
     },
     "execution_count": 8,
     "metadata": {},
     "output_type": "execute_result"
    }
   ],
   "source": [
    "# Find the derivative of the above expression\n",
    "x = sp.symbols('x')\n",
    "expr = 5*x**4 - 9*x**3 + 2\n",
    "dy = sp.diff(expr, x)\n",
    "dy"
   ]
  },
  {
   "cell_type": "code",
   "execution_count": 9,
   "id": "e5d489b4",
   "metadata": {},
   "outputs": [
    {
     "data": {
      "text/latex": [
       "$\\displaystyle 20.23$"
      ],
      "text/plain": [
       "20.2300000000000"
      ]
     },
     "execution_count": 9,
     "metadata": {},
     "output_type": "execute_result"
    }
   ],
   "source": [
    "# Evaluate dx/dy at point x_i\n",
    "xi = 1.7\n",
    "dy.subs(x, xi)"
   ]
  },
  {
   "cell_type": "markdown",
   "id": "7ef3146d",
   "metadata": {},
   "source": [
    "Now that we know the actual derivative function and the value of $f'(x_i)$, let's apply the above concepts to see how well we can approximate the derivative using varying resolution of $h$."
   ]
  },
  {
   "cell_type": "code",
   "execution_count": null,
   "id": "dd3630ca",
   "metadata": {},
   "outputs": [],
   "source": [
    "# Define the functions we'll be using to generate data\n",
    "f = lambda x: 5*x**4 - 9*x**3 + 2\n",
    "\n",
    "def diff_forward(x,h):\n",
    "    return (f(x+h) - f(x))/h\n",
    "\n",
    "def diff_backward(x,h):\n",
    "    return (f(x) - (f(x-h)))/h\n",
    "\n",
    "def diff_centered(x,h):\n",
    "    return (diff_forward(x,h) + diff_backward(x,h))/2"
   ]
  },
  {
   "cell_type": "code",
   "execution_count": 42,
   "id": "5e7abd5d",
   "metadata": {},
   "outputs": [
    {
     "data": {
      "text/html": [
       "<div>\n",
       "<style scoped>\n",
       "    .dataframe tbody tr th:only-of-type {\n",
       "        vertical-align: middle;\n",
       "    }\n",
       "\n",
       "    .dataframe tbody tr th {\n",
       "        vertical-align: top;\n",
       "    }\n",
       "\n",
       "    .dataframe thead th {\n",
       "        text-align: right;\n",
       "    }\n",
       "</style>\n",
       "<table border=\"1\" class=\"dataframe\">\n",
       "  <thead>\n",
       "    <tr style=\"text-align: right;\">\n",
       "      <th></th>\n",
       "      <th>forward</th>\n",
       "      <th>backward</th>\n",
       "      <th>centered</th>\n",
       "      <th>exact</th>\n",
       "    </tr>\n",
       "  </thead>\n",
       "  <tbody>\n",
       "    <tr>\n",
       "      <th>0.1000</th>\n",
       "      <td>24.565000</td>\n",
       "      <td>16.395000</td>\n",
       "      <td>20.480000</td>\n",
       "      <td>20.23</td>\n",
       "    </tr>\n",
       "    <tr>\n",
       "      <th>0.0100</th>\n",
       "      <td>20.640505</td>\n",
       "      <td>19.824495</td>\n",
       "      <td>20.232500</td>\n",
       "      <td>20.23</td>\n",
       "    </tr>\n",
       "    <tr>\n",
       "      <th>0.0010</th>\n",
       "      <td>20.270825</td>\n",
       "      <td>20.189225</td>\n",
       "      <td>20.230025</td>\n",
       "      <td>20.23</td>\n",
       "    </tr>\n",
       "    <tr>\n",
       "      <th>0.0001</th>\n",
       "      <td>20.234080</td>\n",
       "      <td>20.225920</td>\n",
       "      <td>20.230000</td>\n",
       "      <td>20.23</td>\n",
       "    </tr>\n",
       "  </tbody>\n",
       "</table>\n",
       "</div>"
      ],
      "text/plain": [
       "          forward   backward   centered  exact\n",
       "0.1000  24.565000  16.395000  20.480000  20.23\n",
       "0.0100  20.640505  19.824495  20.232500  20.23\n",
       "0.0010  20.270825  20.189225  20.230025  20.23\n",
       "0.0001  20.234080  20.225920  20.230000  20.23"
      ]
     },
     "execution_count": 42,
     "metadata": {},
     "output_type": "execute_result"
    }
   ],
   "source": [
    "# Generate Data\n",
    "xi = 1.7\n",
    "\n",
    "table = {}\n",
    "for i in range(4):\n",
    "    h = 10**-(i+1)\n",
    "    table[h] = {\n",
    "        'forward': diff_forward(xi, h),\n",
    "        'backward': diff_backward(xi,h),\n",
    "        'centered': diff_centered(xi,h)\n",
    "    }\n",
    "\n",
    "df = pd.DataFrame(table).T\n",
    "df['exact'] = 20.23\n",
    "df"
   ]
  },
  {
   "cell_type": "code",
   "execution_count": null,
   "id": "92d4f257",
   "metadata": {},
   "outputs": [
    {
     "data": {
      "text/html": [
       "<div>\n",
       "<style scoped>\n",
       "    .dataframe tbody tr th:only-of-type {\n",
       "        vertical-align: middle;\n",
       "    }\n",
       "\n",
       "    .dataframe tbody tr th {\n",
       "        vertical-align: top;\n",
       "    }\n",
       "\n",
       "    .dataframe thead th {\n",
       "        text-align: right;\n",
       "    }\n",
       "</style>\n",
       "<table border=\"1\" class=\"dataframe\">\n",
       "  <thead>\n",
       "    <tr style=\"text-align: right;\">\n",
       "      <th></th>\n",
       "      <th>forward</th>\n",
       "      <th>backward</th>\n",
       "      <th>centered</th>\n",
       "      <th>exact</th>\n",
       "      <th>forward_error</th>\n",
       "      <th>centered_error</th>\n",
       "    </tr>\n",
       "  </thead>\n",
       "  <tbody>\n",
       "    <tr>\n",
       "      <th>0.1000</th>\n",
       "      <td>24.565000</td>\n",
       "      <td>16.395000</td>\n",
       "      <td>20.480000</td>\n",
       "      <td>20.23</td>\n",
       "      <td>4.335000</td>\n",
       "      <td>2.500000e-01</td>\n",
       "    </tr>\n",
       "    <tr>\n",
       "      <th>0.0100</th>\n",
       "      <td>20.640505</td>\n",
       "      <td>19.824495</td>\n",
       "      <td>20.232500</td>\n",
       "      <td>20.23</td>\n",
       "      <td>0.410505</td>\n",
       "      <td>2.500000e-03</td>\n",
       "    </tr>\n",
       "    <tr>\n",
       "      <th>0.0010</th>\n",
       "      <td>20.270825</td>\n",
       "      <td>20.189225</td>\n",
       "      <td>20.230025</td>\n",
       "      <td>20.23</td>\n",
       "      <td>0.040825</td>\n",
       "      <td>2.500000e-05</td>\n",
       "    </tr>\n",
       "    <tr>\n",
       "      <th>0.0001</th>\n",
       "      <td>20.234080</td>\n",
       "      <td>20.225920</td>\n",
       "      <td>20.230000</td>\n",
       "      <td>20.23</td>\n",
       "      <td>0.004080</td>\n",
       "      <td>2.500166e-07</td>\n",
       "    </tr>\n",
       "  </tbody>\n",
       "</table>\n",
       "</div>"
      ],
      "text/plain": [
       "          forward   backward   centered  exact  forward_error  centered_error\n",
       "0.1000  24.565000  16.395000  20.480000  20.23       4.335000    2.500000e-01\n",
       "0.0100  20.640505  19.824495  20.232500  20.23       0.410505    2.500000e-03\n",
       "0.0010  20.270825  20.189225  20.230025  20.23       0.040825    2.500000e-05\n",
       "0.0001  20.234080  20.225920  20.230000  20.23       0.004080    2.500166e-07"
      ]
     },
     "execution_count": 41,
     "metadata": {},
     "output_type": "execute_result"
    }
   ],
   "source": [
    "df['forward_error'] = df['forward'] -  df['exact']\n",
    "df['centered_error'] = df['centered'] - df['exact']\n",
    "df"
   ]
  },
  {
   "cell_type": "markdown",
   "id": "6bcacc75",
   "metadata": {},
   "source": [
    "#### Which formula yields a better approximation: The forward difference or the centered difference?\n",
    "Even at a resolution of 0.01, the centered difference approximation was showing values close to 20.23, so it would yield the better approximations.\n",
    "\n",
    "#### What effect does reducing the mesh size h have upon the accuracy of these approximations?\n",
    "The accuracy of these approximations gets better at smaller units of $h$. This is the foundation of calculus and why we take the limit as $h \\to 0$."
   ]
  }
 ],
 "metadata": {
  "kernelspec": {
   "display_name": "Python 3",
   "language": "python",
   "name": "python3"
  },
  "language_info": {
   "codemirror_mode": {
    "name": "ipython",
    "version": 3
   },
   "file_extension": ".py",
   "mimetype": "text/x-python",
   "name": "python",
   "nbconvert_exporter": "python",
   "pygments_lexer": "ipython3",
   "version": "3.13.2"
  }
 },
 "nbformat": 4,
 "nbformat_minor": 5
}
