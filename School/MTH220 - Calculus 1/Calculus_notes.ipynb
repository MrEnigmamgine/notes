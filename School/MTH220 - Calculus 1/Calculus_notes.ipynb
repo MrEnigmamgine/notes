{
 "cells": [
  {
   "cell_type": "code",
   "execution_count": 2,
   "id": "ac4d0d2d",
   "metadata": {},
   "outputs": [],
   "source": [
    "import numpy as np\n",
    "import sympy as sp\n",
    "from sympy.plotting import plot\n",
    "import matplotlib.pyplot as plt"
   ]
  },
  {
   "cell_type": "markdown",
   "id": "179f62df",
   "metadata": {},
   "source": [
    "### Derivatives Cheat Sheet:"
   ]
  },
  {
   "cell_type": "markdown",
   "id": "b2fc84c7",
   "metadata": {},
   "source": [
    "| Rule              | Function                          | Derivative                                              |\n",
    "|-------------------|-----------------------------------|---------------------------------------------------------|\n",
    "| Power Rule        | $x^n$                             | $n x^{n-1}$                                             |\n",
    "| Sum/Difference    | $f(x) + g(x)$                     | $f'(x) + g'(x)$                                         |\n",
    "| Constant Rule     | $c$                               | $0$                                                     |\n",
    "| Coefficient Rule  | $c \\cdot f(x)$                    | $c \\cdot f'(x)$                                         |\n",
    "| Product Rule      | $f(x) \\cdot g(x)$                 | $f'(x) g(x) + f(x) g'(x)$                               |\n",
    "| Quotient Rule     | $\\frac{f(x)}{g(x)}$               | $\\frac{f'(x) g(x) - f(x) g'(x)}{[g(x)]^2}$              |\n",
    "| Chain Rule        | $f(g(x))$                         | $f'(g(x)) \\cdot g'(x)$                                  |\n",
    "| Chain Rule        | $f(g(h(x)))$                      | $f'(g(h(x))) \\cdot g'(h(x)) \\cdot h'(x)$                |\n",
    "| $e$ and $\\log$    | | |\n",
    "| | $e^x$               | $e^x$                                     |\n",
    "| | $e^{ax}$            | $ae^{ax}$                                 |\n",
    "| | $a^x$               | $a^x \\ln a$                               |\n",
    "| | $\\ln x$             | $\\dfrac{1}{x}$                            |\n",
    "| | $\\log_a x$          | $\\dfrac{1}{x \\ln a}$                      |\n",
    "| Trig IDs          | | |\n",
    "| | $\\sin x$            | $\\cos x$                                  |\n",
    "| | $\\cos x$            | $-\\sin x$                                 |\n",
    "| | $\\tan x$            | $\\sec^2 x$                                |\n",
    "| | $\\cot x$            | $-\\csc^2 x$                               |\n",
    "| | $\\sec x$            | $\\sec x \\tan x$                           |\n",
    "| | $\\csc x$            | $-\\csc x \\cot x$                          |\n",
    "| Inverse Trig  IDs | | |\n",
    "| | $ \\sin^{-1}(x) $      | $ \\dfrac{1}{\\sqrt{1 - x^2}} $             |\n",
    "| | $ \\cos^{-1}(x) $      | $ -\\dfrac{1}{\\sqrt{1 - x^2}} $            |\n",
    "| | $ \\tan^{-1}(x) $      | $ \\dfrac{1}{1 + x^2} $                    |\n",
    "| | $ \\cot^{-1}(x) $      | $ -\\dfrac{1}{1 + x^2} $                   |\n",
    "| | $ \\sec^{-1}(x) $      | $ \\dfrac{1}{\\|x\\|\\sqrt{x^2 - 1}} $        |\n",
    "| | $ \\csc^{-1}(x) $      | $ -\\dfrac{1}{\\|x\\|\\sqrt{x^2 - 1}} $       |"
   ]
  },
  {
   "cell_type": "markdown",
   "id": "ce627a2f",
   "metadata": {},
   "source": [
    "### Integrals Cheat-sheet"
   ]
  },
  {
   "cell_type": "markdown",
   "id": "64b10628",
   "metadata": {},
   "source": [
    "| Rule              | Formula                            |\n",
    "|-------------------|-------------------------------------------------------------------------------|\n",
    "| Power Rule        | $ \\int [x^n] dx = \\frac{x^{n+1}}{n+1} + C \\bigg\\| n \\ne -1$ |\n",
    "| When $n = -1$  | $ \\int [x^{-1}] dx = \\ln(x) +C $     | \n",
    "| Volume rotated along axis        | $   \\pi \\int_a^b f(x)^2 dx$                              |\n",
    "| Mean | $ \\text{Avg} = \\frac{1}{b - a} \\int_a^b f(x)\\, dx$ |\n",
    "| Root mean square | $ \\text{RMS} = \\sqrt{\\frac{1}{b - a} \\int_a^b [f(x)]^2 \\, dx}$ |"
   ]
  },
  {
   "cell_type": "markdown",
   "id": "479710c0",
   "metadata": {},
   "source": [
    "### Unit Circle Cheat-sheet\n",
    "\n",
    "\n",
    "| $\\theta$ (rad)    | $\\theta$ (°) | $\\sin(\\theta)$        | $\\cos(\\theta)$        | $\\tan(\\theta)$        |\n",
    "|:-----------------:|:------------:|:---------------------:|:---------------------:|:---------------------:|\n",
    "| $0$               | $0^\\circ$    | $0$                   | $1$                   | $0$                   |\n",
    "| $\\frac{\\pi}{6}$   | $30^\\circ$   | $\\frac{1}{2}$         | $\\frac{\\sqrt{3}}{2}$  | $\\frac{\\sqrt{3}}{3}$  |\n",
    "| $\\frac{\\pi}{4}$   | $45^\\circ$   | $\\frac{\\sqrt{2}}{2}$  | $\\frac{\\sqrt{2}}{2}$  | $1$                   |\n",
    "| $\\frac{\\pi}{3}$   | $60^\\circ$   | $\\frac{\\sqrt{3}}{2}$  | $\\frac{1}{2}$         | $\\sqrt{3}$            |\n",
    "| $\\frac{\\pi}{2}$   | $90^\\circ$   | $1$                   | $0$                   | undefined             |\n",
    "| $\\frac{2\\pi}{3}$  | $120^\\circ$  | $\\frac{\\sqrt{3}}{2}$  | $-\\frac{1}{2}$        | $-\\sqrt{3}$           |\n",
    "| $\\frac{3\\pi}{4}$  | $135^\\circ$  | $\\frac{\\sqrt{2}}{2}$  | $-\\frac{\\sqrt{2}}{2}$ | $-1$                  |\n",
    "| $\\frac{5\\pi}{6}$  | $150^\\circ$  | $\\frac{1}{2}$         | $-\\frac{\\sqrt{3}}{2}$ | $-\\frac{\\sqrt{3}}{3}$ |\n",
    "| $\\pi$             | $180^\\circ$  | $0$                   | $-1$                  | $0$                   |\n",
    "| $\\frac{7\\pi}{6}$  | $210^\\circ$  | $-\\frac{1}{2}$        | $-\\frac{\\sqrt{3}}{2}$ | $\\frac{\\sqrt{3}}{3}$  |\n",
    "| $\\frac{5\\pi}{4}$  | $225^\\circ$  | $-\\frac{\\sqrt{2}}{2}$ | $-\\frac{\\sqrt{2}}{2}$ | $1$                   |\n",
    "| $\\frac{4\\pi}{3}$  | $240^\\circ$  | $-\\frac{\\sqrt{3}}{2}$ | $-\\frac{1}{2}$        | $\\sqrt{3}$            |\n",
    "| $\\frac{3\\pi}{2}$  | $270^\\circ$  | $-1$                  | $0$                   | undefined             |\n",
    "| $\\frac{5\\pi}{3}$  | $300^\\circ$  | $-\\frac{\\sqrt{3}}{2}$ | $\\frac{1}{2}$         | $-\\sqrt{3}$           |\n",
    "| $\\frac{7\\pi}{4}$  | $315^\\circ$  | $-\\frac{\\sqrt{2}}{2}$ | $\\frac{\\sqrt{2}}{2}$  | $-1$                  |\n",
    "| $\\frac{11\\pi}{6}$ | $330^\\circ$  | $-\\frac{1}{2}$        | $\\frac{\\sqrt{3}}{2}$  | $-\\frac{\\sqrt{3}}{3}$ |\n",
    "| $2\\pi$            | $360^\\circ$  | $0$                   | $1$                   | $0$                   |"
   ]
  },
  {
   "cell_type": "markdown",
   "id": "3defb829",
   "metadata": {},
   "source": [
    "# Derivatives"
   ]
  },
  {
   "cell_type": "markdown",
   "id": "df109951",
   "metadata": {},
   "source": [
    "### Definition of derivative"
   ]
  },
  {
   "cell_type": "markdown",
   "id": "4fae92a4",
   "metadata": {},
   "source": [
    "$$\\Large\n",
    "f'(x) = \\lim_{h \\to 0} \\frac{f(x + h) - f(x)}{h}\n",
    "$$\n"
   ]
  },
  {
   "cell_type": "markdown",
   "id": "82377f00",
   "metadata": {},
   "source": [
    "In general, the derivative is the instantaneous rate of change at a specific point in a expression.  \n",
    "To illustrate this, let's examine a specific expression: $f(x) = \\sqrt{x}$."
   ]
  },
  {
   "cell_type": "code",
   "execution_count": 3,
   "id": "1cc7211c",
   "metadata": {},
   "outputs": [
    {
     "data": {
      "image/png": "[encoded data removed]",
      "text/plain": [
       "<Figure size 800x500 with 1 Axes>"
      ]
     },
     "metadata": {},
     "output_type": "display_data"
    }
   ],
   "source": [
    "## Generate a plot to illustrate derivative definition\n",
    "\n",
    "# Define the function\n",
    "f = lambda x: np.sqrt(x)  # example function\n",
    "x = 0.5\n",
    "h = 1\n",
    "x_values = np.linspace(0, 3, 400)\n",
    "y_values = f(x_values)\n",
    "dy_values = np.diff\n",
    "\n",
    "plt.figure(figsize=(8, 5))\n",
    "plt.plot(x_values, y_values, label=r'$f(x)$')\n",
    "\n",
    "# # Red line across the range\n",
    "slope = (f(x + h) - f(x)) / h\n",
    "red_line_values = f(x) + slope * (x_values - x)\n",
    "plt.plot(x_values, red_line_values, color='red', label='secant')\n",
    "\n",
    "# # Points and labels\n",
    "plt.plot(x, f(x), 'ko')\n",
    "plt.plot(x + h, f(x + h), 'ko')\n",
    "plt.annotate(r'$(x, f(x))$', (x, f(x)), textcoords=\"offset points\", xytext=(-30,10), arrowprops=dict(arrowstyle='->'))\n",
    "plt.annotate(r'$(x+h, f(x+h))$', (x + h, f(x + h)), textcoords=\"offset points\", xytext=(-30,10), arrowprops=dict(arrowstyle='->'))\n",
    "\n",
    "# Vertical lines\n",
    "plt.vlines(x, 0, f(x), linestyle='dashed', color='gray')\n",
    "plt.vlines(x + h, 0, f(x + h), linestyle='dashed', color='gray')\n",
    "\n",
    "# Labels for x and x + h\n",
    "plt.text(x , -0.05, 'x', fontsize=12, ha='left')\n",
    "plt.text(x + h, -0.05, 'x+h', fontsize=12, ha='left')\n",
    "\n",
    "plt.legend()\n",
    "plt.title(r'$f(x) = \\sqrt{x}, h=\\frac{1}{10}$')\n",
    "plt.show()"
   ]
  },
  {
   "cell_type": "markdown",
   "id": "144ccc3c",
   "metadata": {},
   "source": [
    "We want to determine the slope of the line that forms between two points when the values of x are a certain distance from one another.  \n",
    "We'll call this distance $h$.\n",
    "\n",
    "Recall that the slope ($m$) of a line between two points can be found like so:\n",
    "$$ m = \\frac{\\text{rise}}{\\text{run}} = \\frac{y_2 - y_1}{x_2 - x_1} $$\n",
    "\n",
    "Since we are dealing with a function we can express this slope formula in terms of the function:\n",
    "$$ m = \\frac{f(x_2) - f(x_1)}{x_2 - x_1} $$\n",
    "\n",
    "We also have somewhat of a definition of what our x values are, so we can further substitute:\n",
    "$$ m = \\frac{f(x+h) - f(x)}{(x+h) - (x)} $$\n",
    "\n",
    "The x in the denominator will cancel out, leaving us with a definition for the slope that is very similar to the definition of the derivative:\n",
    "$$ m = \\frac{f(x+h) - f(x)}{h} $$\n",
    "\n",
    "In the illustration above, notice that the red line isn't very accurate. But as we use smaller values for $h$, the line will become more accurate.  \n",
    "For this reason we'll take the limit of the slope as h approaches 0:\n",
    "$$ \\lim_{h \\to 0} m = \\lim_{h \\to 0} \\frac{f(x + h) - f(x)}{h} $$\n",
    "\n",
    "Now we arrive at our definition for the derivative.  \n",
    "If $f(x)$ is a function, and the limit as $h \\to 0$ exists, then the derivative of $f$ at a point $x$ is:\n",
    "$$\n",
    "f'(x) = \\lim_{h \\to 0} \\frac{f(x + h) - f(x)}{h}\n",
    "$$\n",
    "\n"
   ]
  },
  {
   "cell_type": "markdown",
   "id": "f5b7d971",
   "metadata": {},
   "source": [
    "### Properties of Derivatives\n"
   ]
  },
  {
   "cell_type": "markdown",
   "id": "a5d9e1e2",
   "metadata": {},
   "source": [
    "| Rule              | Function                          | Derivative                                              |\n",
    "|-------------------|-----------------------------------|---------------------------------------------------------|\n",
    "| **Constant Rule** | $c$                               | $0$                                                     |\n",
    "| **Power Rule**    | $x^n$                             | $n x^{n-1}$                                             |\n",
    "| **Coefficient Rule** | $c \\cdot f(x)$                 | $c \\cdot f'(x)$                                         |\n",
    "| **Sum/Difference Rule** | $f(x) + g(x)$               | $f'(x) + g'(x)$                                         |\n",
    "| **Product Rule**  | $f(x) \\cdot g(x)$                 | $f'(x) g(x) + f(x) g'(x)$                               |\n",
    "| **Quotient Rule** | $\\frac{f(x)}{g(x)}$               | $\\frac{f'(x) g(x) - f(x) g'(x)}{[g(x)]^2}$              |\n",
    "| **Chain Rule**    | $f(g(x))$                         | $f'(g(x)) \\cdot g'(x)$                                  |\n",
    "| **Chain Rule**    | $f(g(h(x)))$                      | $f'(g(h(x))) \\cdot g'(h(x)) \\cdot h'(x)$                |\n"
   ]
  },
  {
   "cell_type": "markdown",
   "id": "5861028a",
   "metadata": {},
   "source": [
    "#### expanded"
   ]
  },
  {
   "cell_type": "markdown",
   "id": "fd76efaf",
   "metadata": {},
   "source": [
    "\n",
    "If $f(x)$ and $g(x)$ are differentiable functions and $c$ is a constant, the following properties apply:\n",
    "\n",
    "- **Constant Rule**  \n",
    "    The derivative of a constant is $0$.\n",
    "    $$\\Large \\frac{d}{dx}[c] = 0 $$\n",
    "\n",
    "- **Power Rule**  \n",
    "    If $n$ is any real number, the derivative of $x^n$ is $n x^{n-1}$.\n",
    "    $$\\Large \\frac{d}{dx}[x^n] = n x^{n-1} $$\n",
    "\n",
    "- **Coefficient Rule**  \n",
    "    A coefficient can be factored out of the derivative.\n",
    "    $$\\Large \\frac{d}{dx}[c \\cdot f(x)] = c \\cdot f'(x) $$\n",
    "\n",
    "- **Sum/Difference Rule**  \n",
    "    The derivative of a sum  is the sum of the derivatives.\n",
    "    $$\\Large \\frac{d}{dx}[f(x) + g(x)] = f'(x) + g'(x) $$\n",
    "\n",
    "- **Product Rule**  \n",
    "    The derivative of a product is the first times the derivative of the second, plus the second times the derivative of the first.\n",
    "    $$\\Large \\frac{d}{dx}[f(x) g(x)] = f'(x) g(x) + f(x) g'(x) $$\n",
    "\n",
    "- **Quotient Rule**  \n",
    "    The derivative of a quotient is the denominator times the derivative of the numerator, minus the numerator times the derivative of the denominator, all over the denominator squared.\n",
    "    $$\\Large \\frac{d}{dx} \\!\\!\\left[\\frac{f(x)}{g(x)}\\right] = \\frac{f'(x) g(x) - f(x) g'(x)}{[g(x)]^2} $$\n",
    "\n",
    "- **Chain Rule**  \n",
    "    The derivative of a composition is the derivative of the outer function evaluated at the inner, times the derivative of the inner function.\n",
    "    $$\\Large \\frac{d}{dx}[f(g(x))] = f'(g) \\cdot g'(x) $$"
   ]
  },
  {
   "cell_type": "markdown",
   "id": "a93eafb1",
   "metadata": {},
   "source": [
    "### Derivatives of Logarithmic functions"
   ]
  },
  {
   "cell_type": "markdown",
   "id": "81697324",
   "metadata": {},
   "source": [
    "| Function            | Derivative                               |\n",
    "|---------------------|------------------------------------------|\n",
    "| $e^x$               | $e^x$                                    |\n",
    "| $e^{ax}$            | $ae^{ax}$                                |\n",
    "| $a^x$               | $a^x \\ln a$                              |\n",
    "| $\\ln x$             | $\\dfrac{1}{x}$                           |\n",
    "| $\\log_a x$          | $\\dfrac{1}{x \\ln a}$                     |\n"
   ]
  },
  {
   "cell_type": "markdown",
   "id": "84f5bbd6",
   "metadata": {},
   "source": [
    "$$\n",
    "\\frac{d}{dx}[\\log_b(x)] = \\frac{1}{x\\ln(b)}\n",
    "$$"
   ]
  },
  {
   "cell_type": "markdown",
   "id": "1f55b7be",
   "metadata": {},
   "source": [
    "$$ \n",
    "\\begin{align*}\n",
    "\\frac{d}{dx}[e^x] &= e^x \\\\ \\\\\n",
    "\\frac{d}{dx}[e^{ax}] &= ae^{ax}\n",
    "\\end{align*}\n",
    "$$"
   ]
  },
  {
   "cell_type": "markdown",
   "id": "93794da5",
   "metadata": {},
   "source": [
    "### Derivatives of Trigonometric functions"
   ]
  },
  {
   "cell_type": "markdown",
   "id": "7d5ef572",
   "metadata": {},
   "source": [
    "\n",
    "#### Summary Table\n"
   ]
  },
  {
   "cell_type": "markdown",
   "id": "147e69c7",
   "metadata": {},
   "source": [
    "| Function | Derivative |\n",
    "|----------|------------|\n",
    "| $\\sin x$ | $\\cos x$ |\n",
    "| $\\cos x$ | $-\\sin x$ |\n",
    "| $\\tan x$ | $\\sec^2 x$ |\n",
    "| $\\cot x$ | $-\\csc^2 x$ |\n",
    "| $\\sec x$ | $\\sec x \\tan x$ |\n",
    "| $\\csc x$ | $-\\csc x \\cot x$ |\n"
   ]
  },
  {
   "cell_type": "markdown",
   "id": "426fe219",
   "metadata": {},
   "source": [
    "| Function           | Derivative                           |\n",
    "|--------------------|--------------------------------------|\n",
    "| $ \\sin^{-1}(x) $ | $ \\dfrac{1}{\\sqrt{1 - x^2}} $       |\n",
    "| $ \\cos^{-1}(x) $ | $ -\\dfrac{1}{\\sqrt{1 - x^2}} $      |\n",
    "| $ \\tan^{-1}(x) $ | $ \\dfrac{1}{1 + x^2} $               |\n",
    "| $ \\cot^{-1}(x) $ | $ -\\dfrac{1}{1 + x^2} $              |\n",
    "| $ \\sec^{-1}(x) $ | $ \\dfrac{1}{\\|x\\|\\sqrt{x^2 - 1}} $    |\n",
    "| $ \\csc^{-1}(x) $ | $ -\\dfrac{1}{\\|x\\|\\sqrt{x^2 - 1}} $  |\n"
   ]
  },
  {
   "cell_type": "markdown",
   "id": "853cd8d3",
   "metadata": {},
   "source": [
    "#### Individual Expressions"
   ]
  },
  {
   "cell_type": "markdown",
   "id": "eca8c36b",
   "metadata": {},
   "source": [
    "- **Sine**\n",
    "  $$\n",
    "  \\frac{d}{dx}(\\sin x) = \\cos x\n",
    "  $$\n",
    "\n",
    "- **Cosine**\n",
    "  $$\n",
    "  \\frac{d}{dx}(\\cos x) = -\\sin x\n",
    "  $$\n",
    "\n",
    "- **Tangent**\n",
    "  $$\n",
    "  \\frac{d}{dx}(\\tan x) = \\sec^2 x\n",
    "  $$\n",
    "\n",
    "- **Cotangent**\n",
    "  $$\n",
    "  \\frac{d}{dx}(\\cot x) = -\\csc^2 x\n",
    "  $$\n",
    "\n",
    "- **Secant**\n",
    "  $$\n",
    "  \\frac{d}{dx}(\\sec x) = \\sec x \\tan x\n",
    "  $$\n",
    "\n",
    "- **Cosecant**\n",
    "  $$\n",
    "  \\frac{d}{dx}(\\csc x) = -\\csc x \\cot x\n",
    "  $$\n"
   ]
  },
  {
   "cell_type": "markdown",
   "id": "4048860b",
   "metadata": {},
   "source": [
    "## Derivatives in SymPy"
   ]
  },
  {
   "cell_type": "code",
   "execution_count": 4,
   "id": "4d094273",
   "metadata": {},
   "outputs": [
    {
     "data": {
      "text/plain": [
       "np.float64(0.5176380902050414)"
      ]
     },
     "execution_count": 4,
     "metadata": {},
     "output_type": "execute_result"
    }
   ],
   "source": [
    "# We'll start with the difference quotient / definition of derivative\n",
    "diff_quotient = (f(x + h) - f(x)) / h\n",
    "diff_quotient"
   ]
  },
  {
   "cell_type": "code",
   "execution_count": 5,
   "id": "5b863000",
   "metadata": {},
   "outputs": [],
   "source": [
    "h, a, b, c, m, n, p, x, y, z = sp.symbols('h, a, b, c, m, n, p, x, y, z')\n",
    "f = sp.Function('f')"
   ]
  },
  {
   "cell_type": "code",
   "execution_count": 6,
   "id": "8f855e0b",
   "metadata": {},
   "outputs": [
    {
     "data": {
      "application/vnd.jupyter.widget-view+json": {
       "model_id": "dfe36a7f1943425d8f30c7c839e74973",
       "version_major": 2,
       "version_minor": 0
      },
      "text/plain": [
       "interactive(children=(FloatSlider(value=2.0, description='h', max=2.0, min=0.01, step=0.01), Output()), _dom_c…"
      ]
     },
     "metadata": {},
     "output_type": "display_data"
    },
    {
     "data": {
      "text/plain": [
       "<function __main__.plot_derivative(h=1.0)>"
      ]
     },
     "execution_count": 6,
     "metadata": {},
     "output_type": "execute_result"
    }
   ],
   "source": [
    "#Derivative definition demo\n",
    "import numpy as np\n",
    "import matplotlib.pyplot as plt\n",
    "from ipywidgets import interact, FloatSlider\n",
    "\n",
    "# Define the function\n",
    "f = lambda x: np.sqrt(x**3+1)\n",
    "x = 0.5\n",
    "x_values = np.linspace(0, 3, 400)\n",
    "y_values = f(x_values)\n",
    "\n",
    "def plot_derivative(h=1.0):\n",
    "    plt.figure(figsize=(8,5))\n",
    "    plt.plot(x_values, y_values, label=r'$f(x)$')\n",
    "\n",
    "    slope = (f(x + h) - f(x)) / h\n",
    "    red_line_values = f(x) + slope * (x_values - x)\n",
    "    plt.plot(x_values, red_line_values, color='red', label='slope')\n",
    "\n",
    "    plt.plot([x, x + h], [f(x), f(x + h)], 'ko')\n",
    "    plt.vlines([x, x + h], [0, 0], [f(x), f(x + h)], linestyles='dashed', colors='gray')\n",
    "    plt.text(x, -0.05, 'x', fontsize=12, ha='left')\n",
    "    plt.text(x + h, -0.05, 'x+h', fontsize=12, ha='left')\n",
    "\n",
    "    # plt.annotate(r'$(x_i)$', (x, f(x)), textcoords=\"offset points\", xytext=(-30,10), arrowprops=dict(arrowstyle='->'))\n",
    "    # plt.annotate(r'$(x_i+h)$', (x + h, f(x + h)), textcoords=\"offset points\", xytext=(-30,10), arrowprops=dict(arrowstyle='->'))\n",
    "\n",
    "    plt.legend()\n",
    "    plt.ylim(bottom=-0.1)\n",
    "    plt.show()\n",
    "\n",
    "interact(plot_derivative, h=FloatSlider(min=0.01, max=2, step=0.01, value=2))\n"
   ]
  },
  {
   "cell_type": "markdown",
   "id": "449a90d9",
   "metadata": {},
   "source": [
    "## Useful Functions"
   ]
  },
  {
   "cell_type": "code",
   "execution_count": 7,
   "id": "0eae73c3",
   "metadata": {},
   "outputs": [],
   "source": [
    "x = sp.symbols('x')"
   ]
  },
  {
   "cell_type": "markdown",
   "id": "3ffe92cd",
   "metadata": {},
   "source": [
    "### Quotient Rule"
   ]
  },
  {
   "cell_type": "markdown",
   "id": "3193de70",
   "metadata": {},
   "source": [
    "   $$\\Large \\frac{d}{dx} \\!\\!\\left[\\frac{f(x)}{g(x)}\\right] = \\frac{f'(x) g(x) - f(x) g'(x)}{[g(x)]^2} $$"
   ]
  },
  {
   "cell_type": "code",
   "execution_count": 8,
   "id": "d73a7e68",
   "metadata": {},
   "outputs": [
    {
     "data": {
      "text/latex": [
       "$\\displaystyle \\frac{14 x}{\\left(x^{2} + 2\\right)^{2}}$"
      ],
      "text/plain": [
       "14*x/(x**2 + 2)**2"
      ]
     },
     "execution_count": 8,
     "metadata": {},
     "output_type": "execute_result"
    }
   ],
   "source": [
    "# Differentiate using the quotient rule\n",
    "# Displays in format accepted by Pearson MyLab\n",
    "def quotient_rule(expr, wrt=x):\n",
    "    # Extract the numerator and denominator\n",
    "    hi, lo = expr.as_numer_denom()\n",
    "    # Find their derivatives individually\n",
    "    d_hi = hi.diff(wrt)\n",
    "    d_lo = lo.diff(wrt)\n",
    "    # Apply the quotient rule formula\n",
    "    top =  lo*d_hi - hi*d_lo # I named the variables to mimic the mnemonic\n",
    "    bottom = lo*lo \n",
    "    return sp.simplify(top.expand())/bottom\n",
    "\n",
    "# Demo\n",
    "expr = (6*x**2+5)/(x**2+2)\n",
    "quotient_rule(expr, x)"
   ]
  },
  {
   "cell_type": "markdown",
   "id": "c55379fc",
   "metadata": {},
   "source": [
    "### Implicit differentiation"
   ]
  },
  {
   "cell_type": "code",
   "execution_count": 9,
   "id": "837f539c",
   "metadata": {},
   "outputs": [
    {
     "data": {
      "text/latex": [
       "$\\displaystyle - \\frac{x{\\left(t \\right)} \\frac{d}{d t} x{\\left(t \\right)}}{3 y{\\left(t \\right)} + 1}$"
      ],
      "text/plain": [
       "-x(t)*Derivative(x(t), t)/(3*y(t) + 1)"
      ]
     },
     "metadata": {},
     "output_type": "display_data"
    }
   ],
   "source": [
    "# Note: This is typically easier to do by hand\n",
    "\n",
    "def implicit_diff(expr, wrt=x, solve_for=y, return_dict=False):\n",
    "    # Treat every variable as a function of a single variable (which is implied)\n",
    "    funcs = {}\n",
    "    syms = {}\n",
    "    for var in expr.free_symbols:\n",
    "        func = sp.Function(str(var))(wrt)\n",
    "        funcs[var] = func\n",
    "        syms[func] = var\n",
    "    expr_funcs = expr.subs(funcs)\n",
    "    # Differentiate the entire thing with respect to your variable\n",
    "    diff_expr_funcs = expr_funcs.diff(wrt)\n",
    "    # Solve for the derivative that you want\n",
    "    solution = sp.solve(diff_expr_funcs, funcs[solve_for].diff())\n",
    "    \n",
    "    if return_dict:\n",
    "        output = {\n",
    "            'solution': solution,\n",
    "            'functions': funcs,\n",
    "            'symbols': syms,\n",
    "        }\n",
    "        return output\n",
    "    else:\n",
    "        return solution\n",
    "    \n",
    "# Demo\n",
    "expr = x**2 +3*y**2 +2*y -44\n",
    "t = sp.symbols('t') # wrt does not need to be in the expression\n",
    "for sol in implicit_diff(expr, t, y):\n",
    "    display(sol)"
   ]
  },
  {
   "cell_type": "markdown",
   "id": "62f8b5ff",
   "metadata": {},
   "source": [
    "### Finding the tangent at a point"
   ]
  },
  {
   "cell_type": "code",
   "execution_count": 10,
   "id": "c44a687c",
   "metadata": {},
   "outputs": [
    {
     "data": {
      "text/latex": [
       "$\\displaystyle 10 x - 25$"
      ],
      "text/plain": [
       "10*x - 25"
      ]
     },
     "metadata": {},
     "output_type": "display_data"
    },
    {
     "data": {
      "image/png": "[encoded data removed]",
      "text/plain": [
       "<Figure size 640x480 with 1 Axes>"
      ]
     },
     "metadata": {},
     "output_type": "display_data"
    },
    {
     "data": {
      "text/plain": [
       "<sympy.plotting.backends.matplotlibbackend.matplotlib.MatplotlibBackend at 0x2183e7e34d0>"
      ]
     },
     "execution_count": 10,
     "metadata": {},
     "output_type": "execute_result"
    }
   ],
   "source": [
    "def get_tangent_at(expr, loc, wrt=x):\n",
    "    slope = expr.diff(wrt).subs(wrt, loc)\n",
    "    y_val = expr.subs(wrt, loc)\n",
    "    y_intercept =  y_val - slope*loc\n",
    "    tangent_line = slope*wrt + y_intercept\n",
    "    return tangent_line\n",
    "\n",
    "# Demo\n",
    "expr = x**2\n",
    "tangent_line = get_tangent_at(expr, 5)\n",
    "display(tangent_line)\n",
    "sp.plot(expr, tangent_line)"
   ]
  },
  {
   "cell_type": "markdown",
   "id": "a6305ce5",
   "metadata": {},
   "source": [
    "### Newton's Method for approximating roots"
   ]
  },
  {
   "cell_type": "code",
   "execution_count": 11,
   "id": "26942342",
   "metadata": {},
   "outputs": [],
   "source": [
    "def newton_method(expr, x0, wrt=x, tol=1e-6, max_iter=20, print_steps=True):\n",
    "    # Start with finding the derivative of our expression\n",
    "    d_expr = expr.diff(wrt) \n",
    "    # Convert both into numerical functions\n",
    "    f = sp.lambdify(wrt, expr)\n",
    "    df = sp.lambdify(wrt, d_expr)\n",
    "    \n",
    "    xi = x0 # Start with current guess\n",
    "    for i in range(max_iter):\n",
    "        yi = f(xi)  # Current y-value\n",
    "        mi = df(xi) # Current slope\n",
    "        # We need to make sure slope is not 0\n",
    "        if mi == 0:\n",
    "            raise ZeroDivisionError(\"Derivative is zero. No convergence.\")\n",
    "        # Find the x-intercept of the tangent line\n",
    "        x_intercept = xi - yi/mi\n",
    "        # The x-intercept is closer to the root so it becomes the next guess\n",
    "        x_next = x_intercept\n",
    "\n",
    "        if print_steps:\n",
    "            print(f\"Step {i+1}: x = {x_next}\")\n",
    "\n",
    "        # Check how much our guess improved\n",
    "        if abs(x_next - xi) < tol:\n",
    "            if print_steps:\n",
    "                print(f\"Root ≈ {x_next}\")\n",
    "            return x_next\n",
    "        \n",
    "        xi = x_next # Set the guess for next loop\n",
    "\n",
    "    # If loop runs fully, failed to converge\n",
    "    raise RuntimeError(\"Newton's method did not converge.\")\n",
    "                \n"
   ]
  },
  {
   "cell_type": "code",
   "execution_count": 12,
   "id": "4918ba7f",
   "metadata": {},
   "outputs": [
    {
     "name": "stdout",
     "output_type": "stream",
     "text": [
      "Step 1: x = -1.7551020408163265\n",
      "Step 2: x = -1.6355674577929233\n",
      "Step 3: x = -1.6047465409383252\n",
      "Step 4: x = -1.6027923119552068\n",
      "Step 5: x = -1.6027847153147958\n",
      "Step 6: x = -1.6027847152002952\n",
      "Root ≈ -1.6027847152002952\n"
     ]
    },
    {
     "data": {
      "text/plain": [
       "-1.6027847152002952"
      ]
     },
     "execution_count": 12,
     "metadata": {},
     "output_type": "execute_result"
    }
   ],
   "source": [
    "expr = 4*x**4 +6*x**3 -3*x**2 -5*x -2\n",
    "newton_method(expr, -2)"
   ]
  },
  {
   "cell_type": "code",
   "execution_count": 13,
   "id": "8580e46b",
   "metadata": {},
   "outputs": [
    {
     "data": {
      "text/latex": [
       "$\\displaystyle 1.0$"
      ],
      "text/plain": [
       "1.00000000000000"
      ]
     },
     "metadata": {},
     "output_type": "display_data"
    },
    {
     "data": {
      "text/latex": [
       "$\\displaystyle -0.448607642399852 + 0.332728475576407 i$"
      ],
      "text/plain": [
       "-0.448607642399852 + 0.332728475576407*I"
      ]
     },
     "metadata": {},
     "output_type": "display_data"
    },
    {
     "data": {
      "text/latex": [
       "$\\displaystyle -0.448607642399852 - 0.332728475576407 i$"
      ],
      "text/plain": [
       "-0.448607642399852 - 0.332728475576407*I"
      ]
     },
     "metadata": {},
     "output_type": "display_data"
    },
    {
     "data": {
      "text/latex": [
       "$\\displaystyle -1.6027847152003$"
      ],
      "text/plain": [
       "-1.60278471520030"
      ]
     },
     "metadata": {},
     "output_type": "display_data"
    }
   ],
   "source": [
    "# Compare approximation to actual roots\n",
    "for sol in sp.solve(expr, x):\n",
    "    display(sol.evalf())"
   ]
  },
  {
   "cell_type": "markdown",
   "id": "eb26cdf5",
   "metadata": {},
   "source": [
    "### Finding local minima and maxima\n",
    "\n",
    "When the slope of a graph is 0, then that point is likely a maximum or minimum."
   ]
  },
  {
   "cell_type": "code",
   "execution_count": 21,
   "id": "e1328cea",
   "metadata": {},
   "outputs": [
    {
     "data": {
      "text/plain": [
       "[-4/3, 4]"
      ]
     },
     "execution_count": 21,
     "metadata": {},
     "output_type": "execute_result"
    }
   ],
   "source": [
    "expr = -x**3 +4*x**2 +16*x -2\n",
    "sp.solve(expr.diff().factor(), x)"
   ]
  },
  {
   "cell_type": "code",
   "execution_count": 22,
   "id": "cdf0fffe",
   "metadata": {},
   "outputs": [
    {
     "data": {
      "image/png": "[encoded data removed]",
      "text/plain": [
       "<Figure size 640x480 with 1 Axes>"
      ]
     },
     "metadata": {},
     "output_type": "display_data"
    },
    {
     "data": {
      "image/png": "[encoded data removed]",
      "text/plain": [
       "<Figure size 640x480 with 1 Axes>"
      ]
     },
     "metadata": {},
     "output_type": "display_data"
    },
    {
     "data": {
      "text/plain": [
       "<sympy.plotting.backends.matplotlibbackend.matplotlib.MatplotlibBackend at 0x2185656d590>"
      ]
     },
     "execution_count": 22,
     "metadata": {},
     "output_type": "execute_result"
    }
   ],
   "source": [
    "sp.plot(expr)\n",
    "sp.plot(expr.diff())"
   ]
  },
  {
   "cell_type": "markdown",
   "id": "e7be77fb",
   "metadata": {},
   "source": [
    "# Integrals"
   ]
  },
  {
   "cell_type": "markdown",
   "id": "80b7ddea",
   "metadata": {},
   "source": [
    "### Power rule\n",
    "\n",
    "$$ \\Large\n",
    "\\int x^n = \\frac{1}{n+1}x^{n+1}\n",
    "$$"
   ]
  },
  {
   "cell_type": "markdown",
   "id": "fddcf30d",
   "metadata": {},
   "source": [
    "### Linearity of Integrals\n",
    "$$\n",
    "\\int \\bigl[\\textcolor{cyan}{a} \\cdot \\textcolor{red}{f(x)} + \\textcolor{green}{b} \\cdot \\textcolor{orange}{g(x)}\\bigr] \\, dx = \\textcolor{cyan}{a} \\cdot \\int \\textcolor{red}{f(x)} \\, dx + \\textcolor{green}{b} \\cdot \\int \\textcolor{orange}{g(x)} \\, dx\n",
    "$$\n"
   ]
  },
  {
   "cell_type": "markdown",
   "id": "5c6de3ff",
   "metadata": {},
   "source": [
    "### Integration by substitution\n",
    "\n",
    "$$\n",
    "\\int \\left[\\textcolor{orange}{f}\\bigl(\\textcolor{cyan}{g(x)}\\bigr) \\cdot \\frac{d}{dx}\\textcolor{cyan}{g(x)} \\right] dx \n",
    "= \\int \\textcolor{orange}{f}(\\textcolor{red}{u}) \\, d\\textcolor{red}{u} \n",
    "\\quad \\bigg| \\quad \n",
    "\\begin{cases}\n",
    "\\textcolor{red}{u} = \\textcolor{cyan}{g(x)} \\\\[6pt]\n",
    "d\\textcolor{red}{u} = \\frac{d}{dx} \\textcolor{cyan}{g(x)} \\, dx\n",
    "\\end{cases}\n",
    "$$"
   ]
  },
  {
   "cell_type": "markdown",
   "id": "26fc5035",
   "metadata": {},
   "source": [
    "### Integration by parts\n",
    "$$ \\Large\n",
    "\\int u\\, dv = uv - \\int v\\, du\n",
    "$$"
   ]
  },
  {
   "cell_type": "markdown",
   "id": "4bed0c69",
   "metadata": {},
   "source": [
    "### Simpson's Rule -- approximating area under curve"
   ]
  },
  {
   "cell_type": "markdown",
   "id": "f8fa34f4",
   "metadata": {},
   "source": [
    "Simpson's rule is a method for estimating the area under the curve using parabolas.  \n",
    "$n$ must be greater than 2 and even."
   ]
  },
  {
   "cell_type": "markdown",
   "id": "8cede48f",
   "metadata": {},
   "source": [
    "$$\n",
    "\\Large\n",
    "\\int\\limits_{\\textcolor{green}{a}}^{\\textcolor{green}{b}} f(x)\\,dx \\approx \n",
    "\\frac{\\textcolor{magenta}{\\Delta x}}{3} \n",
    "\n",
    "\\left[\n",
    "f(\\textcolor{orange}{x_0})\n",
    "+ \\sum\\limits_{i=1}^{n-1} [ \\textcolor{cyan}{k_i} \\cdot f(\\textcolor{orange}{x_i}) ]\n",
    "+ f(\\textcolor{orange}{x_n})\n",
    "\\right]\n",
    "\n",
    "\\quad \\left|\n",
    "\n",
    "\\begin{aligned}\n",
    "&\\textcolor{magenta}{\\Delta x} = \\frac{{\\textcolor{green}{b-a}}}{n} \\\\[0.3em]\n",
    "&\\textcolor{orange}{x_i} = a + i\\cdot\\textcolor{magenta}{\\Delta x} \\\\[0.3em]\n",
    "\n",
    "&\\textcolor{cyan}{k_i} =\n",
    "\\begin{cases}\n",
    "4, & \\text{if } i \\text{ is odd} \\\\\n",
    "2, & \\text{if } i \\text{ is even}\n",
    "\\end{cases} \\\\\n",
    "\n",
    "\\end{aligned}\n",
    "\n",
    "\\right.\n",
    "$$"
   ]
  },
  {
   "cell_type": "markdown",
   "id": "15d5c03a",
   "metadata": {},
   "source": [
    "![Simpson's_One-Third_Rule.gif](Simpson's_One-Third_Rule.gif)"
   ]
  },
  {
   "cell_type": "code",
   "execution_count": 14,
   "id": "fc5f43ce",
   "metadata": {},
   "outputs": [
    {
     "name": "stdout",
     "output_type": "stream",
     "text": [
      "[0.  0.5 1.  1.5 2. ]\n",
      "[np.float64(1.0), np.float64(6.25), np.float64(8.0), np.float64(42.25), np.float64(25.0)]\n",
      "13.75\n"
     ]
    }
   ],
   "source": [
    "expr = x**4 + 2*x**2 +1\n",
    "f = sp.lambdify(x, expr)\n",
    "n = 4\n",
    "a, b = 0, 2\n",
    "\n",
    "points = np.linspace(a,b, n+1) # n intervals, so n+1 points\n",
    "delta = (b-a)/n\n",
    "evaluations = []\n",
    "kps = []\n",
    "for i, point in enumerate(points):\n",
    "    if i == 0 or i == n:\n",
    "        evaluations.append(f(point))\n",
    "    else:\n",
    "        k = 2 + 2*(i%2) # 4 if odd, 2 if even\n",
    "        evaluations.append(k*f(point))\n",
    "\n",
    "area = delta/3*sum(evaluations)\n",
    "print(points)\n",
    "print(evaluations)\n",
    "print(area)\n"
   ]
  },
  {
   "cell_type": "code",
   "execution_count": 15,
   "id": "97a2645e",
   "metadata": {},
   "outputs": [
    {
     "data": {
      "text/latex": [
       "$\\displaystyle 1.0$"
      ],
      "text/plain": [
       "1.00000000000000"
      ]
     },
     "metadata": {},
     "output_type": "display_data"
    },
    {
     "data": {
      "text/latex": [
       "$\\displaystyle 1.5625$"
      ],
      "text/plain": [
       "1.56250000000000"
      ]
     },
     "metadata": {},
     "output_type": "display_data"
    },
    {
     "data": {
      "text/latex": [
       "$\\displaystyle 4.0$"
      ],
      "text/plain": [
       "4.00000000000000"
      ]
     },
     "metadata": {},
     "output_type": "display_data"
    },
    {
     "data": {
      "text/latex": [
       "$\\displaystyle 10.5625$"
      ],
      "text/plain": [
       "10.5625000000000"
      ]
     },
     "metadata": {},
     "output_type": "display_data"
    },
    {
     "data": {
      "text/latex": [
       "$\\displaystyle 25.0$"
      ],
      "text/plain": [
       "25.0000000000000"
      ]
     },
     "metadata": {},
     "output_type": "display_data"
    }
   ],
   "source": [
    "for point in points:\n",
    "    display(\n",
    "        expr.subs(x, point)\n",
    "    )"
   ]
  },
  {
   "cell_type": "markdown",
   "id": "cf35ac77",
   "metadata": {},
   "source": [
    "### Finding average from area\n",
    "\n",
    "$$\n",
    "\\Large h_\\text{avg} = \\frac{\\int\\limits_a^b \\bigg[ f(x) dx \\bigg]}{b-a}\n",
    "$$"
   ]
  },
  {
   "cell_type": "markdown",
   "id": "a447eed6",
   "metadata": {},
   "source": [
    "$$\n",
    "A = h\\cdot w \\quad \\iff \\quad h= \\frac{A}{w}\n",
    "$$\n",
    "$$\n",
    "A = \\int\\limits_a^b \\bigg[ f(x) dx \\bigg] \\\\\n",
    "w = b-a\n",
    "$$"
   ]
  },
  {
   "cell_type": "code",
   "execution_count": 16,
   "id": "37114c27",
   "metadata": {},
   "outputs": [
    {
     "data": {
      "text/latex": [
       "$\\displaystyle -6$"
      ],
      "text/plain": [
       "-6"
      ]
     },
     "execution_count": 16,
     "metadata": {},
     "output_type": "execute_result"
    }
   ],
   "source": [
    "expr = 2*x-x**2\n",
    "a, b = 0, 6\n",
    "\n",
    "avg = expr.integrate((x,a,b))/(b-a)\n",
    "avg"
   ]
  },
  {
   "cell_type": "markdown",
   "id": "fa8e9c97",
   "metadata": {},
   "source": [
    "### Integrating disks -- volume rotated along x-axis\n"
   ]
  },
  {
   "cell_type": "markdown",
   "id": "3b6bd5e7",
   "metadata": {},
   "source": [
    "$$ \\Large\n",
    "\\pi \\int_a^b f(x)^2 dx\n",
    "$$"
   ]
  },
  {
   "cell_type": "markdown",
   "id": "37097440",
   "metadata": {},
   "source": [
    "\n",
    "Area of circle:\n",
    "$$\n",
    "A = \\pi r^2 \\\\\n",
    " V = A \\cdot h \n",
    "$$\n",
    "\n",
    "We can think of this as many cylinders stacked on each other:\n",
    "$$\n",
    "\\begin{align*}\n",
    "\n",
    "V \n",
    "&= \\int_a^b Ah \\\\\n",
    "&= \\int_a^b \\pi r^2 h \\\\\n",
    "&= \\int_a^b \\pi f(x)^2 h \\\\\n",
    "&= \\int_a^b \\pi f(x)^2 dx \\\\\n",
    "&= \\pi \\int_a^b f(x)^2 dx \\\\\n",
    "\n",
    "\\end{align*}\n",
    "$$"
   ]
  },
  {
   "cell_type": "code",
   "execution_count": 17,
   "id": "c10b1792",
   "metadata": {},
   "outputs": [],
   "source": [
    "def disk_integration(expr, a, b, wrt=x):\n",
    "    return sp.integrate(expr**2, (wrt, a, b))*sp.pi"
   ]
  },
  {
   "cell_type": "markdown",
   "id": "6d0c1a0d",
   "metadata": {},
   "source": [
    "### Integrating shells -- volume rotated along y-axis\n"
   ]
  },
  {
   "cell_type": "markdown",
   "id": "e6ca5d11",
   "metadata": {},
   "source": [
    "$$ \\Large\n",
    "V = 2\\pi \\int_a^b x \\cdot f(x)\\, dx\n",
    "$$"
   ]
  },
  {
   "cell_type": "markdown",
   "id": "fee6ed1f",
   "metadata": {},
   "source": [
    "Circumference of a circle:\n",
    "$$\n",
    "\\ell = 2 \\pi r\n",
    "$$\n",
    "Surface area of the walls of a cylinder:\n",
    "$$\n",
    "A_s = \\ell h \\bigg|\\begin{cases} \\ell = 2 \\pi x \\\\ h = f(x) \\end{cases}\n",
    "$$\n",
    "In terms of x:\n",
    "$$\n",
    "A_s = 2 \\pi x \\cdot f(x) \n",
    "$$\n",
    "Integrate with respect to x\n",
    "$$\n",
    "V = 2\\pi \\int_a^b x \\cdot f(x)\\, dx\n",
    "$$"
   ]
  },
  {
   "cell_type": "code",
   "execution_count": 18,
   "id": "f8b32477",
   "metadata": {},
   "outputs": [],
   "source": [
    "def shell_integration(expr, a, b, wrt=x):\n",
    "    return sp.integrate(expr*wrt, (wrt, a, b))*sp.pi*2"
   ]
  },
  {
   "cell_type": "markdown",
   "id": "91db145f",
   "metadata": {},
   "source": [
    "### Root Mean Square\n",
    "$$ \\Large\n",
    "\\text{RMS} = \\sqrt{\\frac{1}{b - a} \\int_a^b [f(x)]^2 \\, dx}\n",
    "$$"
   ]
  },
  {
   "cell_type": "markdown",
   "id": "b4e474c6",
   "metadata": {},
   "source": [
    "RMS is the root ($\\sqrt{\\,}$) of the mean ($\\frac{\\Sigma}{n}$) of the square ($x^2$)"
   ]
  },
  {
   "cell_type": "markdown",
   "id": "fa1fc5b7",
   "metadata": {},
   "source": [
    "### Arc Length\n",
    "\n",
    "$$ \\Large\n",
    "s = \\int_a^b \\sqrt{1+\\left(\\frac{dy}{dx}\\right)^2} dx\n",
    "$$"
   ]
  },
  {
   "cell_type": "markdown",
   "id": "5185dc74",
   "metadata": {},
   "source": [
    "We approximate the arc by summing the lengths of tiny straight-line segments:\n",
    "\n",
    "$$\n",
    "\\text{segment length} \\approx \\sqrt{(\\Delta x)^2 + (\\Delta y)^2}\n",
    "$$\n",
    "\n",
    "Divide through by $ (\\Delta x)^2 $ and take the limit:\n",
    "\n",
    "$$\n",
    "ds = \\sqrt{1 + \\left(\\frac{dy}{dx}\\right)^2} \\, dx\n",
    "$$\n",
    "\n",
    "$$\n",
    "L = \\int_a^b \\sqrt{1 + \\left( \\frac{dy}{dx} \\right)^2} \\, dx\n",
    "$$\n"
   ]
  },
  {
   "cell_type": "markdown",
   "id": "8ecbfea2",
   "metadata": {},
   "source": [
    "### Finding specific Integrals\n",
    "\n",
    "The idea here is to find the indefinite integral first, then solve for C by substituting x and y with some known point on the function."
   ]
  },
  {
   "cell_type": "code",
   "execution_count": 19,
   "id": "c0c3353b",
   "metadata": {},
   "outputs": [],
   "source": [
    "def get_specific_integral(expr, wrt, reference_point=(0,0)):\n",
    "    # unpack our reference point \n",
    "    xi, yi = reference_point\n",
    "    # We'll need to use the constant of integration to work with the indefinite integral\n",
    "    C = sp.symbols('C')\n",
    "    indefinite_integral = sp.integrate(expr,wrt) + C\n",
    "    # Anchor the integral to the reference point and solve for C\n",
    "    anchored_integral = indefinite_integral.subs(wrt, xi)-yi #subtracting y is the same as setting equal to y\n",
    "    this_C = sp.solve(anchored_integral, C)[0]\n",
    "    # Substitute back into the indefinite integral to get a specific function\n",
    "    specific_integral = indefinite_integral.subs(C, this_C)\n",
    "    return specific_integral"
   ]
  }
 ],
 "metadata": {
  "kernelspec": {
   "display_name": "Python 3",
   "language": "python",
   "name": "python3"
  },
  "language_info": {
   "codemirror_mode": {
    "name": "ipython",
    "version": 3
   },
   "file_extension": ".py",
   "mimetype": "text/x-python",
   "name": "python",
   "nbconvert_exporter": "python",
   "pygments_lexer": "ipython3",
   "version": "3.13.2"
  }
 },
 "nbformat": 4,
 "nbformat_minor": 5
}
