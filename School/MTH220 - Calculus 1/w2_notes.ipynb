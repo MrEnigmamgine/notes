{
 "cells": [
  {
   "cell_type": "code",
   "execution_count": 1,
   "id": "45522011",
   "metadata": {},
   "outputs": [],
   "source": [
    "import numpy as np\n",
    "import sympy as sp\n",
    "from sympy.plotting import plot\n",
    "import matplotlib.pyplot as plt"
   ]
  },
  {
   "cell_type": "code",
   "execution_count": 2,
   "id": "36a01ad6",
   "metadata": {},
   "outputs": [],
   "source": [
    "y, y1, y2, x, x1, x2, m, b = sp.symbols('y, y_1, y_2, x, x_1, x_2, m, b')"
   ]
  },
  {
   "cell_type": "markdown",
   "id": "022093f1",
   "metadata": {},
   "source": [
    "### __Topic 1__:  Finding a (point) limit from a graph  \n"
   ]
  },
  {
   "cell_type": "markdown",
   "id": "cbcc630b",
   "metadata": {},
   "source": [
    "### __Topic 2__:  Finding a limit from a  graph with an asymptote  \n"
   ]
  },
  {
   "cell_type": "markdown",
   "id": "a61fc06e",
   "metadata": {},
   "source": [
    "### __Topic 3__:  Finding a one-sided limit from a graph  \n"
   ]
  },
  {
   "cell_type": "markdown",
   "id": "9f46e1b5",
   "metadata": {},
   "source": [
    "### __Topic 4__:  Finding a limit by factoring  \n"
   ]
  },
  {
   "cell_type": "markdown",
   "id": "3d4c28f5",
   "metadata": {},
   "source": [
    "### __Topic 5__:  Finding a defined limit by substitution  \n"
   ]
  },
  {
   "cell_type": "markdown",
   "id": "fa6158d4",
   "metadata": {},
   "source": [
    "### __Topic 6__:  Finding an undefined limit by substitution  \n"
   ]
  },
  {
   "cell_type": "markdown",
   "id": "a1883484",
   "metadata": {},
   "source": [
    "### __Topic 7__:  Comparing derivatives at different points on a curve.  \n"
   ]
  },
  {
   "cell_type": "markdown",
   "id": "a69fb66f",
   "metadata": {},
   "source": [
    "### __Topic 8__:  Derivatives and direction  \n"
   ]
  },
  {
   "cell_type": "markdown",
   "id": "8063355d",
   "metadata": {},
   "source": [
    "### __Topic 9__:  Formal definition of derivative (choose a tough problem, plug in to the definition, but do not solve)  \n"
   ]
  },
  {
   "cell_type": "markdown",
   "id": "d4ddbeea",
   "metadata": {},
   "source": [
    "### __Topic 10__:  Formal definition of derivative (find the derivative of a monomial)  \n"
   ]
  },
  {
   "cell_type": "markdown",
   "id": "526f091e",
   "metadata": {},
   "source": [
    "### __Topic 11__:  Differentiability at a point  \n"
   ]
  },
  {
   "cell_type": "markdown",
   "id": "dd5c55b1",
   "metadata": {},
   "source": [
    "### __Topic 12__:  Differentiating a linear function  \n"
   ]
  },
  {
   "cell_type": "markdown",
   "id": "f89ba6b8",
   "metadata": {},
   "source": [
    "### __Topic 13__:  Differentiating a polynomial  \n"
   ]
  },
  {
   "cell_type": "markdown",
   "id": "a27d1e47",
   "metadata": {},
   "source": [
    "### __Topic 14__:  Power rule (derivative)  \n"
   ]
  },
  {
   "cell_type": "markdown",
   "id": "c63db532",
   "metadata": {},
   "source": [
    "### __Topic 15__:  Quotient rule (derivative)  \n"
   ]
  },
  {
   "cell_type": "markdown",
   "id": "39101bd8",
   "metadata": {},
   "source": [
    "### __Topic 16__:  Chain rule (derivative)  \n"
   ]
  },
  {
   "cell_type": "markdown",
   "id": "a795db03",
   "metadata": {},
   "source": [
    "### __Topic 17__:  Tangents of polynomials  \n"
   ]
  },
  {
   "cell_type": "markdown",
   "id": "a2d7a11c",
   "metadata": {},
   "source": [
    "### __Topic 18__:  Differentiating negative powers  \n"
   ]
  },
  {
   "cell_type": "markdown",
   "id": "4d2cc569",
   "metadata": {},
   "source": [
    "### __Topic 19__:  Differentiating fractional powers  \n"
   ]
  },
  {
   "cell_type": "markdown",
   "id": "783b03ca",
   "metadata": {},
   "source": [
    "### __Topic 20__:  Product rule (derivative)  \n"
   ]
  },
  {
   "cell_type": "markdown",
   "id": "2d02bd55",
   "metadata": {},
   "source": [
    "### __Topic 21__:  Evaluating a derivative at a value  \n"
   ]
  },
  {
   "cell_type": "markdown",
   "id": "d780d51e",
   "metadata": {},
   "source": [
    "### __Topic 22__:  Finding a second derivative  \n"
   ]
  },
  {
   "cell_type": "markdown",
   "id": "b9e90b57",
   "metadata": {},
   "source": [
    "### __Topic 23__:  Finding a third derivative  \n"
   ]
  },
  {
   "cell_type": "markdown",
   "id": "8ee06747",
   "metadata": {},
   "source": [
    "### __Topic 24__:  Identifying composite functions  "
   ]
  },
  {
   "cell_type": "markdown",
   "id": "db9d64e3",
   "metadata": {},
   "source": []
  },
  {
   "cell_type": "code",
   "execution_count": null,
   "id": "9df454fb",
   "metadata": {},
   "outputs": [],
   "source": []
  }
 ],
 "metadata": {
  "kernelspec": {
   "display_name": "Python 3",
   "language": "python",
   "name": "python3"
  },
  "language_info": {
   "codemirror_mode": {
    "name": "ipython",
    "version": 3
   },
   "file_extension": ".py",
   "mimetype": "text/x-python",
   "name": "python",
   "nbconvert_exporter": "python",
   "pygments_lexer": "ipython3",
   "version": "3.13.2"
  }
 },
 "nbformat": 4,
 "nbformat_minor": 5
}
