{
 "cells": [
  {
   "cell_type": "code",
   "execution_count": 1,
   "id": "7e46a695",
   "metadata": {},
   "outputs": [],
   "source": [
    "import numpy as np\n",
    "import sympy as sp\n",
    "from sympy.plotting import plot\n",
    "import matplotlib.pyplot as plt"
   ]
  },
  {
   "cell_type": "code",
   "execution_count": 2,
   "id": "64412d8a",
   "metadata": {},
   "outputs": [],
   "source": [
    "# Preparing symbols\n",
    "y, y1, y2, x, x1, x2, m, b = sp.symbols('y, y_1, y_2, x, x_1, x_2, m, b')"
   ]
  },
  {
   "cell_type": "markdown",
   "id": "211f470e",
   "metadata": {},
   "source": [
    "#### Topic 1 - Finding the equation of a line given two points"
   ]
  },
  {
   "cell_type": "markdown",
   "id": "bfcc2c3b",
   "metadata": {},
   "source": [
    "The standard form of a linear equation is as follows:\n",
    "$$ y = mx + b $$\n",
    "\n",
    "Where:\n",
    "m = the slope of the line  \n",
    "b = the y intercept\n",
    "\n",
    "Step 1 - Find the slope\n",
    "$$ m = \\frac{y_2 - y_1}{x_2 - x_1} $$\n",
    "\n",
    "Step 2 - Find they y intercept using one of the points\n",
    "$$ b = y - mx$$"
   ]
  },
  {
   "cell_type": "markdown",
   "id": "08f0984b",
   "metadata": {},
   "source": [
    "#### Topic 2 - Evaluating a linear function\n"
   ]
  },
  {
   "cell_type": "markdown",
   "id": "52c9ff87",
   "metadata": {},
   "source": [
    "**Evaluating** in this context simply means to find the output of a function with a given input.\n",
    "\n",
    "For example, if there is a linear function like $f(x) = mx+b$, then $f(2) = 2m + b$"
   ]
  },
  {
   "cell_type": "markdown",
   "id": "d215cbdc",
   "metadata": {},
   "source": [
    "#### Topic 3 - Evaluating an exponential function"
   ]
  },
  {
   "cell_type": "markdown",
   "id": "3a260eb5",
   "metadata": {},
   "source": [
    "I think the important bit of this topic is actually the definition of what a exponential function is. \n",
    "\n",
    "An exponential function is a function in which the variable is an exponent. In its standard form it is:\n",
    "$$ f(x) = a \\cdot b^x $$\n",
    "\n",
    "|Where: | |\n",
    "|:----------:|-------------:|\n",
    "| $a$ | The constant |\n",
    "| $b$ | The base of the exponent |\n",
    "| $x$ | The exponent variable |"
   ]
  },
  {
   "cell_type": "markdown",
   "id": "81a2327b",
   "metadata": {},
   "source": [
    "#### Topic 4 - Converting an equation from logarithmic to exponential form"
   ]
  },
  {
   "cell_type": "markdown",
   "id": "6474bc2e",
   "metadata": {},
   "source": [
    "$$ \\log_b(y) = x \\quad \\iff \\quad b^x = y $$"
   ]
  },
  {
   "cell_type": "markdown",
   "id": "5ced13f7",
   "metadata": {},
   "source": [
    "#### Topic 5 - Finding the value of sin, cos, and tan for a given angle through a point"
   ]
  },
  {
   "cell_type": "markdown",
   "id": "d4360c96",
   "metadata": {},
   "source": [
    "This topic is written poorly. It should read \"Finding the value of sin, cos, and tan for a ~~given~~ angle from the origin (0,0) through a given point\"\n",
    "\n",
    "The core concept is to recognize that any point on a coordinate plane will form a right triangle with the origin:  \n",
    "\n",
    "With that information you can apply trigonometry:\n",
    "$$\\mathcal{SOH\\  CAH\\  TOA}$$\n",
    "$$\n",
    "\\begin{align*}\n",
    "\\sin(\\alpha) &= \\frac{\\text{opposite}}{\\text{hypotenuse}}\\\\\n",
    "\\\\\n",
    "\\cos(\\alpha) &= \\frac{\\text{adjacent}}{\\text{hypotenuse}}\\\\\n",
    "\\\\\n",
    "\\tan(\\alpha) &= \\frac{\\text{opposite}}{\\text{adjacent}}\\\\\n",
    "\\end{align*}\n",
    "$$"
   ]
  },
  {
   "cell_type": "markdown",
   "id": "b928bf64",
   "metadata": {},
   "source": [
    "#### Topic 6 - Finding the roots of a quadratic function by grouping"
   ]
  },
  {
   "cell_type": "markdown",
   "id": "14d8e536",
   "metadata": {},
   "source": [
    "A **quadratic function** is a type of polynomial function of degree 2. Its general form is:\n",
    "$$ f(x) = ax^2 + bx + c $$\n",
    "\n",
    "Where $a,b,c$ are constants ($a \\ne 0$)\n",
    "\n",
    "**Finding the roots** asks us to determine where the function evaluates to 0:\n",
    "$$ ax^2 + bx + c = 0 $$\n",
    "\n",
    "\n",
    "**Grouping** is a method that essentially involves factoring the polynomial, which is the hard part of this process. Luckily, for the standard form of this equation we can apply a simple algorithm to do this for us:\n",
    " - __Step 1:__ Multiply $a \\cdot c$\n",
    " - __Step 2:__ Extract the appropriate factors of $ac$ that sum to $b$. We'll call those $m$ and $n$\n",
    "   - $mn = ac \\quad \\text{and} \\quad m+n = b$\n",
    "   - For example if $b$ is $5$ and $ac$ is $4$ then we can use the factors $(1,4)$\n",
    "     - $1+4=5$ \n",
    " - __Step 3:__ Split $bx$ using our factors $m$ and $n$\n",
    "   - $ f(x) = ax^2 + mx + nx + c$\n",
    " - __Step 4:__ Group the terms into two pairs\n",
    "   - $ f(x) = (ax^2 + mx) + (nx + c) $\n",
    " - __Step 5:__ Pull the greatest common factors (We'll call them $F$) from each pair\n",
    "   - We assume that each pair will be left with the same binomial.\n",
    "     - If this doesn't happen, something is wrong.\n",
    "   - $ f(x) = F_1x(a x + m) + F_2(a x + m) $\n",
    " - __Step 6:__ Factor out the common binomial\n",
    "   - $ f(x) = (F_1x + F_2)(a x + m) $\n",
    " - __Step 7:__ Set each factor equal to zero and solve\n",
    "   - $(F_1x + F_2)(a x + m) = 0$"
   ]
  },
  {
   "cell_type": "markdown",
   "id": "c65c9d16",
   "metadata": {},
   "source": [
    "#### Topic 7 - Evaluating a logarithmic expression without using a calculator"
   ]
  },
  {
   "cell_type": "markdown",
   "id": "e1669e8d",
   "metadata": {},
   "source": [
    "#### Topic 8 - Evaluating a polynomial at a given value\n"
   ]
  },
  {
   "cell_type": "markdown",
   "id": "83ba80b6",
   "metadata": {},
   "source": [
    "#### Topic 9 - Writing a fraction in an exponent in radical form"
   ]
  },
  {
   "cell_type": "markdown",
   "id": "3e9d1e47",
   "metadata": {},
   "source": [
    "#### Topic 10 - Writing an expression with negative exponents as a fraction in terms of positive exponents"
   ]
  },
  {
   "cell_type": "markdown",
   "id": "6a7a7df5",
   "metadata": {},
   "source": [
    "#### Topic 11 - Simplifying an expression using the properties of exponents\n"
   ]
  },
  {
   "cell_type": "markdown",
   "id": "b1777a9d",
   "metadata": {},
   "source": [
    "#### Topic 12 - Rationalizing a denominator\n"
   ]
  },
  {
   "cell_type": "markdown",
   "id": "df69a54a",
   "metadata": {},
   "source": [
    "#### Topic 13 - Finding the domain and range of a function\n"
   ]
  },
  {
   "cell_type": "markdown",
   "id": "97d8367f",
   "metadata": {},
   "source": [
    "#### Topic 14 - Solving an exponential equation in terms of natural logarithms\n"
   ]
  },
  {
   "cell_type": "markdown",
   "id": "9ee792f6",
   "metadata": {},
   "source": [
    "#### Topic 15 - Simplifying an expression using the logarithmic power rule\n"
   ]
  },
  {
   "cell_type": "markdown",
   "id": "b227b80d",
   "metadata": {},
   "source": [
    "#### Topic 16 - Simplifying an expression using the logarithmic product rule\n"
   ]
  },
  {
   "cell_type": "markdown",
   "id": "791fdb8e",
   "metadata": {},
   "source": [
    "#### Topic 17 - Solving an exponential equation in terms of base-10 logarithms\n"
   ]
  },
  {
   "cell_type": "markdown",
   "id": "1b0c5137",
   "metadata": {},
   "source": [
    "#### Topic 18 - Converting from radian measure to degrees and back.\n"
   ]
  },
  {
   "cell_type": "markdown",
   "id": "1af253be",
   "metadata": {},
   "source": [
    "#### Topic 19 - Finding a missing side in a 45 45 90 special right triangle\n"
   ]
  },
  {
   "cell_type": "markdown",
   "id": "09a9f112",
   "metadata": {},
   "source": [
    "#### Topic 20 - Finding a missing side in a 30 60 90 special right triangle\n"
   ]
  },
  {
   "cell_type": "markdown",
   "id": "9fa0b4b0",
   "metadata": {},
   "source": [
    "#### Topic 21 - Simplifying a radical expression\n"
   ]
  },
  {
   "cell_type": "markdown",
   "id": "ff0518b2",
   "metadata": {},
   "source": [
    "#### Topic 22 - Simplifying an expression using the logarithmic quotient rule\n"
   ]
  },
  {
   "cell_type": "markdown",
   "id": "9229fa78",
   "metadata": {},
   "source": [
    "#### Topic 23 - Finding the roots of a quadratic function using the quadratic formula"
   ]
  },
  {
   "cell_type": "markdown",
   "id": "62004652",
   "metadata": {},
   "source": [
    "#### Topic 24 - Converting values into scientific notation"
   ]
  },
  {
   "cell_type": "markdown",
   "id": "2c9f1e0d",
   "metadata": {},
   "source": []
  }
 ],
 "metadata": {
  "kernelspec": {
   "display_name": "Python 3",
   "language": "python",
   "name": "python3"
  },
  "language_info": {
   "codemirror_mode": {
    "name": "ipython",
    "version": 3
   },
   "file_extension": ".py",
   "mimetype": "text/x-python",
   "name": "python",
   "nbconvert_exporter": "python",
   "pygments_lexer": "ipython3",
   "version": "3.13.2"
  }
 },
 "nbformat": 4,
 "nbformat_minor": 5
}
