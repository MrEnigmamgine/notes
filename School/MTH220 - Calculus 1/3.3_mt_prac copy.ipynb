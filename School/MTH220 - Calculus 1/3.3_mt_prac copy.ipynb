{
 "cells": [
  {
   "cell_type": "code",
   "execution_count": 57,
   "id": "7cec484b",
   "metadata": {},
   "outputs": [],
   "source": [
    "import sympy as sp\n",
    "import matplotlib.pyplot as plt"
   ]
  },
  {
   "cell_type": "code",
   "execution_count": 58,
   "id": "0692429e",
   "metadata": {},
   "outputs": [],
   "source": [
    "x = sp.symbols('x')"
   ]
  },
  {
   "cell_type": "code",
   "execution_count": 59,
   "id": "2283b7a3",
   "metadata": {},
   "outputs": [
    {
     "data": {
      "text/latex": [
       "$\\displaystyle 10 \\left(x^{2} + 7\\right)^{3} \\left(9 x^{2} + 7\\right)$"
      ],
      "text/plain": [
       "10*(x**2 + 7)**3*(9*x**2 + 7)"
      ]
     },
     "execution_count": 59,
     "metadata": {},
     "output_type": "execute_result"
    }
   ],
   "source": [
    "expr = (x**2+7)**5\n",
    "expr.diff().diff().factor()"
   ]
  },
  {
   "cell_type": "markdown",
   "id": "30fd138f",
   "metadata": {},
   "source": [
    "### 5. Derivative"
   ]
  },
  {
   "cell_type": "code",
   "execution_count": 60,
   "id": "4904e993",
   "metadata": {},
   "outputs": [
    {
     "data": {
      "text/latex": [
       "$\\displaystyle t^{3} \\left(\\frac{3.5 t}{\\cos^{2}{\\left(3.5 t \\right)}} + 4 \\tan{\\left(3.5 t \\right)}\\right)$"
      ],
      "text/plain": [
       "t**3*(3.5*t/cos(3.5*t)**2 + 4*tan(3.5*t))"
      ]
     },
     "execution_count": 60,
     "metadata": {},
     "output_type": "execute_result"
    }
   ],
   "source": [
    "t = sp.symbols('t')\n",
    "expr = t**4 *sp.tan(3.5*t)\n",
    "expr.diff().simplify()"
   ]
  },
  {
   "cell_type": "code",
   "execution_count": 61,
   "id": "3e71298e",
   "metadata": {},
   "outputs": [
    {
     "data": {
      "text/latex": [
       "$\\displaystyle - \\frac{7 x^{2} + 10 x + 6}{\\left(x^{2} + 4 x + 2\\right)^{2}}$"
      ],
      "text/plain": [
       "-(7*x**2 + 10*x + 6)/(x**2 + 4*x + 2)**2"
      ]
     },
     "execution_count": 61,
     "metadata": {},
     "output_type": "execute_result"
    }
   ],
   "source": [
    "expr = (7*x+5)/(x**2 +4*x +2)\n",
    "expr.diff().simplify().factor()"
   ]
  },
  {
   "cell_type": "code",
   "execution_count": 62,
   "id": "3aa29314",
   "metadata": {},
   "outputs": [
    {
     "data": {
      "text/latex": [
       "$\\displaystyle - \\frac{10}{\\left(2 x + 1\\right)^{6}}$"
      ],
      "text/plain": [
       "-10/(2*x + 1)**6"
      ]
     },
     "execution_count": 62,
     "metadata": {},
     "output_type": "execute_result"
    }
   ],
   "source": [
    "expr = (2*x+1)**-5\n",
    "expr.diff().simplify()"
   ]
  },
  {
   "cell_type": "code",
   "execution_count": 63,
   "id": "ee5ffba3",
   "metadata": {},
   "outputs": [
    {
     "data": {
      "text/latex": [
       "$\\displaystyle 30 x^{2} - 50 x + 4$"
      ],
      "text/plain": [
       "30*x**2 - 50*x + 4"
      ]
     },
     "execution_count": 63,
     "metadata": {},
     "output_type": "execute_result"
    }
   ],
   "source": [
    "expr = (5*x**2 +2)*(2*x -5)\n",
    "expr.diff().simplify()"
   ]
  },
  {
   "cell_type": "code",
   "execution_count": 64,
   "id": "c70f38f1",
   "metadata": {},
   "outputs": [
    {
     "data": {
      "text/latex": [
       "$\\displaystyle 9 x^{2} - 22 x + 35$"
      ],
      "text/plain": [
       "9*x**2 - 22*x + 35"
      ]
     },
     "execution_count": 64,
     "metadata": {},
     "output_type": "execute_result"
    }
   ],
   "source": [
    "expr = 3*x**3-11*x**2+35*x+3\n",
    "expr.diff()"
   ]
  },
  {
   "cell_type": "code",
   "execution_count": 65,
   "id": "06a1956b",
   "metadata": {},
   "outputs": [
    {
     "data": {
      "text/latex": [
       "$\\displaystyle \\frac{9 x + 7}{x^{2} + 4 x + 3}$"
      ],
      "text/plain": [
       "(9*x + 7)/(x**2 + 4*x + 3)"
      ]
     },
     "execution_count": 65,
     "metadata": {},
     "output_type": "execute_result"
    }
   ],
   "source": [
    "expr = (9*x+7)/(x**2+4*x+3)\n",
    "expr"
   ]
  },
  {
   "cell_type": "code",
   "execution_count": 66,
   "id": "1596947f",
   "metadata": {},
   "outputs": [
    {
     "data": {
      "text/latex": [
       "$\\displaystyle \\frac{9 x^{2} + 36 x - 2 \\left(x + 2\\right) \\left(9 x + 7\\right) + 27}{\\left(x^{2} + 4 x + 3\\right)^{2}}$"
      ],
      "text/plain": [
       "(9*x**2 + 36*x - 2*(x + 2)*(9*x + 7) + 27)/(x**2 + 4*x + 3)**2"
      ]
     },
     "execution_count": 66,
     "metadata": {},
     "output_type": "execute_result"
    }
   ],
   "source": [
    "expr.diff().simplify()"
   ]
  },
  {
   "cell_type": "code",
   "execution_count": 67,
   "id": "4d67e922",
   "metadata": {},
   "outputs": [
    {
     "data": {
      "text/latex": [
       "$\\displaystyle - \\frac{9 x^{2} + 14 x + 1}{\\left(x + 1\\right)^{2} \\left(x + 3\\right)^{2}}$"
      ],
      "text/plain": [
       "-(9*x**2 + 14*x + 1)/((x + 1)**2*(x + 3)**2)"
      ]
     },
     "execution_count": 67,
     "metadata": {},
     "output_type": "execute_result"
    }
   ],
   "source": [
    "expr.diff().expand().simplify().factor()"
   ]
  },
  {
   "cell_type": "code",
   "execution_count": 68,
   "id": "e2bcedc0",
   "metadata": {},
   "outputs": [
    {
     "data": {
      "text/latex": [
       "$\\displaystyle \\frac{- 9 x^{2} - 14 x - 1}{\\left(x^{2} + 4 x + 3\\right)^{2}}$"
      ],
      "text/plain": [
       "(-9*x**2 - 14*x - 1)/(x**2 + 4*x + 3)**2"
      ]
     },
     "execution_count": 68,
     "metadata": {},
     "output_type": "execute_result"
    }
   ],
   "source": [
    "def quotient_rule(expr, wrt=x):\n",
    "    numer, denom = expr.as_numer_denom()\n",
    "    d_numer = numer.diff(wrt)\n",
    "    d_denom = denom.diff(wrt)\n",
    "    top = d_numer*denom - d_denom*numer\n",
    "    bottom = denom**2\n",
    "    return sp.simplify(top.expand())/bottom\n",
    "\n",
    "quotient_rule(expr)"
   ]
  },
  {
   "cell_type": "markdown",
   "id": "497ad22f",
   "metadata": {},
   "source": [
    "### 1. Second derivative"
   ]
  },
  {
   "attachments": {
    "image.png": {
     "image/png": "[encoded data removed]"
    }
   },
   "cell_type": "markdown",
   "id": "c7e1051d",
   "metadata": {},
   "source": [
    "![image.png](attachment:image.png)"
   ]
  },
  {
   "cell_type": "code",
   "execution_count": 69,
   "id": "e917e256",
   "metadata": {},
   "outputs": [
    {
     "data": {
      "text/latex": [
       "$\\displaystyle 14 \\left(x^{2} + 6\\right)^{5} \\left(13 x^{2} + 6\\right)$"
      ],
      "text/plain": [
       "14*(x**2 + 6)**5*(13*x**2 + 6)"
      ]
     },
     "execution_count": 69,
     "metadata": {},
     "output_type": "execute_result"
    }
   ],
   "source": [
    "expr = (x**2+6)**7\n",
    "expr.diff(x, 2)"
   ]
  },
  {
   "attachments": {
    "image.png": {
     "image/png": "[encoded data removed]"
    }
   },
   "cell_type": "markdown",
   "id": "3d6a4a01",
   "metadata": {},
   "source": [
    "![image.png](attachment:image.png)"
   ]
  },
  {
   "cell_type": "code",
   "execution_count": 70,
   "id": "d733ea69",
   "metadata": {},
   "outputs": [
    {
     "data": {
      "text/latex": [
       "$\\displaystyle 4.0 x^{3} \\left(0.375 x \\tan^{2}{\\left(1.5 x \\right)} + 0.375 x + 1.0 \\tan{\\left(1.5 x \\right)}\\right)$"
      ],
      "text/plain": [
       "4.0*x**3*(0.375*x*tan(1.5*x)**2 + 0.375*x + 1.0*tan(1.5*x))"
      ]
     },
     "execution_count": 70,
     "metadata": {},
     "output_type": "execute_result"
    }
   ],
   "source": [
    "#12\n",
    "expr = x**4 * sp.tan(1.5*x)\n",
    "expr.diff().factor()"
   ]
  },
  {
   "attachments": {
    "image.png": {
     "image/png": "[encoded data removed]"
    }
   },
   "cell_type": "markdown",
   "id": "7ef80c33",
   "metadata": {},
   "source": [
    "![image.png](attachment:image.png)"
   ]
  },
  {
   "cell_type": "code",
   "execution_count": 71,
   "id": "9c564218",
   "metadata": {},
   "outputs": [],
   "source": [
    "f = sp.Function('f')\n",
    "g = sp.Function('g')\n",
    "h = sp.Function('h')\n",
    "l = sp.Function('l')"
   ]
  },
  {
   "cell_type": "code",
   "execution_count": 72,
   "id": "5de11b53",
   "metadata": {},
   "outputs": [
    {
     "data": {
      "text/latex": [
       "$\\displaystyle - \\frac{h{\\left(x \\right)} \\frac{d}{d x} l{\\left(x \\right)}}{l^{2}{\\left(x \\right)}} + \\frac{\\frac{d}{d x} h{\\left(x \\right)}}{l{\\left(x \\right)}}$"
      ],
      "text/plain": [
       "-h(x)*Derivative(l(x), x)/l(x)**2 + Derivative(h(x), x)/l(x)"
      ]
     },
     "execution_count": 72,
     "metadata": {},
     "output_type": "execute_result"
    }
   ],
   "source": [
    "expr = h(x)/l(x)\n",
    "expr.diff()"
   ]
  },
  {
   "cell_type": "code",
   "execution_count": 73,
   "id": "daae32ad",
   "metadata": {},
   "outputs": [
    {
     "data": {
      "text/latex": [
       "$\\displaystyle \\frac{- h{\\left(x \\right)} \\frac{d}{d x} l{\\left(x \\right)} + l{\\left(x \\right)} \\frac{d}{d x} h{\\left(x \\right)}}{l^{2}{\\left(x \\right)}}$"
      ],
      "text/plain": [
       "(-h(x)*Derivative(l(x), x) + l(x)*Derivative(h(x), x))/l(x)**2"
      ]
     },
     "execution_count": 73,
     "metadata": {},
     "output_type": "execute_result"
    }
   ],
   "source": [
    "expr.diff().simplify()"
   ]
  },
  {
   "cell_type": "code",
   "execution_count": 74,
   "id": "946637f4",
   "metadata": {},
   "outputs": [
    {
     "data": {
      "text/latex": [
       "$\\displaystyle \\frac{- h{\\left(x \\right)} \\frac{d}{d x} l{\\left(x \\right)} + l{\\left(x \\right)} \\frac{d}{d x} h{\\left(x \\right)}}{h{\\left(x \\right)} l{\\left(x \\right)}}$"
      ],
      "text/plain": [
       "(-h(x)*Derivative(l(x), x) + l(x)*Derivative(h(x), x))/(h(x)*l(x))"
      ]
     },
     "execution_count": 74,
     "metadata": {},
     "output_type": "execute_result"
    }
   ],
   "source": [
    "quotient_rule(expr)*expr**-1"
   ]
  },
  {
   "cell_type": "code",
   "execution_count": 75,
   "id": "d3237787",
   "metadata": {},
   "outputs": [
    {
     "data": {
      "text/latex": [
       "$\\displaystyle \\frac{\\left(- h{\\left(x \\right)} \\frac{d}{d x} l{\\left(x \\right)} + l{\\left(x \\right)} \\frac{d}{d x} h{\\left(x \\right)}\\right) \\left. \\frac{d}{d \\xi_{1}} f{\\left(\\xi_{1} \\right)} \\right|_{\\substack{ \\xi_{1}=\\frac{h{\\left(x \\right)}}{l{\\left(x \\right)}} }}}{l^{2}{\\left(x \\right)}}$"
      ],
      "text/plain": [
       "(-h(x)*Derivative(l(x), x) + l(x)*Derivative(h(x), x))*Subs(Derivative(f(_xi_1), _xi_1), _xi_1, h(x)/l(x))/l(x)**2"
      ]
     },
     "execution_count": 75,
     "metadata": {},
     "output_type": "execute_result"
    }
   ],
   "source": [
    "f(expr).diff().simplify()"
   ]
  },
  {
   "cell_type": "code",
   "execution_count": 76,
   "id": "2e7674b6",
   "metadata": {},
   "outputs": [
    {
     "data": {
      "text/latex": [
       "$\\displaystyle \\frac{3}{x \\left(x + 3\\right)}$"
      ],
      "text/plain": [
       "3/(x*(x + 3))"
      ]
     },
     "execution_count": 76,
     "metadata": {},
     "output_type": "execute_result"
    }
   ],
   "source": [
    "expr = (6*x)/(3+x)\n",
    "quotient_rule(expr)*expr**-1"
   ]
  },
  {
   "cell_type": "code",
   "execution_count": 77,
   "id": "39d5300a",
   "metadata": {},
   "outputs": [
    {
     "data": {
      "text/latex": [
       "$\\displaystyle \\frac{3}{x \\left(x + 3\\right)}$"
      ],
      "text/plain": [
       "3/(x*(x + 3))"
      ]
     },
     "execution_count": 77,
     "metadata": {},
     "output_type": "execute_result"
    }
   ],
   "source": [
    "expr = sp.log(expr)\n",
    "expr.diff().simplify()"
   ]
  },
  {
   "attachments": {
    "image.png": {
     "image/png": "[encoded data removed]"
    }
   },
   "cell_type": "markdown",
   "id": "de4c3ffe",
   "metadata": {},
   "source": [
    "![image.png](attachment:image.png)"
   ]
  },
  {
   "cell_type": "code",
   "execution_count": 78,
   "id": "823951d5",
   "metadata": {},
   "outputs": [],
   "source": [
    "a,b = sp.symbols('a, b')\n",
    "e = sp.E"
   ]
  },
  {
   "cell_type": "code",
   "execution_count": 79,
   "id": "0ffc10f4",
   "metadata": {},
   "outputs": [
    {
     "data": {
      "text/latex": [
       "$\\displaystyle a e^{a x}$"
      ],
      "text/plain": [
       "a*exp(a*x)"
      ]
     },
     "execution_count": 79,
     "metadata": {},
     "output_type": "execute_result"
    }
   ],
   "source": [
    "expr = e**(a*x)\n",
    "expr.diff(x)"
   ]
  },
  {
   "cell_type": "code",
   "execution_count": 80,
   "id": "c6793087",
   "metadata": {},
   "outputs": [
    {
     "data": {
      "text/latex": [
       "$\\displaystyle t e^{- 5 t}$"
      ],
      "text/plain": [
       "t*exp(-5*t)"
      ]
     },
     "execution_count": 80,
     "metadata": {},
     "output_type": "execute_result"
    }
   ],
   "source": [
    "t = sp.symbols('t')\n",
    "expr = t*e**(-5*t)\n",
    "expr"
   ]
  },
  {
   "cell_type": "code",
   "execution_count": 81,
   "id": "6f92b185",
   "metadata": {},
   "outputs": [
    {
     "data": {
      "text/latex": [
       "$\\displaystyle - 5 t e^{- 5 t} + e^{- 5 t}$"
      ],
      "text/plain": [
       "-5*t*exp(-5*t) + exp(-5*t)"
      ]
     },
     "execution_count": 81,
     "metadata": {},
     "output_type": "execute_result"
    }
   ],
   "source": [
    "expr.diff()"
   ]
  },
  {
   "cell_type": "markdown",
   "id": "29d78384",
   "metadata": {},
   "source": [
    "### 15. Newton's Method"
   ]
  },
  {
   "cell_type": "code",
   "execution_count": 82,
   "id": "cfa48161",
   "metadata": {},
   "outputs": [],
   "source": [
    "def newton_method(expr, x0, wrt=x, tol=1e-6, max_iter=20, print_steps=True):\n",
    "    # Start with finding the derivative of our expression\n",
    "    d_expr = expr.diff(wrt) \n",
    "    # Convert both into numerical functions\n",
    "    f = sp.lambdify(wrt, expr)\n",
    "    df = sp.lambdify(wrt, d_expr)\n",
    "    \n",
    "    xi = x0 # Start with current guess\n",
    "    for i in range(max_iter):\n",
    "        yi = f(xi)  # Current y-value\n",
    "        mi = df(xi) # Current slope\n",
    "        # We need to make sure slope is not 0\n",
    "        if mi == 0:\n",
    "            raise ZeroDivisionError(\"Derivative is zero. No convergence.\")\n",
    "        # Find the x-intercept of the tangent line\n",
    "        x_intercept = xi - yi/mi\n",
    "        # The x-intercept is closer to the root so it becomes the next guess\n",
    "        x_next = x_intercept\n",
    "\n",
    "        if print_steps:\n",
    "            print(f\"Step {i+1}: x = {x_next}\")\n",
    "\n",
    "        # Check how much our guess improved\n",
    "        if abs(x_next - xi) < tol:\n",
    "            if print_steps:\n",
    "                print(f\"Root ≈ {x_next}\")\n",
    "            return x_next\n",
    "        \n",
    "        xi = x_next # Set the guess for next loop\n",
    "\n",
    "    # If loop runs fully, failed to converge\n",
    "    raise RuntimeError(\"Newton's method did not converge.\")"
   ]
  },
  {
   "cell_type": "code",
   "execution_count": 83,
   "id": "1aac9354",
   "metadata": {},
   "outputs": [
    {
     "name": "stdout",
     "output_type": "stream",
     "text": [
      "Step 1: x = 1.6170212765957448\n",
      "Step 2: x = 1.6028861207962761\n",
      "Step 3: x = 1.6026587079346704\n",
      "Step 4: x = 1.6026586495295585\n",
      "Root ≈ 1.6026586495295585\n"
     ]
    },
    {
     "data": {
      "text/plain": [
       "1.6026586495295585"
      ]
     },
     "execution_count": 83,
     "metadata": {},
     "output_type": "execute_result"
    }
   ],
   "source": [
    "expr = 5*x**3 - 7*x**2 -x -1\n",
    "newton_method(expr, 1.5)"
   ]
  },
  {
   "cell_type": "markdown",
   "id": "2e4fb264",
   "metadata": {},
   "source": [
    "### 16. Local Maxima/Minima"
   ]
  },
  {
   "cell_type": "code",
   "execution_count": 84,
   "id": "c5f9a3e7",
   "metadata": {},
   "outputs": [
    {
     "data": {
      "text/latex": [
       "$\\displaystyle - \\left(x - 4\\right) \\left(3 x + 2\\right)$"
      ],
      "text/plain": [
       "-(x - 4)*(3*x + 2)"
      ]
     },
     "metadata": {},
     "output_type": "display_data"
    },
    {
     "data": {
      "image/png": "[encoded data removed]",
      "text/plain": [
       "<Figure size 640x480 with 1 Axes>"
      ]
     },
     "metadata": {},
     "output_type": "display_data"
    },
    {
     "name": "stdout",
     "output_type": "stream",
     "text": [
      "(-2/3, -103/27)\n",
      "(4, 47)\n"
     ]
    }
   ],
   "source": [
    "expr = -x**3 +5*x**2 +8*x -1\n",
    "display(expr.diff().factor())\n",
    "# We want to know when the slope = 0\n",
    "plot = sp.plot(expr, expr.diff(), (x, -3, 5))\n",
    "ax = plot._backend\n",
    "for sol in sp.solve(expr.diff().factor(), x):\n",
    "    print(f\"({sol}, {expr.subs(x, sol)})\")"
   ]
  },
  {
   "cell_type": "markdown",
   "id": "5e963815",
   "metadata": {},
   "source": [
    "### 17. Displacement > Velocity"
   ]
  },
  {
   "cell_type": "code",
   "execution_count": 85,
   "id": "f688568f",
   "metadata": {},
   "outputs": [
    {
     "data": {
      "text/latex": [
       "$\\displaystyle 250.00231764325$"
      ],
      "text/plain": [
       "250.002317643250"
      ]
     },
     "execution_count": 85,
     "metadata": {},
     "output_type": "execute_result"
    }
   ],
   "source": [
    "ti = 3e-3\n",
    "expr = 3*sp.sin(183*t)*sp.cos(183*t)\n",
    "expr.diff().subs(t, ti)"
   ]
  },
  {
   "cell_type": "markdown",
   "id": "e8937cfe",
   "metadata": {},
   "source": [
    "### 18. Tangent Line"
   ]
  },
  {
   "cell_type": "code",
   "execution_count": 86,
   "id": "bc4d199d",
   "metadata": {},
   "outputs": [
    {
     "data": {
      "text/latex": [
       "$\\displaystyle \\frac{\\operatorname{atan}{\\left(\\frac{x}{5} \\right)}}{3}$"
      ],
      "text/plain": [
       "atan(x/5)/3"
      ]
     },
     "metadata": {},
     "output_type": "display_data"
    },
    {
     "data": {
      "text/latex": [
       "$\\displaystyle \\frac{\\pi}{12}$"
      ],
      "text/plain": [
       "pi/12"
      ]
     },
     "metadata": {},
     "output_type": "display_data"
    }
   ],
   "source": [
    "# Find expression of tangent line at x = 5\n",
    "expr = sp.Rational(1,3)*sp.atan(sp.Rational(1,5)*x)\n",
    "xi = 5\n",
    "display(expr , expr.subs(x, xi))"
   ]
  },
  {
   "cell_type": "code",
   "execution_count": 87,
   "id": "070f7048",
   "metadata": {},
   "outputs": [
    {
     "data": {
      "text/latex": [
       "$\\displaystyle \\frac{1}{30}$"
      ],
      "text/plain": [
       "1/30"
      ]
     },
     "execution_count": 87,
     "metadata": {},
     "output_type": "execute_result"
    }
   ],
   "source": [
    "slope = expr.diff().subs(x,xi)\n",
    "slope"
   ]
  },
  {
   "cell_type": "code",
   "execution_count": 88,
   "id": "98c9f628",
   "metadata": {},
   "outputs": [
    {
     "data": {
      "text/latex": [
       "$\\displaystyle - \\frac{1}{6} + \\frac{\\pi}{12}$"
      ],
      "text/plain": [
       "-1/6 + pi/12"
      ]
     },
     "execution_count": 88,
     "metadata": {},
     "output_type": "execute_result"
    }
   ],
   "source": [
    "y_val = expr.subs(x, xi)\n",
    "y_intercept =  y_val - slope*xi\n",
    "y_intercept"
   ]
  },
  {
   "cell_type": "code",
   "execution_count": 89,
   "id": "697a5342",
   "metadata": {},
   "outputs": [
    {
     "data": {
      "text/latex": [
       "$\\displaystyle \\frac{2 x - 10 + 5 \\pi}{60}$"
      ],
      "text/plain": [
       "(2*x - 10 + 5*pi)/60"
      ]
     },
     "execution_count": 89,
     "metadata": {},
     "output_type": "execute_result"
    }
   ],
   "source": [
    "tangent_line = slope*x + y_intercept.together()\n",
    "tangent_line.simplify().together()"
   ]
  },
  {
   "cell_type": "code",
   "execution_count": 90,
   "id": "03497e5e",
   "metadata": {},
   "outputs": [
    {
     "data": {
      "text/plain": [
       "'\\\\frac{x}{30} + \\\\frac{-2 + \\\\pi}{12}'"
      ]
     },
     "execution_count": 90,
     "metadata": {},
     "output_type": "execute_result"
    }
   ],
   "source": [
    "sp.latex(tangent_line)"
   ]
  },
  {
   "cell_type": "code",
   "execution_count": 91,
   "id": "4d367ddc",
   "metadata": {},
   "outputs": [
    {
     "data": {
      "image/png": "[encoded data removed]",
      "text/plain": [
       "<Figure size 640x480 with 1 Axes>"
      ]
     },
     "metadata": {},
     "output_type": "display_data"
    },
    {
     "data": {
      "text/plain": [
       "<sympy.plotting.backends.matplotlibbackend.matplotlib.MatplotlibBackend at 0x178f6cc0b90>"
      ]
     },
     "execution_count": 91,
     "metadata": {},
     "output_type": "execute_result"
    }
   ],
   "source": [
    "sp.plot(expr, tangent_line)"
   ]
  },
  {
   "cell_type": "code",
   "execution_count": 92,
   "id": "d726f5c9",
   "metadata": {},
   "outputs": [
    {
     "data": {
      "text/latex": [
       "$\\displaystyle \\frac{\\operatorname{atan}{\\left(\\frac{x}{3} \\right)}}{3}$"
      ],
      "text/plain": [
       "atan(x/3)/3"
      ]
     },
     "metadata": {},
     "output_type": "display_data"
    },
    {
     "data": {
      "text/latex": [
       "$\\displaystyle \\frac{\\pi}{12}$"
      ],
      "text/plain": [
       "pi/12"
      ]
     },
     "metadata": {},
     "output_type": "display_data"
    }
   ],
   "source": [
    "# Find expression of tangent line at x = 5\n",
    "expr = sp.Rational(1,3)*sp.atan(sp.Rational(1,3)*x)\n",
    "xi = 3\n",
    "display(expr , expr.subs(x, xi))"
   ]
  },
  {
   "cell_type": "code",
   "execution_count": 93,
   "id": "9912c86d",
   "metadata": {},
   "outputs": [
    {
     "data": {
      "text/latex": [
       "$\\displaystyle \\frac{2 x - 6 + 3 \\pi}{36}$"
      ],
      "text/plain": [
       "(2*x - 6 + 3*pi)/36"
      ]
     },
     "execution_count": 93,
     "metadata": {},
     "output_type": "execute_result"
    }
   ],
   "source": [
    "def get_tangent_at(expr, loc, wrt=x):\n",
    "    slope = expr.diff(wrt).subs(wrt, loc)\n",
    "    y_val = expr.subs(wrt, loc)\n",
    "    y_intercept =  y_val - slope*loc\n",
    "    tangent_line = slope*wrt + y_intercept\n",
    "    return tangent_line\n",
    "\n",
    "get_tangent_at(expr, xi).together()"
   ]
  },
  {
   "cell_type": "markdown",
   "id": "17d3f8ac",
   "metadata": {},
   "source": [
    "### Normal Line"
   ]
  },
  {
   "cell_type": "code",
   "execution_count": 94,
   "id": "e6c1523d",
   "metadata": {},
   "outputs": [
    {
     "data": {
      "text/latex": [
       "$\\displaystyle 2 \\sin{\\left(\\frac{x}{2} \\right)}$"
      ],
      "text/plain": [
       "2*sin(x/2)"
      ]
     },
     "metadata": {},
     "output_type": "display_data"
    },
    {
     "data": {
      "text/latex": [
       "$\\displaystyle \\sqrt{2}$"
      ],
      "text/plain": [
       "sqrt(2)"
      ]
     },
     "metadata": {},
     "output_type": "display_data"
    },
    {
     "data": {
      "text/latex": [
       "$\\displaystyle \\frac{3 \\pi}{2}$"
      ],
      "text/plain": [
       "3*pi/2"
      ]
     },
     "metadata": {},
     "output_type": "display_data"
    }
   ],
   "source": [
    "expr = 2*sp.sin(sp.Rational(1,2)*x)\n",
    "xi = 3*sp.pi/2\n",
    "display(expr , expr.subs(x, xi), xi)"
   ]
  },
  {
   "cell_type": "code",
   "execution_count": 95,
   "id": "8cf03225",
   "metadata": {},
   "outputs": [
    {
     "data": {
      "text/latex": [
       "$\\displaystyle \\sqrt{2} x - \\frac{3 \\sqrt{2} \\pi}{2} + \\sqrt{2}$"
      ],
      "text/plain": [
       "sqrt(2)*x - 3*sqrt(2)*pi/2 + sqrt(2)"
      ]
     },
     "execution_count": 95,
     "metadata": {},
     "output_type": "execute_result"
    }
   ],
   "source": [
    "def get_normal_at(expr, loc, wrt=x):\n",
    "    slope = expr.diff(wrt).subs(wrt, loc)\n",
    "    slope = -1/slope # Inverse reciprocal of\n",
    "    y_val = expr.subs(wrt, loc)\n",
    "    y_intercept =  y_val - slope*loc\n",
    "    normal_line = slope*wrt + y_intercept\n",
    "    return normal_line\n",
    "\n",
    "get_normal_at(expr, xi)"
   ]
  },
  {
   "cell_type": "code",
   "execution_count": 96,
   "id": "46864f03",
   "metadata": {},
   "outputs": [
    {
     "data": {
      "text/latex": [
       "$\\displaystyle \\sqrt{2} \\left(x - \\frac{3 \\pi}{2} + 1\\right)$"
      ],
      "text/plain": [
       "sqrt(2)*(x - 3*pi/2 + 1)"
      ]
     },
     "execution_count": 96,
     "metadata": {},
     "output_type": "execute_result"
    }
   ],
   "source": [
    "get_normal_at(expr, xi).simplify()"
   ]
  },
  {
   "cell_type": "code",
   "execution_count": 97,
   "id": "5fcff809",
   "metadata": {},
   "outputs": [
    {
     "data": {
      "image/png": "[encoded data removed]",
      "text/plain": [
       "<Figure size 640x480 with 1 Axes>"
      ]
     },
     "metadata": {},
     "output_type": "display_data"
    }
   ],
   "source": [
    "plot = sp.plot(expr, get_normal_at(expr,xi), get_tangent_at(expr,xi), (x, 4, 5), show=False)\n",
    "plot.aspect_ratio=(1,1)\n",
    "plot.show()"
   ]
  },
  {
   "cell_type": "markdown",
   "id": "09f27312",
   "metadata": {},
   "source": [
    "### Approximation with linearization"
   ]
  },
  {
   "attachments": {
    "image.png": {
     "image/png": "[encoded data removed]"
    }
   },
   "cell_type": "markdown",
   "id": "442de268",
   "metadata": {},
   "source": [
    "![image.png](attachment:image.png)"
   ]
  },
  {
   "cell_type": "code",
   "execution_count": 98,
   "id": "9e37a24d",
   "metadata": {},
   "outputs": [],
   "source": [
    "expr = sp.sqrt(2-x)\n",
    "a = 1"
   ]
  },
  {
   "cell_type": "code",
   "execution_count": 99,
   "id": "6feb04e8",
   "metadata": {},
   "outputs": [
    {
     "data": {
      "text/latex": [
       "$\\displaystyle \\frac{3 - x}{2}$"
      ],
      "text/plain": [
       "(3 - x)/2"
      ]
     },
     "execution_count": 99,
     "metadata": {},
     "output_type": "execute_result"
    }
   ],
   "source": [
    "fa = expr.subs(x, a)\n",
    "slope = expr.diff().subs(x, a)\n",
    "lx = fa+ slope*(x-a)\n",
    "lx.together()"
   ]
  },
  {
   "cell_type": "code",
   "execution_count": 100,
   "id": "6fdf4d54",
   "metadata": {},
   "outputs": [
    {
     "data": {
      "text/latex": [
       "$\\displaystyle \\frac{3}{2} - \\frac{x}{2}$"
      ],
      "text/plain": [
       "3/2 - x/2"
      ]
     },
     "metadata": {},
     "output_type": "display_data"
    },
    {
     "data": {
      "image/png": "[encoded data removed]",
      "text/plain": [
       "<Figure size 640x480 with 1 Axes>"
      ]
     },
     "metadata": {},
     "output_type": "display_data"
    },
    {
     "data": {
      "text/plain": [
       "<sympy.plotting.backends.matplotlibbackend.matplotlib.MatplotlibBackend at 0x178f7527250>"
      ]
     },
     "execution_count": 100,
     "metadata": {},
     "output_type": "execute_result"
    }
   ],
   "source": [
    "tangent_line = get_tangent_at(expr, a)\n",
    "display(tangent_line)\n",
    "sp.plot(expr, tangent_line, (x, .5, 1.5))"
   ]
  },
  {
   "cell_type": "code",
   "execution_count": 101,
   "id": "a717715b",
   "metadata": {},
   "outputs": [
    {
     "data": {
      "text/latex": [
       "$\\displaystyle 1.4$"
      ],
      "text/plain": [
       "1.40000000000000"
      ]
     },
     "execution_count": 101,
     "metadata": {},
     "output_type": "execute_result"
    }
   ],
   "source": [
    "tangent_line.subs(x, 2-1.8)"
   ]
  },
  {
   "cell_type": "code",
   "execution_count": 102,
   "id": "9fe36022",
   "metadata": {},
   "outputs": [
    {
     "data": {
      "text/latex": [
       "$\\displaystyle \\frac{5}{4}$"
      ],
      "text/plain": [
       "5/4"
      ]
     },
     "execution_count": 102,
     "metadata": {},
     "output_type": "execute_result"
    }
   ],
   "source": [
    "tangent_line.subs(x, sp.Rational(1,2))"
   ]
  },
  {
   "cell_type": "code",
   "execution_count": 103,
   "id": "40e4c18d",
   "metadata": {},
   "outputs": [
    {
     "data": {
      "text/latex": [
       "$\\displaystyle 1.22474487139159$"
      ],
      "text/plain": [
       "1.22474487139159"
      ]
     },
     "execution_count": 103,
     "metadata": {},
     "output_type": "execute_result"
    }
   ],
   "source": [
    "sp.sqrt(1.5)"
   ]
  },
  {
   "cell_type": "markdown",
   "id": "bd28e09c",
   "metadata": {},
   "source": [
    "example"
   ]
  },
  {
   "cell_type": "code",
   "execution_count": 104,
   "id": "4510ac99",
   "metadata": {},
   "outputs": [
    {
     "data": {
      "text/latex": [
       "$\\displaystyle \\frac{13}{4} - \\frac{x}{4}$"
      ],
      "text/plain": [
       "13/4 - x/4"
      ]
     },
     "metadata": {},
     "output_type": "display_data"
    },
    {
     "data": {
      "text/latex": [
       "$\\displaystyle 1.525$"
      ],
      "text/plain": [
       "1.52500000000000"
      ]
     },
     "execution_count": 104,
     "metadata": {},
     "output_type": "execute_result"
    }
   ],
   "source": [
    "expr = sp.sqrt(9-x)\n",
    "a = 5\n",
    "tangent_line = get_tangent_at(expr, a)\n",
    "display(tangent_line)\n",
    "tangent_line.subs(x, 9-2.1)"
   ]
  },
  {
   "attachments": {
    "image.png": {
     "image/png": "[encoded data removed]"
    }
   },
   "cell_type": "markdown",
   "id": "48079035",
   "metadata": {},
   "source": [
    "### 20. L'Hospital's rule\n",
    "![image.png](attachment:image.png)"
   ]
  },
  {
   "cell_type": "markdown",
   "id": "94ba923a",
   "metadata": {},
   "source": [
    "AI Overview  \n",
    "L'Hôpital's Rule is a method used in calculus to evaluate limits of indeterminate forms, specifically those of the form 0/0 or ∞/∞. It states that if the limit of a quotient of two functions results in one of these indeterminate forms, then the limit of the quotient is equal to the limit of the quotient of their derivatives, provided the latter limit exists. "
   ]
  },
  {
   "cell_type": "code",
   "execution_count": 105,
   "id": "6016da1c",
   "metadata": {},
   "outputs": [],
   "source": [
    "numer = sp.ln(x)\n",
    "denom = x**-1\n",
    "expr = numer/denom"
   ]
  },
  {
   "cell_type": "code",
   "execution_count": 106,
   "id": "278df459",
   "metadata": {},
   "outputs": [
    {
     "data": {
      "text/latex": [
       "$\\displaystyle -\\infty$"
      ],
      "text/plain": [
       "-oo"
      ]
     },
     "metadata": {},
     "output_type": "display_data"
    },
    {
     "data": {
      "text/latex": [
       "$\\displaystyle \\infty$"
      ],
      "text/plain": [
       "oo"
      ]
     },
     "metadata": {},
     "output_type": "display_data"
    }
   ],
   "source": [
    "# It's a bit hard to demo this with sympy with this expression\n",
    "# But if we take the limits as x approaches 0 of each part of the quotient seperately we arrive at the indeterminate form\n",
    "display(numer.limit(x, 0))\n",
    "display(denom.limit(x, 0))"
   ]
  },
  {
   "cell_type": "code",
   "execution_count": 107,
   "id": "a48aa628",
   "metadata": {},
   "outputs": [
    {
     "data": {
      "text/latex": [
       "$\\displaystyle - x$"
      ],
      "text/plain": [
       "-x"
      ]
     },
     "metadata": {},
     "output_type": "display_data"
    },
    {
     "data": {
      "text/latex": [
       "$\\displaystyle 0$"
      ],
      "text/plain": [
       "0"
      ]
     },
     "metadata": {},
     "output_type": "display_data"
    }
   ],
   "source": [
    "# But we can use L'Hopital's rule and instead take the limit of the quotient of their derivatives\n",
    "display(numer.diff()/denom.diff())\n",
    "display((numer.diff()/denom.diff()).limit(x,0))"
   ]
  },
  {
   "cell_type": "code",
   "execution_count": 108,
   "id": "55b4f3bc",
   "metadata": {},
   "outputs": [
    {
     "data": {
      "text/latex": [
       "$\\displaystyle 0$"
      ],
      "text/plain": [
       "0"
      ]
     },
     "execution_count": 108,
     "metadata": {},
     "output_type": "execute_result"
    }
   ],
   "source": [
    "# Which we can confirm with sympy by taking the limit of the original expression\n",
    "expr.limit(x, 0)"
   ]
  },
  {
   "cell_type": "markdown",
   "id": "33551b5f",
   "metadata": {},
   "source": [
    "### Find specific slope"
   ]
  },
  {
   "cell_type": "code",
   "execution_count": 109,
   "id": "aa706ee2",
   "metadata": {},
   "outputs": [
    {
     "name": "stdout",
     "output_type": "stream",
     "text": [
      "(5, 125)\n"
     ]
    }
   ],
   "source": [
    "expr = 5*x**2\n",
    "mtan = 50\n",
    "sol = sp.solve(expr.diff()-mtan, x)\n",
    "for s in sol:\n",
    "    print(f\"({s}, {expr.subs(x, s)})\")"
   ]
  },
  {
   "cell_type": "markdown",
   "id": "6ff14c32",
   "metadata": {},
   "source": [
    "### Implicit diff"
   ]
  },
  {
   "cell_type": "code",
   "execution_count": 110,
   "id": "916469cb",
   "metadata": {},
   "outputs": [
    {
     "data": {
      "text/latex": [
       "$\\displaystyle \\frac{x{\\left(x \\right)} \\frac{d}{d x} x{\\left(x \\right)}}{y{\\left(x \\right)}}$"
      ],
      "text/plain": [
       "x(x)*Derivative(x(x), x)/y(x)"
      ]
     },
     "execution_count": 110,
     "metadata": {},
     "output_type": "execute_result"
    }
   ],
   "source": [
    "# Note: This is typically easier to do by hand\n",
    "x, y = sp.symbols('x, y')\n",
    "def implicit_diff(expr, wrt=x, solve_for=y, return_dict=False):\n",
    "    # Treat every variable as a function of a single variable (which is implied)\n",
    "    funcs = {}\n",
    "    syms = {}\n",
    "    for var in expr.free_symbols:\n",
    "        func = sp.Function(str(var))(wrt)\n",
    "        funcs[var] = func\n",
    "        syms[func] = var\n",
    "    expr_funcs = expr.subs(funcs)\n",
    "    # Differentiate the entire thing with respect to your variable\n",
    "    diff_expr_funcs = expr_funcs.diff(wrt)\n",
    "    # Solve for the derivative that you want\n",
    "    solution = sp.solve(diff_expr_funcs, funcs[solve_for].diff())\n",
    "    \n",
    "    if return_dict:\n",
    "        output = {\n",
    "            'solution': solution,\n",
    "            'functions': funcs,\n",
    "            'symbols': syms,\n",
    "        }\n",
    "        return output\n",
    "    else:\n",
    "        return solution\n",
    "    \n",
    "# Demo\n",
    "expr = x**2-y**2-1\n",
    "t = sp.symbols('t') # wrt does not need to be in the expression\n",
    "implicit_diff(expr, x, y)[0]"
   ]
  },
  {
   "cell_type": "code",
   "execution_count": 111,
   "id": "21941854",
   "metadata": {},
   "outputs": [
    {
     "data": {
      "text/latex": [
       "$\\displaystyle \\frac{x}{\\sqrt{x^{2} - 1}}$"
      ],
      "text/plain": [
       "x/sqrt(x**2 - 1)"
      ]
     },
     "execution_count": 111,
     "metadata": {},
     "output_type": "execute_result"
    }
   ],
   "source": [
    "sp.solve(expr, y)[1].diff()"
   ]
  }
 ],
 "metadata": {
  "kernelspec": {
   "display_name": "Python 3",
   "language": "python",
   "name": "python3"
  },
  "language_info": {
   "codemirror_mode": {
    "name": "ipython",
    "version": 3
   },
   "file_extension": ".py",
   "mimetype": "text/x-python",
   "name": "python",
   "nbconvert_exporter": "python",
   "pygments_lexer": "ipython3",
   "version": "3.13.2"
  }
 },
 "nbformat": 4,
 "nbformat_minor": 5
}
