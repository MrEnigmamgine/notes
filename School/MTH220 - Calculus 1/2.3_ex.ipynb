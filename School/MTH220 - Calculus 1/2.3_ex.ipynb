{
 "cells": [
  {
   "cell_type": "code",
   "execution_count": 40,
   "id": "e4b15895",
   "metadata": {},
   "outputs": [],
   "source": [
    "import numpy as np\n",
    "import pandas as pd\n",
    "import sympy as sp"
   ]
  },
  {
   "cell_type": "markdown",
   "id": "a972d567",
   "metadata": {},
   "source": [
    "MTH220  \n",
    "2.3 Assignment  \n",
    "06/27/2025  \n",
    "J.D.M  "
   ]
  },
  {
   "cell_type": "markdown",
   "id": "27806923",
   "metadata": {},
   "source": [
    "## Exercise 2"
   ]
  },
  {
   "cell_type": "markdown",
   "id": "13c6c2db",
   "metadata": {},
   "source": [
    "### Background"
   ]
  },
  {
   "cell_type": "markdown",
   "id": "b5cc95ff",
   "metadata": {},
   "source": [
    "#### 2nd Derivatives"
   ]
  },
  {
   "cell_type": "markdown",
   "id": "5051ad5c",
   "metadata": {},
   "source": [
    "In last week's exercise we examined how we might approximate a derivative using discrete data-points without a formula. In this exercise we will expand that concept by approximating the second derivative.\n",
    "\n",
    "In simple terms, the second derivative is simply the derivative of the derivative. \n",
    "\n",
    "$$\n",
    "\\underbrace{f'(x) = \\lim_{h \\to 0} \\frac{f(x + h) - f(x)}{h}}_\\text{1st derivative}\n",
    "\\quad \\iff \\quad\n",
    "\\underbrace{f''(x) = \\lim_{h \\to 0} \\frac{f'(x + h) - f'(x)}{h}}_\\text{2nd derivative}\n",
    "$$"
   ]
  },
  {
   "cell_type": "markdown",
   "id": "edd47ee1",
   "metadata": {},
   "source": [
    "#### Using 2nd derivatives to calculate acceleration from positional data"
   ]
  },
  {
   "cell_type": "markdown",
   "id": "6be2a576",
   "metadata": {},
   "source": [
    "The second derivative is sometimes useful in engineering. For example, if you wanted to calculate the forces subjected to an object but all you have available is positional data.\n",
    "\n",
    "Recall that the derivative provides an **instantaneous rate of change**. Well, an object's rate of change of position is called velocity; and the rate of change in velocity is called acceleration. If we know the object's mass, then we can easily use acceleration to calculate forces using Newton's second law:\n",
    "$$ F = ma $$"
   ]
  },
  {
   "cell_type": "markdown",
   "id": "501d01d2",
   "metadata": {},
   "source": [
    "For example:  \n",
    "Let's say we are tracking the position ($s$) of a rocket booster repeatedly at specific intervals of time ($t$).  In this scenario, we could say that is position is a function of time:\n",
    "$$ s(t) $$\n",
    "If we instead look at the change in position over the time between each polling, we can determine the rocket booster's velocity:\n",
    "$$ v(t) = s'(t) = \\frac{ds}{dt} $$\n",
    "Likewise, if we observe how the velocity itself is changing over time, we can determine the rocket booster's acceleration:\n",
    "$$ a(t) = v'(t) = s''(t) = \\frac{d^2s}{dt^2} $$\n",
    "\n",
    "This means we can apply Newton's second law purely through (timestamped) positional data!\n",
    "$$ F = m \\frac{d^2s}{dt^2} $$"
   ]
  },
  {
   "cell_type": "markdown",
   "id": "597199c0",
   "metadata": {},
   "source": [
    "#### Approximating the second derivative"
   ]
  },
  {
   "cell_type": "markdown",
   "id": "43b89edf",
   "metadata": {},
   "source": [
    "Since we can't collect positional data infinitely fast such that $t \\to 0$, and don't know the actual function that determines position, we can only approximate these derivatives.  \n",
    "Recall from last week that we have a few techniques for doing so:\n",
    "\n",
    "__**Forward difference**__\n",
    "$$\n",
    "f_f'(x_i) \\approxeq \\frac{f(x_{i+1}) - f(x_i)}{h}\n",
    "$$\n",
    "\n",
    "__**Backward difference**__\n",
    "$$\n",
    "f_b'(x_i) \\approxeq \\frac{f(x_{i}) - f(x_{i-1})}{h}\n",
    "$$\n",
    "\n",
    "__**Centered difference**__\n",
    "$$\n",
    "f_c'(x_i) \\approxeq \\frac{f(x_{i+1}) - f(x_{i-1})}{2h}\n",
    "$$"
   ]
  },
  {
   "cell_type": "markdown",
   "id": "300cbe01",
   "metadata": {},
   "source": [
    "If we substitute one of these approximations in for the derivatives in our definition of the second derivative, we can arrive at an approximation of the second derivative.  A conventional way to do this is to use the *forward difference* as $f'(x+h)$ and the *backward difference* as $f'(x)$.\n",
    "$$\n",
    "f''(x) \\approx \\frac{\\frac{f(x_{i+1}) - f(x_i)}{h} - \\frac{f(x_{i}) - f(x_{i-1})}{h}}{h} \\\\\n",
    "$$\n",
    "\n",
    "Which simplifies to **central difference formula for the second derivative**:\n",
    "$$\n",
    "f''(x) \\approx \\frac{f(x + h) - 2f(x) + f(x - h)}{h^2}\n",
    "$$"
   ]
  },
  {
   "cell_type": "markdown",
   "id": "908a8e81",
   "metadata": {},
   "source": [
    "### The Assignment"
   ]
  },
  {
   "cell_type": "markdown",
   "id": "cc5cb716",
   "metadata": {},
   "source": [
    "Assume the formula and point of interest is as follows:\n",
    "\n",
    "$$\\begin{align*}\\Large\n",
    "f(x) &= 5\\cos(x) - 4\\sin(x) \\\\\n",
    "x_i &= 1.7\n",
    "\\end{align*}$$"
   ]
  },
  {
   "cell_type": "code",
   "execution_count": 41,
   "id": "2e0dfc5f",
   "metadata": {},
   "outputs": [
    {
     "data": {
      "text/latex": [
       "$\\displaystyle - 4 \\sin{\\left(x \\right)} + 5 \\cos{\\left(x \\right)}$"
      ],
      "text/plain": [
       "-4*sin(x) + 5*cos(x)"
      ]
     },
     "execution_count": 41,
     "metadata": {},
     "output_type": "execute_result"
    }
   ],
   "source": [
    "x = sp.symbols('x')\n",
    "xi = 1.7\n",
    "fxpr = 5*sp.cos(x) - 4*sp.sin(x)\n",
    "fxpr"
   ]
  },
  {
   "cell_type": "markdown",
   "id": "85418caf",
   "metadata": {},
   "source": [
    "The reason we are using a formula instead of a dataset is because we would like the actual 2nd derivative to compare with our approximations."
   ]
  },
  {
   "cell_type": "code",
   "execution_count": 42,
   "id": "0a89da53",
   "metadata": {},
   "outputs": [
    {
     "data": {
      "text/latex": [
       "$\\displaystyle 4 \\sin{\\left(x \\right)} - 5 \\cos{\\left(x \\right)}$"
      ],
      "text/plain": [
       "4*sin(x) - 5*cos(x)"
      ]
     },
     "execution_count": 42,
     "metadata": {},
     "output_type": "execute_result"
    }
   ],
   "source": [
    "d2f = fxpr.diff(x, 2)\n",
    "d2f"
   ]
  },
  {
   "cell_type": "code",
   "execution_count": 43,
   "id": "f88ef078",
   "metadata": {},
   "outputs": [
    {
     "data": {
      "text/latex": [
       "$\\displaystyle 4.6108817132875$"
      ],
      "text/plain": [
       "4.61088171328750"
      ]
     },
     "execution_count": 43,
     "metadata": {},
     "output_type": "execute_result"
    }
   ],
   "source": [
    "# Evaluate at xi\n",
    "d2f_xi = d2f.subs(x, xi)\n",
    "d2f_xi"
   ]
  },
  {
   "cell_type": "markdown",
   "id": "2302853d",
   "metadata": {},
   "source": [
    "Now, to calculate our approximations we only need 3 samples using our formula:  \n",
    "- $x_{i-1} = 1.7-h$\n",
    "- $x_{i} = 1.7$\n",
    "- $x_{i+1} = 1.7+h$"
   ]
  },
  {
   "cell_type": "markdown",
   "id": "f3d9d4cc",
   "metadata": {},
   "source": [
    "We will calculate these values at progressively smaller values of h:\n",
    "\n",
    "- h = 0.2\n",
    "- h = 0.1\n",
    "- h = 0.05\n",
    "- h = 0.025\n"
   ]
  },
  {
   "cell_type": "code",
   "execution_count": 44,
   "id": "17a27599",
   "metadata": {},
   "outputs": [
    {
     "data": {
      "text/html": [
       "<div>\n",
       "<style scoped>\n",
       "    .dataframe tbody tr th:only-of-type {\n",
       "        vertical-align: middle;\n",
       "    }\n",
       "\n",
       "    .dataframe tbody tr th {\n",
       "        vertical-align: top;\n",
       "    }\n",
       "\n",
       "    .dataframe thead th {\n",
       "        text-align: right;\n",
       "    }\n",
       "</style>\n",
       "<table border=\"1\" class=\"dataframe\">\n",
       "  <thead>\n",
       "    <tr style=\"text-align: right;\">\n",
       "      <th></th>\n",
       "      <th>0.200</th>\n",
       "      <th>0.100</th>\n",
       "      <th>0.050</th>\n",
       "      <th>0.025</th>\n",
       "    </tr>\n",
       "  </thead>\n",
       "  <tbody>\n",
       "    <tr>\n",
       "      <th>0</th>\n",
       "      <td>-3.636294</td>\n",
       "      <td>-4.144292</td>\n",
       "      <td>-4.383065</td>\n",
       "      <td>-4.498379</td>\n",
       "    </tr>\n",
       "    <tr>\n",
       "      <th>1</th>\n",
       "      <td>-4.610882</td>\n",
       "      <td>-4.610882</td>\n",
       "      <td>-4.610882</td>\n",
       "      <td>-4.610882</td>\n",
       "    </tr>\n",
       "    <tr>\n",
       "      <th>2</th>\n",
       "      <td>-5.401648</td>\n",
       "      <td>-5.031401</td>\n",
       "      <td>-4.827174</td>\n",
       "      <td>-4.720503</td>\n",
       "    </tr>\n",
       "  </tbody>\n",
       "</table>\n",
       "</div>"
      ],
      "text/plain": [
       "      0.200     0.100     0.050     0.025\n",
       "0 -3.636294 -4.144292 -4.383065 -4.498379\n",
       "1 -4.610882 -4.610882 -4.610882 -4.610882\n",
       "2 -5.401648 -5.031401 -4.827174 -4.720503"
      ]
     },
     "execution_count": 44,
     "metadata": {},
     "output_type": "execute_result"
    }
   ],
   "source": [
    "# Define what we will use to generate data\n",
    "f = lambda x: 5*np.cos(x) - 4*np.sin(x)\n",
    "xi = 1.7\n",
    "\n",
    "# Generate data\n",
    "table = {}\n",
    "for i in range(4):\n",
    "    h = 0.2 * 2**-i\n",
    "    table[h] = {\n",
    "        0 : f(xi-h),\n",
    "        1 : f(xi),\n",
    "        2 : f(xi+h),\n",
    "    }\n",
    "\n",
    "# Tabulate in a dataframe\n",
    "df = pd.DataFrame(table)\n",
    "df"
   ]
  },
  {
   "cell_type": "markdown",
   "id": "bcb9089f",
   "metadata": {},
   "source": [
    "With our data in-hand, we can approximate the second derivative for each distance of h using the central difference approximation:\n",
    "$$\n",
    "f''(x) \\approx \\frac{f(x + h) - 2f(x) + f(x - h)}{h^2}\n",
    "$$"
   ]
  },
  {
   "cell_type": "code",
   "execution_count": 53,
   "id": "92b9e69d",
   "metadata": {},
   "outputs": [
    {
     "data": {
      "text/html": [
       "<div>\n",
       "<style scoped>\n",
       "    .dataframe tbody tr th:only-of-type {\n",
       "        vertical-align: middle;\n",
       "    }\n",
       "\n",
       "    .dataframe tbody tr th {\n",
       "        vertical-align: top;\n",
       "    }\n",
       "\n",
       "    .dataframe thead th {\n",
       "        text-align: right;\n",
       "    }\n",
       "</style>\n",
       "<table border=\"1\" class=\"dataframe\">\n",
       "  <thead>\n",
       "    <tr style=\"text-align: right;\">\n",
       "      <th></th>\n",
       "      <th>approx_central_diff</th>\n",
       "      <th>exact_2nd_derivative</th>\n",
       "      <th>error</th>\n",
       "    </tr>\n",
       "  </thead>\n",
       "  <tbody>\n",
       "    <tr>\n",
       "      <th>0.200</th>\n",
       "      <td>4.595533</td>\n",
       "      <td>4.61088171328750</td>\n",
       "      <td>-0.0153491275345727</td>\n",
       "    </tr>\n",
       "    <tr>\n",
       "      <th>0.100</th>\n",
       "      <td>4.607041</td>\n",
       "      <td>4.61088171328750</td>\n",
       "      <td>-0.00384112085601007</td>\n",
       "    </tr>\n",
       "    <tr>\n",
       "      <th>0.050</th>\n",
       "      <td>4.609921</td>\n",
       "      <td>4.61088171328750</td>\n",
       "      <td>-0.000960520310358426</td>\n",
       "    </tr>\n",
       "    <tr>\n",
       "      <th>0.025</th>\n",
       "      <td>4.610642</td>\n",
       "      <td>4.61088171328750</td>\n",
       "      <td>-0.000240145087063048</td>\n",
       "    </tr>\n",
       "  </tbody>\n",
       "</table>\n",
       "</div>"
      ],
      "text/plain": [
       "       approx_central_diff exact_2nd_derivative                  error\n",
       "0.200             4.595533     4.61088171328750    -0.0153491275345727\n",
       "0.100             4.607041     4.61088171328750   -0.00384112085601007\n",
       "0.050             4.609921     4.61088171328750  -0.000960520310358426\n",
       "0.025             4.610642     4.61088171328750  -0.000240145087063048"
      ]
     },
     "execution_count": 53,
     "metadata": {},
     "output_type": "execute_result"
    }
   ],
   "source": [
    "table2 = {}\n",
    "for col in df:\n",
    "    # Pull the data from the above table\n",
    "    x0 = df[col][0]\n",
    "    x1 = df[col][1]\n",
    "    x2 = df[col][2]\n",
    "    h = col # Luckily the h-value is stored in the column name\n",
    "\n",
    "    table2[h] = {\n",
    "        'approx_central_diff': (x2-2*x1+x0)/h**2\n",
    "    }\n",
    "\n",
    "df2 = pd.DataFrame(table2).T\n",
    "df2['exact_2nd_derivative'] = d2f_xi.evalf()\n",
    "df2['error'] = df2['approx_central_diff'] - df2['exact_2nd_derivative']\n",
    "df2"
   ]
  },
  {
   "cell_type": "markdown",
   "id": "a0729405",
   "metadata": {},
   "source": [
    "#### Questions"
   ]
  },
  {
   "cell_type": "markdown",
   "id": "2b330316",
   "metadata": {},
   "source": [
    "- Does the error in the central difference approximation drop as the mesh size h is reduced?"
   ]
  },
  {
   "cell_type": "code",
   "execution_count": null,
   "id": "b782aa8b",
   "metadata": {},
   "outputs": [
    {
     "data": {
      "text/plain": [
       "0.200    False\n",
       "0.100     True\n",
       "0.050     True\n",
       "0.025     True\n",
       "Name: error, dtype: bool"
      ]
     },
     "execution_count": 69,
     "metadata": {},
     "output_type": "execute_result"
    },
    {
     "ename": "",
     "evalue": "",
     "output_type": "error",
     "traceback": [
      "\u001b[1;31mThe Kernel crashed while executing code in the current cell or a previous cell. \n",
      "\u001b[1;31mPlease review the code in the cell(s) to identify a possible cause of the failure. \n",
      "\u001b[1;31mClick <a href='https://aka.ms/vscodeJupyterKernelCrash'>here</a> for more info. \n",
      "\u001b[1;31mView Jupyter <a href='command:jupyter.viewOutput'>log</a> for further details."
     ]
    }
   ],
   "source": [
    "# Compare each error with the previous error\n",
    "# The errors are negative, so we'll compare their absolute values\n",
    "# Previous value              # Current Value\n",
    "df2['error'].abs().shift(1) > df2['error'].abs()"
   ]
  },
  {
   "cell_type": "markdown",
   "id": "f66309bc",
   "metadata": {},
   "source": [
    "The magnitude of the error decreases with smaller unit mesh sizes."
   ]
  },
  {
   "cell_type": "markdown",
   "id": "61bd3981",
   "metadata": {},
   "source": [
    "- As the mesh size h is reduced by a factor of 2, by what factor is the error in the central difference approximation reduced?"
   ]
  },
  {
   "cell_type": "code",
   "execution_count": null,
   "id": "8dd3e606",
   "metadata": {},
   "outputs": [
    {
     "data": {
      "text/plain": [
       "0.200                 NaN\n",
       "0.100    3.99600223735644\n",
       "0.050    3.99900014043090\n",
       "0.025    3.99974999324574\n",
       "Name: error, dtype: object"
      ]
     },
     "execution_count": 60,
     "metadata": {},
     "output_type": "execute_result"
    }
   ],
   "source": [
    "# Determine the factor of error reduction\n",
    "df2['error'].shift(1) / df2['error']"
   ]
  },
  {
   "cell_type": "markdown",
   "id": "5f5ad3b3",
   "metadata": {},
   "source": [
    "The error is reduced by $\\frac{1}{4}$ as the mesh unit is reduced by $\\frac{1}{2}$. "
   ]
  }
 ],
 "metadata": {
  "kernelspec": {
   "display_name": "Python 3",
   "language": "python",
   "name": "python3"
  },
  "language_info": {
   "codemirror_mode": {
    "name": "ipython",
    "version": 3
   },
   "file_extension": ".py",
   "mimetype": "text/x-python",
   "name": "python",
   "nbconvert_exporter": "python",
   "pygments_lexer": "ipython3",
   "version": "3.13.2"
  }
 },
 "nbformat": 4,
 "nbformat_minor": 5
}
