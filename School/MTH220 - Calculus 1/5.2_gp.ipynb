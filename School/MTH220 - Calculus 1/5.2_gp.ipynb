{
 "cells": [
  {
   "cell_type": "code",
   "execution_count": 2,
   "id": "6ce7598d",
   "metadata": {},
   "outputs": [],
   "source": [
    "import sympy as sp\n",
    "import numpy as np\n",
    "\n",
    "x, y = sp.symbols('x, y')"
   ]
  },
  {
   "attachments": {
    "image.png": {
     "image/png": "[encoded data removed]"
    }
   },
   "cell_type": "markdown",
   "id": "4c8192e1",
   "metadata": {},
   "source": [
    "### 1\n",
    "![image.png](attachment:image.png)"
   ]
  },
  {
   "cell_type": "markdown",
   "id": "0ddd017e",
   "metadata": {},
   "source": [
    "This is a pretty straight forward physics question.\n",
    "$$ a = v/t \\iff v = at$$"
   ]
  },
  {
   "cell_type": "code",
   "execution_count": 3,
   "id": "d80b2715",
   "metadata": {},
   "outputs": [
    {
     "data": {
      "text/plain": [
       "-48.0"
      ]
     },
     "execution_count": 3,
     "metadata": {},
     "output_type": "execute_result"
    }
   ],
   "source": [
    "a = -32 #ft/s/s ## Annoyingly, matlab defines gravity with -32, instead of +32.174\n",
    "ti = 1.5 #s\n",
    "v0 = 0\n",
    "\n",
    "v = a*ti\n",
    "v"
   ]
  },
  {
   "cell_type": "markdown",
   "id": "b45fca3b",
   "metadata": {},
   "source": [
    "But we care about finding it with calculus.  This involves recognizing that displacement, velocity, and acceleration are all related through integration and derivation:\n",
    "$$\n",
    "\\frac{d}{dt}[v(t)] = a(t) \\iff \\int [a(t) dt] = v(t)\n",
    "$$"
   ]
  },
  {
   "cell_type": "code",
   "execution_count": 4,
   "id": "099614c6",
   "metadata": {},
   "outputs": [
    {
     "data": {
      "text/latex": [
       "$\\displaystyle -48.0$"
      ],
      "text/plain": [
       "-48.0000000000000"
      ]
     },
     "execution_count": 4,
     "metadata": {},
     "output_type": "execute_result"
    }
   ],
   "source": [
    "C = sp.symbols('C')\n",
    "expr = -32\n",
    "indef_integral = sp.integrate(expr,x) + C\n",
    "this_C = sp.solve(sp.Eq(indef_integral.subs(x, 0), v0), C)[0]\n",
    "indef_integral.subs(C, this_C).subs(x, ti)"
   ]
  },
  {
   "attachments": {
    "image.png": {
     "image/png": "[encoded data removed]"
    }
   },
   "cell_type": "markdown",
   "id": "0c45bcaa",
   "metadata": {},
   "source": [
    "### 2\n",
    "![image.png](attachment:image.png)"
   ]
  },
  {
   "cell_type": "markdown",
   "id": "f65a1b58",
   "metadata": {},
   "source": [
    "$$ \\int \\sqrt{1+0.25t} \\, dt $$"
   ]
  },
  {
   "cell_type": "code",
   "execution_count": 5,
   "id": "5d0392d0",
   "metadata": {},
   "outputs": [
    {
     "data": {
      "text/latex": [
       "$\\displaystyle \\sqrt{\\frac{t}{4} + 1}$"
      ],
      "text/plain": [
       "sqrt(t/4 + 1)"
      ]
     },
     "execution_count": 5,
     "metadata": {},
     "output_type": "execute_result"
    }
   ],
   "source": [
    "t = sp.symbols('t')\n",
    "C = sp.symbols('C')\n",
    "expr = sp.sqrt(1+sp.Rational(1,4)*t)\n",
    "expr\n"
   ]
  },
  {
   "cell_type": "code",
   "execution_count": 6,
   "id": "b43006a2",
   "metadata": {},
   "outputs": [
    {
     "data": {
      "text/latex": [
       "$\\displaystyle \\frac{8 \\left(\\frac{t}{4} + 1\\right)^{\\frac{3}{2}}}{3} - \\frac{8}{3}$"
      ],
      "text/plain": [
       "8*(t/4 + 1)**(3/2)/3 - 8/3"
      ]
     },
     "execution_count": 6,
     "metadata": {},
     "output_type": "execute_result"
    }
   ],
   "source": [
    "def get_specific_integral(expr, wrt, reference_point=(0,0)):\n",
    "    # unpack our reference point \n",
    "    xi, yi = reference_point\n",
    "    # We'll need to use the constant of integration to work with the indefinite integral\n",
    "    C = sp.symbols('C')\n",
    "    indefinite_integral = sp.integrate(expr,wrt) + C\n",
    "    # Anchor the integral to the reference point and solve for C\n",
    "    anchored_integral = indefinite_integral.subs(wrt, xi)-yi #subtracting y is the same as setting equal to y\n",
    "    this_C = sp.solve(anchored_integral, C)[0]\n",
    "    # Substitute back into the indefinite integral to get a specific function\n",
    "    specific_integral = indefinite_integral.subs(C, this_C)\n",
    "    return specific_integral\n",
    "\n",
    "get_specific_integral(expr, t, (0,0))"
   ]
  },
  {
   "cell_type": "code",
   "execution_count": 7,
   "id": "bd261e28",
   "metadata": {},
   "outputs": [
    {
     "data": {
      "text/latex": [
       "$\\displaystyle \\frac{8 \\left(\\frac{t}{4} + 1\\right)^{\\frac{3}{2}}}{3} - \\frac{8}{3}$"
      ],
      "text/plain": [
       "8*(t/4 + 1)**(3/2)/3 - 8/3"
      ]
     },
     "execution_count": 7,
     "metadata": {},
     "output_type": "execute_result"
    }
   ],
   "source": [
    "ref = (0,0)\n",
    "first_integral = get_specific_integral(expr, t, ref)\n",
    "first_integral"
   ]
  },
  {
   "cell_type": "code",
   "execution_count": 8,
   "id": "13e27d5f",
   "metadata": {},
   "outputs": [
    {
     "data": {
      "text/latex": [
       "$\\displaystyle - \\frac{8 t}{3} + \\frac{64 \\left(\\frac{t}{4} + 1\\right)^{\\frac{5}{2}}}{15} - \\frac{19}{15}$"
      ],
      "text/plain": [
       "-8*t/3 + 64*(t/4 + 1)**(5/2)/15 - 19/15"
      ]
     },
     "execution_count": 8,
     "metadata": {},
     "output_type": "execute_result"
    }
   ],
   "source": [
    "ref = (0,3)\n",
    "second_integral = get_specific_integral(first_integral, t, ref)\n",
    "second_integral"
   ]
  },
  {
   "cell_type": "code",
   "execution_count": 9,
   "id": "3f621dbf",
   "metadata": {},
   "outputs": [
    {
     "data": {
      "text/latex": [
       "$\\displaystyle \\frac{8 \\left(\\frac{t}{4} + 1\\right)^{\\frac{3}{2}}}{3} - \\frac{8}{3}$"
      ],
      "text/plain": [
       "8*(t/4 + 1)**(3/2)/3 - 8/3"
      ]
     },
     "execution_count": 9,
     "metadata": {},
     "output_type": "execute_result"
    }
   ],
   "source": [
    "\n",
    "wrt = t\n",
    "wrt_init = 0\n",
    "eval_init = 0\n",
    "indefinite_integral = sp.integrate(expr,t) + C\n",
    "this_C = sp.solve(sp.Eq(indefinite_integral.subs(wrt, wrt_init), eval_init), C)[0]\n",
    "specific_integral = indefinite_integral.subs(C, this_C)\n",
    "specific_integral"
   ]
  },
  {
   "cell_type": "markdown",
   "id": "b27589c6",
   "metadata": {},
   "source": [
    "#### Integration by substitution\n",
    "\n",
    "$$\n",
    "\\int \\left[\\textcolor{orange}{f}\\bigl(\\textcolor{cyan}{g(x)}\\bigr) \\cdot \\frac{d}{dx}\\textcolor{cyan}{g(x)} \\right] dx \n",
    "= \\int \\textcolor{orange}{f}(\\textcolor{red}{u}) \\, d\\textcolor{red}{u} \n",
    "\\quad \\bigg| \\quad \n",
    "\\begin{cases}\n",
    "\\textcolor{red}{u} = \\textcolor{cyan}{g(x)} \\\\[6pt]\n",
    "d\\textcolor{red}{u} = \\frac{d}{dx} \\textcolor{cyan}{g(x)} \\, dx\n",
    "\\end{cases}\n",
    "$$"
   ]
  },
  {
   "cell_type": "markdown",
   "id": "491ea198",
   "metadata": {},
   "source": [
    "$$\n",
    "\\int \\sqrt{1 + 0.25t} \\, dt\n",
    "$$\n",
    "\n",
    "Let:\n",
    "\n",
    "$$ \n",
    "\\begin{align*}\n",
    "u &= \\textcolor{cyan}{1 + 0.25t} \\\\\n",
    "\\quad &\\Rightarrow \\quad\n",
    "\\frac{du}{dt} \\textcolor{cyan}{(1 + 0.25t)} = \\textcolor{cyan}{0.25} \\\\\n",
    "\\quad &\\Rightarrow \\quad\n",
    "dt = \\frac{1}{\\textcolor{cyan}{0.25}} \\, du = 4 \\, du\n",
    "\\end{align*}\n",
    "$$\n",
    "\n",
    "Now substitute:\n",
    "\n",
    "$$\n",
    "\\int \\sqrt{\\textcolor{cyan}{1 + 0.25t}} \\, dt \n",
    "= \\int \\sqrt{u} \\cdot 4 \\, du\n",
    "= 4 \\int u^{1/2} \\, du\n",
    "$$\n",
    "\n",
    "Use power rule:\n",
    "\n",
    "$$\n",
    "= 4 \\cdot \\frac{u^{3/2}}{3/2} + C\n",
    "= 4 \\cdot \\frac{2}{3} u^{3/2} + C\n",
    "= \\frac{8}{3} u^{3/2} + C\n",
    "$$\n",
    "\n",
    "Substitute back:\n",
    "\n",
    "$$\n",
    "\\frac{8}{3} \\left(\\textcolor{cyan}{1 + 0.25t} \\right)^{3/2} + C\n",
    "$$\n"
   ]
  },
  {
   "attachments": {
    "image.png": {
     "image/png": "[encoded data removed]"
    }
   },
   "cell_type": "markdown",
   "id": "e511fba9",
   "metadata": {},
   "source": [
    "### 3\n",
    "![image.png](attachment:image.png)"
   ]
  },
  {
   "cell_type": "code",
   "execution_count": 10,
   "id": "a962998c",
   "metadata": {},
   "outputs": [
    {
     "data": {
      "text/plain": [
       "3.08e-10"
      ]
     },
     "execution_count": 10,
     "metadata": {},
     "output_type": "execute_result"
    }
   ],
   "source": [
    "current = .22e-6 # amps, or coloumbs/second\n",
    "time =  1.4e-3 # seconds\n",
    "current * time"
   ]
  },
  {
   "cell_type": "code",
   "execution_count": 11,
   "id": "5377a560",
   "metadata": {},
   "outputs": [
    {
     "data": {
      "text/latex": [
       "$\\displaystyle 3.08 \\cdot 10^{-10}$"
      ],
      "text/plain": [
       "3.08000000000000e-10"
      ]
     },
     "execution_count": 11,
     "metadata": {},
     "output_type": "execute_result"
    }
   ],
   "source": [
    "# or using calculus\n",
    "get_specific_integral(current, t, (0,0)).subs(t, time)"
   ]
  },
  {
   "attachments": {
    "image.png": {
     "image/png": "[encoded data removed]"
    }
   },
   "cell_type": "markdown",
   "id": "7272432b",
   "metadata": {},
   "source": [
    "### 4\n",
    "![image.png](attachment:image.png)"
   ]
  },
  {
   "cell_type": "markdown",
   "id": "03d3b51c",
   "metadata": {},
   "source": [
    "$$\n",
    "\\begin{align*}\n",
    "1F = 1 \\frac{Q}{V} \\quad &\\to \\quad 1V = 1\\frac{Q}{F} \\\\[10pt]\n",
    "1A = 1\\frac{Q}{s} \\quad &\\to \\quad 1Q = 1As \\\\[10pt]\n",
    "&\\boxed{1V = 1\\frac{As}{F}}\n",
    "\\end{align*}\n",
    "$$"
   ]
  },
  {
   "cell_type": "markdown",
   "id": "a95aa66a",
   "metadata": {},
   "source": [
    "$$\n",
    "Q = At \\quad\\to\\quad Q = \\int_a^b A\\, dt"
   ]
  },
  {
   "cell_type": "markdown",
   "id": "350a1455",
   "metadata": {},
   "source": [
    "$$\n",
    "\\frac{35mA \\cdot 16ms}{3.5\\mu F} = 160 V"
   ]
  },
  {
   "cell_type": "code",
   "execution_count": 13,
   "id": "7182f79b",
   "metadata": {},
   "outputs": [
    {
     "data": {
      "text/plain": [
       "160.00000000000003"
      ]
     },
     "execution_count": 13,
     "metadata": {},
     "output_type": "execute_result"
    }
   ],
   "source": [
    "capacitance = 3.5e-6 #Farads\n",
    "time = 16e-3\n",
    "current = 35e-3\n",
    "\n",
    "charge = current*time\n",
    "volts = charge/capacitance\n",
    "volts"
   ]
  },
  {
   "cell_type": "markdown",
   "id": "5868fe0b",
   "metadata": {},
   "source": [
    "$$\n",
    "V_C = \\frac{1}{F} \\int A\\, ds\n",
    "$$"
   ]
  },
  {
   "cell_type": "code",
   "execution_count": 12,
   "id": "a29d9879",
   "metadata": {},
   "outputs": [
    {
     "data": {
      "text/latex": [
       "$\\displaystyle 160.0$"
      ],
      "text/plain": [
       "160.000000000000"
      ]
     },
     "execution_count": 12,
     "metadata": {},
     "output_type": "execute_result"
    }
   ],
   "source": [
    "get_specific_integral(current, t, (0,0)).subs(t, time)/capacitance"
   ]
  },
  {
   "attachments": {
    "image.png": {
     "image/png": "[encoded data removed]"
    }
   },
   "cell_type": "markdown",
   "id": "cb7fcb96",
   "metadata": {},
   "source": [
    "### 5\n",
    "![image.png](attachment:image.png)"
   ]
  },
  {
   "cell_type": "code",
   "execution_count": 18,
   "id": "9c2e64af",
   "metadata": {},
   "outputs": [
    {
     "data": {
      "image/png": "[encoded data removed]",
      "text/plain": [
       "<Figure size 640x480 with 1 Axes>"
      ]
     },
     "metadata": {},
     "output_type": "display_data"
    },
    {
     "data": {
      "text/latex": [
       "$\\displaystyle \\frac{793}{6}$"
      ],
      "text/plain": [
       "793/6"
      ]
     },
     "execution_count": 18,
     "metadata": {},
     "output_type": "execute_result"
    }
   ],
   "source": [
    "expr = x**5\n",
    "sp.plot(expr)\n",
    "## Integrate the absolute value of x**5\n",
    "sp.Abs(expr).integrate((x, -3, 2))"
   ]
  },
  {
   "cell_type": "code",
   "execution_count": 24,
   "id": "4f49854a",
   "metadata": {},
   "outputs": [
    {
     "data": {
      "text/latex": [
       "$\\displaystyle \\frac{793}{6}$"
      ],
      "text/plain": [
       "793/6"
      ]
     },
     "execution_count": 24,
     "metadata": {},
     "output_type": "execute_result"
    }
   ],
   "source": [
    "# A bit more verbosely\n",
    "expr = x**5\n",
    "a, b = -3, 2\n",
    "\n",
    "switch_point = sp.solve(expr, x)[0]\n",
    "assert a < switch_point < b\n",
    "\n",
    "## TODO: This will break down if there is more than one solution.\n",
    "## A better way would be to concatenate [a, *[solutions], b] and then sum the integrals iteratively\n",
    "## But the above example is already much cleaner\n",
    "sp.Abs(expr.integrate((x, a, switch_point))) + sp.Abs(expr.integrate((x, switch_point, b))) "
   ]
  },
  {
   "attachments": {
    "image-2.png": {
     "image/png": "[encoded data removed]"
    },
    "image.png": {
     "image/png": "[encoded data removed]"
    }
   },
   "cell_type": "markdown",
   "id": "0066fdc9",
   "metadata": {},
   "source": [
    "### 6\n",
    "![image.png](attachment:image.png)  \n",
    "![image-2.png](attachment:image-2.png)"
   ]
  },
  {
   "cell_type": "markdown",
   "id": "d04feff2",
   "metadata": {},
   "source": [
    "$$ \\Large\n",
    "V = 2\\pi \\int_a^b x \\cdot f(x)\\, dx\n",
    "$$"
   ]
  },
  {
   "cell_type": "markdown",
   "id": "394c7eaf",
   "metadata": {},
   "source": [
    "Circumference of a circle:\n",
    "$$\n",
    "\\ell = 2 \\pi r\n",
    "$$\n",
    "Surface area of the walls of a cylinder:\n",
    "$$\n",
    "A_s = \\ell h\n",
    "$$\n",
    "In terms of x:\n",
    "$$\n",
    "A_s = 2 \\pi x \\cdot f(x)\n",
    "$$"
   ]
  },
  {
   "cell_type": "code",
   "execution_count": 33,
   "id": "d85bc3b6",
   "metadata": {},
   "outputs": [],
   "source": [
    "def shell_integration(expr, a, b, wrt=x):\n",
    "    return sp.integrate(expr*wrt, (wrt, a, b))*sp.pi*2"
   ]
  },
  {
   "cell_type": "code",
   "execution_count": 34,
   "id": "5975cdf4",
   "metadata": {},
   "outputs": [
    {
     "data": {
      "text/latex": [
       "$\\displaystyle \\frac{104 \\pi}{3}$"
      ],
      "text/plain": [
       "104*pi/3"
      ]
     },
     "execution_count": 34,
     "metadata": {},
     "output_type": "execute_result"
    }
   ],
   "source": [
    "expr = 2*sp.sqrt(x**2+1)\n",
    "a, b = 0, sp.sqrt(8)\n",
    "\n",
    "shell_integration(expr, a, b)"
   ]
  },
  {
   "attachments": {
    "image.png": {
     "image/png": "[encoded data removed]"
    }
   },
   "cell_type": "markdown",
   "id": "0f574ca3",
   "metadata": {},
   "source": [
    "### 7\n",
    "![image.png](attachment:image.png)"
   ]
  },
  {
   "cell_type": "code",
   "execution_count": 57,
   "id": "4b80abfb",
   "metadata": {},
   "outputs": [
    {
     "data": {
      "text/latex": [
       "$\\displaystyle 0$"
      ],
      "text/plain": [
       "0"
      ]
     },
     "execution_count": 57,
     "metadata": {},
     "output_type": "execute_result"
    }
   ],
   "source": [
    "expr1 = 9*x**2\n",
    "expr2 = 2\n",
    "difference = expr2 - expr1\n",
    "wrt = x\n",
    "# Find where the two expressions intersect\n",
    "a,b = sp.solve(sp.Eq(expr1,expr2), wrt)\n",
    "\n",
    "area = sp.integrate(difference, (wrt, a, b))\n",
    "area\n",
    "\n",
    "xbar = sp.integrate(wrt*difference, (wrt, a, b))/area\n",
    "xbar\n"
   ]
  },
  {
   "cell_type": "code",
   "execution_count": 58,
   "id": "bdbbc38c",
   "metadata": {},
   "outputs": [
    {
     "data": {
      "text/latex": [
       "$\\displaystyle \\frac{6}{5}$"
      ],
      "text/plain": [
       "6/5"
      ]
     },
     "execution_count": 58,
     "metadata": {},
     "output_type": "execute_result"
    }
   ],
   "source": [
    "ybar = sp.integrate(expr2**2-expr1**2, (wrt, a, b)) / (2*area)\n",
    "ybar"
   ]
  },
  {
   "attachments": {
    "image.png": {
     "image/png": "[encoded data removed]"
    }
   },
   "cell_type": "markdown",
   "id": "398203a5",
   "metadata": {},
   "source": [
    "### 8\n",
    "![image.png](attachment:image.png)"
   ]
  },
  {
   "attachments": {
    "image.png": {
     "image/png": "[encoded data removed]"
    }
   },
   "cell_type": "markdown",
   "id": "0eb9d456",
   "metadata": {},
   "source": [
    "### 9\n",
    "![image.png](attachment:image.png)"
   ]
  },
  {
   "cell_type": "code",
   "execution_count": 71,
   "id": "706499f8",
   "metadata": {},
   "outputs": [
    {
     "data": {
      "text/latex": [
       "$\\displaystyle -6$"
      ],
      "text/plain": [
       "-6"
      ]
     },
     "execution_count": 71,
     "metadata": {},
     "output_type": "execute_result"
    }
   ],
   "source": [
    "expr = 2*x-x**2\n",
    "a, b = 0, 6\n",
    "\n",
    "avg = expr.integrate((x,a,b))/(b-a)\n",
    "avg"
   ]
  },
  {
   "attachments": {
    "image-2.png": {
     "image/png": "[encoded data removed]"
    },
    "image.png": {
     "image/png": "[encoded data removed]"
    }
   },
   "cell_type": "markdown",
   "id": "219a6724",
   "metadata": {},
   "source": [
    "### 10\n",
    "![image.png](attachment:image.png)  \n",
    "![image-2.png](attachment:image-2.png)"
   ]
  },
  {
   "cell_type": "markdown",
   "id": "41c06346",
   "metadata": {},
   "source": [
    "$$ \\Large\n",
    "s = \\int_a^b \\sqrt{1+\\left(\\frac{dy}{dx}\\right)^2} dx\n",
    "$$"
   ]
  },
  {
   "cell_type": "code",
   "execution_count": 78,
   "id": "8d769953",
   "metadata": {},
   "outputs": [
    {
     "data": {
      "text/latex": [
       "$\\displaystyle 1659.72010089655$"
      ],
      "text/plain": [
       "1659.72010089655"
      ]
     },
     "execution_count": 78,
     "metadata": {},
     "output_type": "execute_result"
    }
   ],
   "source": [
    "expr = 0.2*x**sp.Rational(3,2)\n",
    "a, b = 0, 400\n",
    "wrt = x\n",
    "\n",
    "arc_expr= sp.sqrt(1+expr.diff(wrt)**2)\n",
    "sp.integrate(arc_expr, (wrt, a, b))"
   ]
  }
 ],
 "metadata": {
  "kernelspec": {
   "display_name": "Python 3",
   "language": "python",
   "name": "python3"
  },
  "language_info": {
   "codemirror_mode": {
    "name": "ipython",
    "version": 3
   },
   "file_extension": ".py",
   "mimetype": "text/x-python",
   "name": "python",
   "nbconvert_exporter": "python",
   "pygments_lexer": "ipython3",
   "version": "3.13.2"
  }
 },
 "nbformat": 4,
 "nbformat_minor": 5
}
