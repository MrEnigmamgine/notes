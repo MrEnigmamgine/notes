{
 "cells": [
  {
   "cell_type": "code",
   "execution_count": 122,
   "id": "a7771793",
   "metadata": {},
   "outputs": [],
   "source": [
    "import sympy as sp\n",
    "import numpy as np\n",
    "import matplotlib.pyplot as plt"
   ]
  },
  {
   "cell_type": "markdown",
   "id": "29b2da72",
   "metadata": {},
   "source": [
    "MTH220  \n",
    "4.3 Assignment  \n",
    "07/18/2025  \n",
    "J.D.M  "
   ]
  },
  {
   "cell_type": "markdown",
   "id": "ed255407",
   "metadata": {},
   "source": [
    "## Consider the equation:\n",
    "$$ \\Large\n",
    "x \\cdot \\sin(x) -5 = 0\n",
    "$$\n"
   ]
  },
  {
   "cell_type": "code",
   "execution_count": 123,
   "id": "8d62e945",
   "metadata": {},
   "outputs": [
    {
     "data": {
      "text/latex": [
       "$\\displaystyle x \\sin{\\left(x \\right)} - 5$"
      ],
      "text/plain": [
       "x*sin(x) - 5"
      ]
     },
     "execution_count": 123,
     "metadata": {},
     "output_type": "execute_result"
    }
   ],
   "source": [
    "x = sp.symbols('x')\n",
    "expr = x * sp.sin(x) -5\n",
    "expr"
   ]
  },
  {
   "cell_type": "markdown",
   "id": "a3a6bdcc",
   "metadata": {},
   "source": [
    "### For this situation, what is f'(x)?\n",
    "$$\n",
    "f'(x) = x \\cos(x) + sin(x)\n",
    "$$"
   ]
  },
  {
   "cell_type": "code",
   "execution_count": 124,
   "id": "679a914f",
   "metadata": {},
   "outputs": [
    {
     "data": {
      "text/latex": [
       "$\\displaystyle x \\cos{\\left(x \\right)} + \\sin{\\left(x \\right)}$"
      ],
      "text/plain": [
       "x*cos(x) + sin(x)"
      ]
     },
     "execution_count": 124,
     "metadata": {},
     "output_type": "execute_result"
    }
   ],
   "source": [
    "dif = expr.diff()\n",
    "dif"
   ]
  },
  {
   "cell_type": "markdown",
   "id": "28df915d",
   "metadata": {},
   "source": [
    "### Set up an Excel spreadsheet, or a program in your favorite programming language, to find solutions to the above equation.  \n",
    "#### (Submit this file along with your answers to the questions.)\n"
   ]
  },
  {
   "cell_type": "code",
   "execution_count": 125,
   "id": "a50e7ab4",
   "metadata": {},
   "outputs": [
    {
     "name": "stdout",
     "output_type": "stream",
     "text": [
      "An error occurred while trying to solve symbolically:\n",
      "multiple generators [x, sin(x)]\n",
      "No algorithms are implemented to solve equation x*sin(x) - 5\n"
     ]
    }
   ],
   "source": [
    "# There are an infinite number of solutions, so something like sp.solve(expr, x) fails\n",
    "\n",
    "try:\n",
    "    sp.solve(expr, x)\n",
    "except Exception as e:\n",
    "    print(\"An error occurred while trying to solve symbolically:\")\n",
    "    print(e)"
   ]
  },
  {
   "cell_type": "code",
   "execution_count": 126,
   "id": "5e052407",
   "metadata": {},
   "outputs": [
    {
     "name": "stdout",
     "output_type": "stream",
     "text": [
      "[-7.06889140339507 7.06889140339507 8.82222135255200 12.9623715794244\n",
      " 15.3767763397125 19.1142203020956 34.4117036090011]\n"
     ]
    }
   ],
   "source": [
    "# Instead we can use sympy's nsolve(), which is similar to newton's method below\n",
    "\n",
    "guesses = range(0,20,2) # Count by 2 from 0 to 20\n",
    "solutions = []\n",
    "for guess in guesses:\n",
    "    solutions.append( sp.nsolve(expr, x, guess))\n",
    "\n",
    "unique_solutions = np.unique(solutions)\n",
    "print(unique_solutions)"
   ]
  },
  {
   "cell_type": "markdown",
   "id": "4fe2d544",
   "metadata": {},
   "source": [
    "### Starting with a guess of x = 5, what solution does Newton's method converge to?  \n",
    "#### (Run the method until the x values don't change in the first five decimal places.)\n"
   ]
  },
  {
   "cell_type": "code",
   "execution_count": 127,
   "id": "6bcc66c7",
   "metadata": {},
   "outputs": [],
   "source": [
    "## I'll just pull out my handy function that I've already written:\n",
    "\n",
    "def newton_method(expr, x0, wrt=x, tol=1e-6, max_iter=20, print_steps=True):\n",
    "    # Start with finding the derivative of our expression\n",
    "    d_expr = expr.diff(wrt) \n",
    "    # Convert both into numerical functions\n",
    "    f = sp.lambdify(wrt, expr)\n",
    "    df = sp.lambdify(wrt, d_expr)\n",
    "    \n",
    "    xi = x0 # Start with current guess\n",
    "    for i in range(max_iter):\n",
    "        yi = f(xi)  # Current y-value\n",
    "        mi = df(xi) # Current slope\n",
    "        # We need to make sure slope is not 0\n",
    "        if mi == 0:\n",
    "            raise ZeroDivisionError(\"Derivative is zero. No convergence.\")\n",
    "        # Find the x-intercept of the tangent line\n",
    "        x_intercept = xi - yi/mi\n",
    "        # The x-intercept is closer to the root so it becomes the next guess\n",
    "        x_next = x_intercept\n",
    "\n",
    "        if print_steps:\n",
    "            print(f\"Step {i+1}: x = {x_next}\")\n",
    "\n",
    "        # Check how much our guess improved\n",
    "        if abs(x_next - xi) < tol:\n",
    "            if print_steps:\n",
    "                print(f\"Root ≈ {x_next}\")\n",
    "            return x_next\n",
    "        \n",
    "        xi = x_next # Set the guess for next loop\n",
    "\n",
    "    # If loop runs fully, failed to converge\n",
    "    raise RuntimeError(\"Newton's method did not converge.\")"
   ]
  },
  {
   "cell_type": "code",
   "execution_count": 128,
   "id": "9aa971cc",
   "metadata": {},
   "outputs": [
    {
     "name": "stdout",
     "output_type": "stream",
     "text": [
      "Step 1: x = 26.3210839208127\n",
      "Step 2: x = 24.51474725119062\n",
      "Step 3: x = 25.504578808956957\n",
      "Step 4: x = 25.327727554861784\n",
      "Step 5: x = 25.331428357644384\n",
      "Step 6: x = 25.331429171997417\n",
      "Root ≈ 25.331429171997417\n"
     ]
    },
    {
     "data": {
      "text/plain": [
       "np.float64(25.331429171997417)"
      ]
     },
     "execution_count": 128,
     "metadata": {},
     "output_type": "execute_result"
    }
   ],
   "source": [
    "newton_method(expr, 5, tol=1e-5)"
   ]
  },
  {
   "cell_type": "markdown",
   "id": "eaed954c",
   "metadata": {},
   "source": [
    "### There are five solutions to x sin x = 5 between x = 0 and x = 20 (it is at heart a sine wave, after all).  By varying your initial guess, find them all to within five decimal places."
   ]
  },
  {
   "cell_type": "code",
   "execution_count": 129,
   "id": "0a8f5677",
   "metadata": {},
   "outputs": [
    {
     "name": "stdout",
     "output_type": "stream",
     "text": [
      "7.06889\n",
      "8.82222\n",
      "12.96237\n",
      "15.37678\n",
      "19.11422\n"
     ]
    }
   ],
   "source": [
    "# Similar to above, but using my own function\n",
    "\n",
    "guesses = range(0,20,2) # Count by 2 from 0 to 20\n",
    "solutions = []\n",
    "for guess in guesses:\n",
    "    guess += np.random.uniform(low=-.1, high=.1) # Sidestep ZeroDivision Error\n",
    "    solutions.append( \n",
    "        np.round( newton_method(expr, guess, tol=1e-5, print_steps=False) , 5)\n",
    "        )\n",
    "\n",
    "# Trim down to the solutions we care about\n",
    "unique_solutions = np.unique(solutions)\n",
    "for solution in unique_solutions:\n",
    "    if 0 < solution  < 20:\n",
    "        print(solution)"
   ]
  },
  {
   "cell_type": "markdown",
   "id": "4bd44285",
   "metadata": {},
   "source": [
    "### Bonus: Graphing it"
   ]
  },
  {
   "cell_type": "code",
   "execution_count": 139,
   "id": "0096ac2f",
   "metadata": {},
   "outputs": [
    {
     "data": {
      "image/png": "[encoded data removed]",
      "text/plain": [
       "<Figure size 800x500 with 1 Axes>"
      ]
     },
     "metadata": {},
     "output_type": "display_data"
    }
   ],
   "source": [
    "f = sp.lambdify(x, expr)\n",
    "xs = np.linspace(0,20, 100)\n",
    "ys = f(xs)\n",
    "\n",
    "fig, ax = plt.subplots(figsize=(8, 5))\n",
    "ax.plot(xs, ys)\n",
    "ax.axhline(0, color='gray', linewidth=1, alpha=0.5)\n",
    "\n",
    "unique_solutions = np.unique(solutions)\n",
    "for solution in unique_solutions:\n",
    "    if 0 < solution  < 20:\n",
    "        ax.axvline(solution, color='red', linestyle='--', alpha=0.5)"
   ]
  }
 ],
 "metadata": {
  "kernelspec": {
   "display_name": "Python 3",
   "language": "python",
   "name": "python3"
  },
  "language_info": {
   "codemirror_mode": {
    "name": "ipython",
    "version": 3
   },
   "file_extension": ".py",
   "mimetype": "text/x-python",
   "name": "python",
   "nbconvert_exporter": "python",
   "pygments_lexer": "ipython3",
   "version": "3.13.2"
  }
 },
 "nbformat": 4,
 "nbformat_minor": 5
}
