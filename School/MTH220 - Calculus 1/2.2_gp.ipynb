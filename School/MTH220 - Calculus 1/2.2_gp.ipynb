{
 "cells": [
  {
   "cell_type": "code",
   "execution_count": 1,
   "id": "42140991",
   "metadata": {},
   "outputs": [],
   "source": [
    "import numpy as np\n",
    "import sympy as sp\n",
    "from sympy.plotting import plot\n",
    "import matplotlib.pyplot as plt"
   ]
  },
  {
   "attachments": {
    "image.png": {
     "image/png": "[encoded data removed]"
    }
   },
   "cell_type": "markdown",
   "id": "f90cbe6d",
   "metadata": {},
   "source": [
    "### 1\n",
    "![image.png](attachment:image.png)\n"
   ]
  },
  {
   "cell_type": "markdown",
   "id": "1bd978f2",
   "metadata": {},
   "source": [
    "\n",
    "5. **Product Rule**  \n",
    "    The derivative of a product is the first times the derivative of the second, plus the second times the derivative of the first.\n",
    "    $$\\Large \\frac{d}{dx}[f(x) g(x)] = f'(x) g(x) + f(x) g'(x) $$"
   ]
  },
  {
   "cell_type": "code",
   "execution_count": 2,
   "id": "d7e58e46",
   "metadata": {},
   "outputs": [
    {
     "data": {
      "text/latex": [
       "$\\displaystyle 3 x$"
      ],
      "text/plain": [
       "3*x"
      ]
     },
     "metadata": {},
     "output_type": "display_data"
    },
    {
     "data": {
      "text/latex": [
       "$\\displaystyle 2 x^{3} - 7 x$"
      ],
      "text/plain": [
       "2*x**3 - 7*x"
      ]
     },
     "metadata": {},
     "output_type": "display_data"
    }
   ],
   "source": [
    "# Define the variable and the component functions\n",
    "x = sp.symbols('x')\n",
    "\n",
    "# Let:\n",
    "f = 3*x\n",
    "g = 2*x**3 - 7*x\n",
    "display(f)\n",
    "display(g)"
   ]
  },
  {
   "cell_type": "code",
   "execution_count": 3,
   "id": "154d79bb",
   "metadata": {},
   "outputs": [
    {
     "data": {
      "text/latex": [
       "$\\displaystyle 3 x \\left(2 x^{3} - 7 x\\right)$"
      ],
      "text/plain": [
       "3*x*(2*x**3 - 7*x)"
      ]
     },
     "execution_count": 3,
     "metadata": {},
     "output_type": "execute_result"
    }
   ],
   "source": [
    "y = f * g\n",
    "y"
   ]
  },
  {
   "cell_type": "code",
   "execution_count": 4,
   "id": "512d2d24",
   "metadata": {},
   "outputs": [
    {
     "data": {
      "text/latex": [
       "$\\displaystyle 3$"
      ],
      "text/plain": [
       "3"
      ]
     },
     "metadata": {},
     "output_type": "display_data"
    },
    {
     "data": {
      "text/latex": [
       "$\\displaystyle 6 x^{2} - 7$"
      ],
      "text/plain": [
       "6*x**2 - 7"
      ]
     },
     "metadata": {},
     "output_type": "display_data"
    }
   ],
   "source": [
    "# Derivatives of the component functions\n",
    "f_prime = sp.diff(f, x)\n",
    "g_prime = sp.diff(g, x)\n",
    "display(f_prime)\n",
    "display(g_prime)"
   ]
  },
  {
   "cell_type": "code",
   "execution_count": 5,
   "id": "3fa4859e",
   "metadata": {},
   "outputs": [
    {
     "data": {
      "text/latex": [
       "$\\displaystyle 6 x^{3} + 3 x \\left(6 x^{2} - 7\\right) - 21 x$"
      ],
      "text/plain": [
       "6*x**3 + 3*x*(6*x**2 - 7) - 21*x"
      ]
     },
     "execution_count": 5,
     "metadata": {},
     "output_type": "execute_result"
    }
   ],
   "source": [
    "# Apply the Product Rule\n",
    "y_prime_product_rule = f_prime*g + f*g_prime\n",
    "y_prime_product_rule"
   ]
  },
  {
   "cell_type": "code",
   "execution_count": 6,
   "id": "7a7a0ebc",
   "metadata": {},
   "outputs": [
    {
     "data": {
      "text/latex": [
       "$\\displaystyle 6 x^{3} + 3 x \\left(6 x^{2} - 7\\right) - 21 x$"
      ],
      "text/plain": [
       "6*x**3 + 3*x*(6*x**2 - 7) - 21*x"
      ]
     },
     "execution_count": 6,
     "metadata": {},
     "output_type": "execute_result"
    }
   ],
   "source": [
    "# Let Sympy compute the derivative directly\n",
    "y_prime_direct = sp.diff(y, x)\n",
    "y_prime_direct"
   ]
  },
  {
   "cell_type": "code",
   "execution_count": 7,
   "id": "5a33265b",
   "metadata": {},
   "outputs": [
    {
     "data": {
      "text/latex": [
       "$\\displaystyle 24 x^{3} - 42 x$"
      ],
      "text/plain": [
       "24*x**3 - 42*x"
      ]
     },
     "execution_count": 7,
     "metadata": {},
     "output_type": "execute_result"
    }
   ],
   "source": [
    "sp.simplify(y_prime_direct)"
   ]
  },
  {
   "attachments": {
    "image.png": {
     "image/png": "[encoded data removed]"
    }
   },
   "cell_type": "markdown",
   "id": "36afcc6a",
   "metadata": {},
   "source": [
    "### 3\n",
    "![image.png](attachment:image.png)"
   ]
  },
  {
   "cell_type": "code",
   "execution_count": 8,
   "id": "fac0ffe3",
   "metadata": {},
   "outputs": [
    {
     "data": {
      "text/latex": [
       "$\\displaystyle \\left(- x^{2} - x + 5\\right) \\left(5 x^{2} - 2 x + 1\\right)$"
      ],
      "text/plain": [
       "(-x**2 - x + 5)*(5*x**2 - 2*x + 1)"
      ]
     },
     "metadata": {},
     "output_type": "display_data"
    },
    {
     "data": {
      "text/latex": [
       "$\\displaystyle 3$"
      ],
      "text/plain": [
       "3"
      ]
     },
     "metadata": {},
     "output_type": "display_data"
    },
    {
     "data": {
      "text/latex": [
       "$\\displaystyle 6 x^{2} - 7$"
      ],
      "text/plain": [
       "6*x**2 - 7"
      ]
     },
     "metadata": {},
     "output_type": "display_data"
    },
    {
     "data": {
      "text/latex": [
       "$\\displaystyle \\left(- 2 x - 1\\right) \\left(5 x^{2} - 2 x + 1\\right) + \\left(10 x - 2\\right) \\left(- x^{2} - x + 5\\right)$"
      ],
      "text/plain": [
       "(-2*x - 1)*(5*x**2 - 2*x + 1) + (10*x - 2)*(-x**2 - x + 5)"
      ]
     },
     "metadata": {},
     "output_type": "display_data"
    },
    {
     "data": {
      "text/latex": [
       "$\\displaystyle - 20 x^{3} - 9 x^{2} + 52 x - 11$"
      ],
      "text/plain": [
       "-20*x**3 - 9*x**2 + 52*x - 11"
      ]
     },
     "metadata": {},
     "output_type": "display_data"
    },
    {
     "data": {
      "text/latex": [
       "$\\displaystyle 2004$"
      ],
      "text/plain": [
       "2004"
      ]
     },
     "execution_count": 8,
     "metadata": {},
     "output_type": "execute_result"
    }
   ],
   "source": [
    "# Define the variable and the component functions\n",
    "x = sp.symbols('x')\n",
    "\n",
    "# Let:\n",
    "f = 5*x**2 -2*x +1\n",
    "g = 5 -x -x**2\n",
    "y = f * g\n",
    "\n",
    "# Derivatives of the component functions\n",
    "df = sp.diff(f, x)\n",
    "dg = sp.diff(g, x)\n",
    "# Let Sympy compute the derivative directly\n",
    "dy = sp.diff(y, x)\n",
    "\n",
    "display(y)\n",
    "display(f_prime)\n",
    "display(g_prime)\n",
    "display(dy)\n",
    "display(sp.simplify(dy))\n",
    "dy.subs(x, -5)"
   ]
  },
  {
   "cell_type": "code",
   "execution_count": 9,
   "id": "88d50958",
   "metadata": {},
   "outputs": [
    {
     "data": {
      "text/plain": [
       "-2476"
      ]
     },
     "execution_count": 9,
     "metadata": {},
     "output_type": "execute_result"
    }
   ],
   "source": [
    "-20*5**3-9*5**2+52*5-11"
   ]
  },
  {
   "attachments": {
    "image.png": {
     "image/png": "[encoded data removed]"
    }
   },
   "cell_type": "markdown",
   "id": "5536bafb",
   "metadata": {},
   "source": [
    "### 4\n",
    "![image.png](attachment:image.png)"
   ]
  },
  {
   "cell_type": "markdown",
   "id": "44129ec4",
   "metadata": {},
   "source": [
    "**Chain Rule**  \n",
    "    $$\\Large \\frac{d}{dx}[f(g(x))] = f'(g) \\cdot g' $$"
   ]
  },
  {
   "cell_type": "code",
   "execution_count": 10,
   "id": "0df03f09",
   "metadata": {},
   "outputs": [
    {
     "data": {
      "text/latex": [
       "$\\displaystyle \\left(10 x^{3} + 7\\right)^{\\frac{3}{2}}$"
      ],
      "text/plain": [
       "(10*x**3 + 7)**(3/2)"
      ]
     },
     "execution_count": 10,
     "metadata": {},
     "output_type": "execute_result"
    }
   ],
   "source": [
    "y = (10*x**3 + 7)**sp.Rational(3,2)\n",
    "y"
   ]
  },
  {
   "cell_type": "code",
   "execution_count": 11,
   "id": "797dda38",
   "metadata": {},
   "outputs": [
    {
     "data": {
      "text/latex": [
       "$\\displaystyle 45 x^{2} \\sqrt{10 x^{3} + 7}$"
      ],
      "text/plain": [
       "45*x**2*sqrt(10*x**3 + 7)"
      ]
     },
     "execution_count": 11,
     "metadata": {},
     "output_type": "execute_result"
    }
   ],
   "source": [
    "dy = sp.diff(y,x)\n",
    "dy"
   ]
  },
  {
   "cell_type": "markdown",
   "id": "071ce2ce",
   "metadata": {},
   "source": [
    "$$\n",
    "y = \\Big(\\underbrace{10x^3 + 7}_{g(x)}\\Big)^{\\frac{3}{2}}\n",
    "$$"
   ]
  },
  {
   "cell_type": "markdown",
   "id": "a2eecccc",
   "metadata": {},
   "source": [
    "$$ \n",
    "\\begin{align*}\n",
    "f &= (g)^{\\frac{3}{2}} \\\\\n",
    "g &= 10x^3 + 7 \n",
    "\\end{align*}\n",
    "$$"
   ]
  },
  {
   "cell_type": "markdown",
   "id": "51111b71",
   "metadata": {},
   "source": [
    "$$ \n",
    "\\begin{align*}\n",
    "f' &= \\frac{3}{2}(g)^{\\frac{1}{2}} \\\\\n",
    "g' &= 30x^2 \n",
    "\\end{align*}\n",
    "$$"
   ]
  },
  {
   "cell_type": "markdown",
   "id": "84dfd995",
   "metadata": {},
   "source": [
    "$$ \n",
    "\\begin{align*}\n",
    "y' &= f'(g) \\cdot g' \\\\\n",
    "y' &= \\frac{3}{2}(g)^{\\frac{1}{2}} \\cdot 30x^2 \\\\\n",
    "y' &= 45x^2(g)^{\\frac{1}{2}} \\\\\n",
    "y' &= 45x^2(10x^3 + 7 )^{\\frac{1}{2}} \\\\\n",
    "\\end{align*}\n",
    "$$"
   ]
  },
  {
   "cell_type": "code",
   "execution_count": 12,
   "id": "6c4e82b0",
   "metadata": {},
   "outputs": [],
   "source": [
    "# Once more with sympy\n",
    "x, g = sp.symbols('x, g')\n",
    "y = (10*x**3 + 7)**sp.Rational(3,2)"
   ]
  },
  {
   "cell_type": "code",
   "execution_count": 13,
   "id": "e6438822",
   "metadata": {},
   "outputs": [
    {
     "data": {
      "text/latex": [
       "$\\displaystyle 10 x^{3} + 7$"
      ],
      "text/plain": [
       "10*x**3 + 7"
      ]
     },
     "execution_count": 13,
     "metadata": {},
     "output_type": "execute_result"
    }
   ],
   "source": [
    "gx = y.base\n",
    "gx"
   ]
  },
  {
   "cell_type": "code",
   "execution_count": 14,
   "id": "13754ece",
   "metadata": {},
   "outputs": [
    {
     "data": {
      "text/latex": [
       "$\\displaystyle g^{\\frac{3}{2}}$"
      ],
      "text/plain": [
       "g**(3/2)"
      ]
     },
     "execution_count": 14,
     "metadata": {},
     "output_type": "execute_result"
    }
   ],
   "source": [
    "fx = y.subs(gx,g)\n",
    "fx"
   ]
  },
  {
   "cell_type": "code",
   "execution_count": 15,
   "id": "a983b0c6",
   "metadata": {},
   "outputs": [
    {
     "data": {
      "text/latex": [
       "$\\displaystyle \\frac{3 \\sqrt{g}}{2}$"
      ],
      "text/plain": [
       "3*sqrt(g)/2"
      ]
     },
     "execution_count": 15,
     "metadata": {},
     "output_type": "execute_result"
    }
   ],
   "source": [
    "fp = fx.diff()\n",
    "fp"
   ]
  },
  {
   "cell_type": "code",
   "execution_count": 16,
   "id": "fae1cc44",
   "metadata": {},
   "outputs": [
    {
     "data": {
      "text/latex": [
       "$\\displaystyle 30 x^{2}$"
      ],
      "text/plain": [
       "30*x**2"
      ]
     },
     "execution_count": 16,
     "metadata": {},
     "output_type": "execute_result"
    }
   ],
   "source": [
    "gp = gx.diff()\n",
    "gp"
   ]
  },
  {
   "cell_type": "code",
   "execution_count": 17,
   "id": "d9df3a8d",
   "metadata": {},
   "outputs": [
    {
     "data": {
      "text/latex": [
       "$\\displaystyle 45 x^{2} \\sqrt{10 x^{3} + 7}$"
      ],
      "text/plain": [
       "45*x**2*sqrt(10*x**3 + 7)"
      ]
     },
     "metadata": {},
     "output_type": "display_data"
    },
    {
     "data": {
      "text/latex": [
       "$\\displaystyle 45 x^{2} \\sqrt{10 x^{3} + 7}$"
      ],
      "text/plain": [
       "45*x**2*sqrt(10*x**3 + 7)"
      ]
     },
     "metadata": {},
     "output_type": "display_data"
    }
   ],
   "source": [
    "# Chain rule\n",
    "yp = fp.subs(g, gx) * gp\n",
    "display(yp)\n",
    "display(y.diff())"
   ]
  },
  {
   "attachments": {
    "image.png": {
     "image/png": "[encoded data removed]"
    }
   },
   "cell_type": "markdown",
   "id": "bfb0fdb9",
   "metadata": {},
   "source": [
    "### 5\n",
    "![image.png](attachment:image.png)"
   ]
  },
  {
   "cell_type": "markdown",
   "id": "d257fc2e",
   "metadata": {},
   "source": [
    "Same as #4.  The trick is that we can re-write that expression:\n",
    "$$\n",
    "y = (12x^2 +8)^{1/3}\n",
    "$$"
   ]
  },
  {
   "cell_type": "code",
   "execution_count": 18,
   "id": "6492bf43",
   "metadata": {},
   "outputs": [
    {
     "data": {
      "text/latex": [
       "$\\displaystyle \\sqrt[3]{12 x^{2} + 8}$"
      ],
      "text/plain": [
       "(12*x**2 + 8)**(1/3)"
      ]
     },
     "metadata": {},
     "output_type": "display_data"
    },
    {
     "data": {
      "text/latex": [
       "$\\displaystyle \\frac{8 x}{\\left(12 x^{2} + 8\\right)^{\\frac{2}{3}}}$"
      ],
      "text/plain": [
       "8*x/(12*x**2 + 8)**(2/3)"
      ]
     },
     "metadata": {},
     "output_type": "display_data"
    }
   ],
   "source": [
    "## I'm lazy, so\n",
    "y = (12*x**2 + 8)**sp.Rational(1,3)\n",
    "display(y)\n",
    "display(y.diff())"
   ]
  },
  {
   "attachments": {
    "image.png": {
     "image/png": "[encoded data removed]"
    }
   },
   "cell_type": "markdown",
   "id": "34d96c57",
   "metadata": {},
   "source": [
    "### 6\n",
    "![image.png](attachment:image.png)"
   ]
  },
  {
   "cell_type": "markdown",
   "id": "734cdcfe",
   "metadata": {},
   "source": [
    "$$\n",
    "\\begin{align*}\n",
    "9x +7y &= 6 \\\\\n",
    "\\frac{d}{dx}(9x) + \\frac{d}{dx}(7y) &= \\frac{d}{dx}(6) \\\\\n",
    "9 + 7\\frac{dy}{dx} &= 0 \\\\\n",
    "7\\frac{dy}{dx} &= -9 \\\\\n",
    "\\frac{dy}{dx} &= -\\frac{9}{7}\n",
    "\\end{align*}\n",
    "$$"
   ]
  },
  {
   "cell_type": "code",
   "execution_count": 19,
   "id": "8b91ad87",
   "metadata": {},
   "outputs": [
    {
     "data": {
      "text/latex": [
       "$\\displaystyle 7 \\frac{d}{d x} y{\\left(x \\right)} + 9$"
      ],
      "text/plain": [
       "7*Derivative(y(x), x) + 9"
      ]
     },
     "metadata": {},
     "output_type": "display_data"
    },
    {
     "data": {
      "text/plain": [
       "[-9/7]"
      ]
     },
     "execution_count": 19,
     "metadata": {},
     "output_type": "execute_result"
    }
   ],
   "source": [
    "## Once more with sympy!\n",
    "y = sp.Function('y')(x)\n",
    "\n",
    "# The implicit expression\n",
    "expr = 9*x + 7*y - 6\n",
    "\n",
    "# Differentiate both sides wrt x\n",
    "d_expr = sp.diff(expr, x)\n",
    "display(d_expr)\n",
    "\n",
    "# Solve for dy/dx\n",
    "dy_dx = sp.solve(d_expr, sp.Derivative(y, x))\n",
    "dy_dx"
   ]
  },
  {
   "attachments": {
    "image.png": {
     "image/png": "[encoded data removed]"
    }
   },
   "cell_type": "markdown",
   "id": "2ead141a",
   "metadata": {},
   "source": [
    "### 7\n",
    "![image.png](attachment:image.png)"
   ]
  },
  {
   "cell_type": "markdown",
   "id": "672ba195",
   "metadata": {},
   "source": [
    "A higher derivative is simply the derivative of a derivative."
   ]
  },
  {
   "cell_type": "code",
   "execution_count": 20,
   "id": "61851866",
   "metadata": {},
   "outputs": [
    {
     "data": {
      "text/latex": [
       "$\\displaystyle 18 x^{2} + 4 x$"
      ],
      "text/plain": [
       "18*x**2 + 4*x"
      ]
     },
     "metadata": {},
     "output_type": "display_data"
    },
    {
     "data": {
      "text/latex": [
       "$\\displaystyle 36 x + 4$"
      ],
      "text/plain": [
       "36*x + 4"
      ]
     },
     "metadata": {},
     "output_type": "display_data"
    },
    {
     "data": {
      "text/latex": [
       "$\\displaystyle 36$"
      ],
      "text/plain": [
       "36"
      ]
     },
     "metadata": {},
     "output_type": "display_data"
    },
    {
     "data": {
      "text/latex": [
       "$\\displaystyle 0$"
      ],
      "text/plain": [
       "0"
      ]
     },
     "metadata": {},
     "output_type": "display_data"
    }
   ],
   "source": [
    "# This was easy to do using the power rule, but I wanted to do this programmatically\n",
    "expr = 6*x**3 + 2*x**2\n",
    "\n",
    "diff = sp.diff(expr, x)\n",
    "display(diff)\n",
    "\n",
    "i = 0\n",
    "while diff != 0:\n",
    "    i += 1\n",
    "    if i > 10:\n",
    "        break\n",
    "    diff = sp.diff(diff, x)\n",
    "    display(diff)"
   ]
  },
  {
   "attachments": {
    "image.png": {
     "image/png": "[encoded data removed]"
    }
   },
   "cell_type": "markdown",
   "id": "b6687ff6",
   "metadata": {},
   "source": [
    "### 8\n",
    "![image.png](attachment:image.png)"
   ]
  },
  {
   "cell_type": "markdown",
   "id": "a732536a",
   "metadata": {},
   "source": [
    "This is the chain rule, and annoying."
   ]
  },
  {
   "cell_type": "code",
   "execution_count": 24,
   "id": "1fda6306",
   "metadata": {},
   "outputs": [
    {
     "data": {
      "text/latex": [
       "$\\displaystyle \\sqrt[6]{5 x - 2}$"
      ],
      "text/plain": [
       "(5*x - 2)**(1/6)"
      ]
     },
     "metadata": {},
     "output_type": "display_data"
    },
    {
     "data": {
      "text/latex": [
       "$\\displaystyle \\frac{5}{6 \\left(5 x - 2\\right)^{\\frac{5}{6}}}$"
      ],
      "text/plain": [
       "5/(6*(5*x - 2)**(5/6))"
      ]
     },
     "metadata": {},
     "output_type": "display_data"
    },
    {
     "data": {
      "text/latex": [
       "$\\displaystyle - \\frac{125}{36 \\left(5 x - 2\\right)^{\\frac{11}{6}}}$"
      ],
      "text/plain": [
       "-125/(36*(5*x - 2)**(11/6))"
      ]
     },
     "metadata": {},
     "output_type": "display_data"
    }
   ],
   "source": [
    "expr = sp.root(5*x-2,6)\n",
    "display(expr)\n",
    "\n",
    "diff = sp.diff(expr, x)\n",
    "display(diff)\n",
    "\n",
    "i = 1\n",
    "nth = 2\n",
    "while diff != 0:\n",
    "    i += 1\n",
    "    if i > 2:\n",
    "        break\n",
    "    diff = sp.diff(diff, x)\n",
    "    display(diff)"
   ]
  },
  {
   "cell_type": "markdown",
   "id": "a34aca8e",
   "metadata": {},
   "source": [
    "But I don't actually know how to do this so, attempting:\n",
    "\n",
    "$$\n",
    "\\begin{align*}\n",
    "f(x) &= \\sqrt[6]{5x-2} \\\\\n",
    "f(x) &= (5x-2)^{1/6}\n",
    "\\end{align*}\n",
    "$$\n",
    "\n",
    "Apply the power rule and multiply by g'(x)\n",
    "$$\n",
    "\\frac{1}{6}(5x-2)^{\\frac{1}{6} - \\frac{6}{6}} \\cdot 5\n",
    "$$\n",
    "Simplify\n",
    "$$\n",
    "\\frac{5}{6}(5x-2)^{-\\frac{5}{6}}\n",
    "$$\n",
    "Chain rule again:\n",
    "$$\n",
    "5 \\cdot \\frac{5}{6} \\cdot \\frac{5}{6}(5x-2)^{-\\frac{11}{6}}\n",
    "$$\n",
    "Simplify\n",
    "$$\n",
    "\\frac{125}{36}(5x-2)^{-\\frac{11}{6}}\n",
    "$$"
   ]
  },
  {
   "attachments": {
    "image.png": {
     "image/png": "[encoded data removed]"
    }
   },
   "cell_type": "markdown",
   "id": "256209e3",
   "metadata": {},
   "source": [
    "### 9\n",
    "![image.png](attachment:image.png)"
   ]
  },
  {
   "cell_type": "markdown",
   "id": "de211855",
   "metadata": {},
   "source": [
    "Note: I made a mistake applying the power rule.\n",
    " - Always be sure to multiply the power to the constant"
   ]
  },
  {
   "cell_type": "markdown",
   "id": "3164eab8",
   "metadata": {},
   "source": [
    "**Quotient Rule**  \n",
    "    $$\\Large \\frac{d}{dx} \\!\\!\\left[\\frac{f(x)}{g(x)}\\right] = \\frac{f'g - g'f}{g^2} $$"
   ]
  },
  {
   "cell_type": "markdown",
   "id": "8a10ee00",
   "metadata": {},
   "source": [
    "$$\n",
    "\\begin{align*}\n",
    "y &= \\frac{6x^2 +5}{x^2 +2} \\\\\n",
    "y(x) &= \\frac{f(x)}{g(x)} \\\\\n",
    "f(x) &= 6x^2 +5 \\\\\n",
    "g(x) &= x^2 +2 \\\\\n",
    "f'(x) &= 12x \\\\\n",
    "g'(x) &= 2x\n",
    "\\end{align*}\n",
    "$$"
   ]
  },
  {
   "cell_type": "markdown",
   "id": "89afd951",
   "metadata": {},
   "source": [
    "$$\n",
    "\\frac{f'g - g'f}{g^2}\n",
    "\\quad \\Rightarrow \\quad\n",
    "\\frac{12x(x^2 +2) - 2x(6x^2 +5)}{(x^2 +2)^2}\n",
    "$$\n",
    "Simplify\n",
    "$$\n",
    "\\frac{12x^3 +24x - 12x^3 -10x}{x^4 +4x^2 +4}\n",
    "$$\n",
    "Further\n",
    "$$\n",
    "\\frac{14x}{x^4 +4x^2 +4}\n",
    "$$\n"
   ]
  },
  {
   "cell_type": "code",
   "execution_count": 33,
   "id": "49982111",
   "metadata": {},
   "outputs": [
    {
     "data": {
      "text/latex": [
       "$\\displaystyle \\frac{6 x^{2} + 5}{x^{2} + 2}$"
      ],
      "text/plain": [
       "(6*x**2 + 5)/(x**2 + 2)"
      ]
     },
     "execution_count": 33,
     "metadata": {},
     "output_type": "execute_result"
    }
   ],
   "source": [
    "##Once more with sympy!\n",
    "y = (6*x**2+5)/(x**2+2)\n",
    "y"
   ]
  },
  {
   "cell_type": "code",
   "execution_count": 34,
   "id": "9f0991dc",
   "metadata": {},
   "outputs": [
    {
     "data": {
      "text/latex": [
       "$\\displaystyle \\frac{14 x}{\\left(x^{2} + 2\\right)^{2}}$"
      ],
      "text/plain": [
       "14*x/(x**2 + 2)**2"
      ]
     },
     "execution_count": 34,
     "metadata": {},
     "output_type": "execute_result"
    }
   ],
   "source": [
    "sp.simplify(y.diff(x))"
   ]
  },
  {
   "attachments": {
    "image.png": {
     "image/png": "[encoded data removed]"
    }
   },
   "cell_type": "markdown",
   "id": "b1ddc74e",
   "metadata": {},
   "source": [
    "### 11\n",
    "![image.png](attachment:image.png)"
   ]
  },
  {
   "cell_type": "markdown",
   "id": "fc528bdf",
   "metadata": {},
   "source": [
    "- **Chain Rule**  \n",
    "$$\n",
    "\\frac{d}{dx}[f(g(x))] = f'(g) \\cdot g' \n",
    "$$\n",
    "- **Sine**\n",
    "$$\n",
    "\\frac{d}{dx}(\\sin x) = \\cos x\n",
    "$$\n",
    "- **Coefficient Rule**  \n",
    "    A coefficient can be factored out of the derivative.\n",
    "    $$ \\frac{d}{dx}[c \\cdot f(x)] = c \\cdot f'(x) $$"
   ]
  },
  {
   "cell_type": "markdown",
   "id": "74d1fbd1",
   "metadata": {},
   "source": [
    "$$\n",
    "\\begin{align*}\n",
    "\n",
    "y &= 6 \\underbrace{\\sin}_{f(x)}(\\underbrace{7x^3-10}_{g(x)})\n",
    "\\\\ y &= 6\\cdot f(g(x))\n",
    "\\\\\n",
    "\\\\ f'(x) &= \\cos(x)\n",
    "\\\\ g'(x) &= 21x^2\n",
    "\\\\\n",
    "\\\\ y'(x) &= 6 \\cdot f'(g) \\cdot g'\n",
    "\\\\ y'(x) &= 6 \\cdot \\cos(7x^3-10) \\cdot 21x^2\n",
    "\\\\ y'(x) &= 21x^2 \\cdot 6 \\cdot \\cos(7x^3-10)\n",
    "\\\\ y'(x) &= 126x^2 \\cos(7x^3-10)\n",
    "\n",
    "\\end{align*}\n",
    "$$"
   ]
  },
  {
   "cell_type": "code",
   "execution_count": 36,
   "id": "d75d0fe9",
   "metadata": {},
   "outputs": [
    {
     "data": {
      "text/latex": [
       "$\\displaystyle 126 x^{2} \\cos{\\left(7 x^{3} - 10 \\right)}$"
      ],
      "text/plain": [
       "126*x**2*cos(7*x**3 - 10)"
      ]
     },
     "execution_count": 36,
     "metadata": {},
     "output_type": "execute_result"
    }
   ],
   "source": [
    "y = 6*sp.sin(7*x**3-10)\n",
    "y.diff()"
   ]
  },
  {
   "attachments": {
    "image.png": {
     "image/png": "[encoded data removed]"
    }
   },
   "cell_type": "markdown",
   "id": "6815511a",
   "metadata": {},
   "source": [
    "### 12\n",
    "![image.png](attachment:image.png)"
   ]
  },
  {
   "cell_type": "markdown",
   "id": "6ef61c29",
   "metadata": {},
   "source": [
    "- **Chain Rule**  \n",
    "    $$\n",
    "    \\frac{d}{dx}[f(g(x))] = f'(g) \\cdot g' \n",
    "    $$\n",
    "- **Cosine**\n",
    "    $$\n",
    "    \\frac{d}{dx}(\\cos x) = -\\sin x\n",
    "    $$\n",
    "- **Coefficient Rule**  \n",
    "    $$ \n",
    "    \\frac{d}{dx}[c \\cdot f(x)] = c \\cdot f'(x) \n",
    "    $$"
   ]
  },
  {
   "cell_type": "markdown",
   "id": "11b1b157",
   "metadata": {},
   "source": [
    "I did it in my head!\n",
    "$$\n",
    "y'(x) = -\\frac{4}{5} \\sin \\frac{1}{5}x\n",
    "$$"
   ]
  },
  {
   "attachments": {
    "image.png": {
     "image/png": "[encoded data removed]"
    }
   },
   "cell_type": "markdown",
   "id": "15e31890",
   "metadata": {},
   "source": [
    "### 13\n",
    "![image.png](attachment:image.png)"
   ]
  },
  {
   "cell_type": "code",
   "execution_count": 40,
   "id": "96149041",
   "metadata": {},
   "outputs": [
    {
     "data": {
      "text/latex": [
       "$\\displaystyle \\sin^{2}{\\left(5 \\pi \\theta \\right)}$"
      ],
      "text/plain": [
       "sin(5*pi*theta)**2"
      ]
     },
     "metadata": {},
     "output_type": "display_data"
    },
    {
     "data": {
      "text/latex": [
       "$\\displaystyle 10 \\pi \\sin{\\left(5 \\pi \\theta \\right)} \\cos{\\left(5 \\pi \\theta \\right)}$"
      ],
      "text/plain": [
       "10*pi*sin(5*pi*theta)*cos(5*pi*theta)"
      ]
     },
     "metadata": {},
     "output_type": "display_data"
    }
   ],
   "source": [
    "from sympy.abc import pi, theta\n",
    "y = sp.sin(5*pi*theta)**2\n",
    "display(y)\n",
    "display(y.diff(theta))"
   ]
  },
  {
   "cell_type": "markdown",
   "id": "e08c0893",
   "metadata": {},
   "source": [
    "$$\n",
    "\\begin{align*}\n",
    "r &= \\sin^2(5\\pi\\theta)\n",
    "\\\\ r &= [ \\underbrace{\\sin}_{g(x)} ( \\underbrace{5\\pi\\theta}_{h(x)} ) \\underbrace{]^2}_{f(x)}\n",
    "\\\\ r &= f(g(h(x))) \n",
    "\\\\\n",
    "\\\\ f(x) &= x^2\n",
    "\\\\ g(x) &= \\sin(x)\n",
    "\\\\ h(x) &= 5\\pi x\n",
    "\\\\\n",
    "\\\\ f' &= 2x\n",
    "\\\\ g' &= \\cos(x)\n",
    "\\\\ h' &= 5\\pi\n",
    "\\end{align*}\n",
    "$$"
   ]
  },
  {
   "cell_type": "markdown",
   "id": "a7515e21",
   "metadata": {},
   "source": [
    "- **Chain Rule**  \n",
    "    $$\n",
    "    \\frac{d}{dx}[f(g(x))] = f'(g) \\cdot g' \n",
    "    $$"
   ]
  },
  {
   "cell_type": "markdown",
   "id": "1f662bf1",
   "metadata": {},
   "source": [
    "$$\n",
    "\\begin{align*}\n",
    "g' &= g'(h) \\cdot h'\n",
    "\\\\ g' &= \\cos(5\\pi\\theta) \\cdot 5\\pi\n",
    "\\\\\n",
    "\\\\ f' &= f'(g) \\cdot g'\n",
    "\\\\ f' &= 2\\sin(5\\pi\\theta) \\cdot g'\n",
    "\\\\ f' &= 2\\sin(5\\pi\\theta) \\cdot \\cos(5\\pi\\theta) \\cdot 5\\pi\n",
    "\\\\ f' &= 10\\pi\\sin(5\\pi\\theta) \\cdot \\cos(5\\pi\\theta)\n",
    "\\end{align*}\n",
    "$$"
   ]
  },
  {
   "attachments": {
    "image.png": {
     "image/png": "[encoded data removed]"
    }
   },
   "cell_type": "markdown",
   "id": "3a855d63",
   "metadata": {},
   "source": [
    "### 14\n",
    "![image.png](attachment:image.png)"
   ]
  },
  {
   "cell_type": "code",
   "execution_count": 42,
   "id": "e8c2d604",
   "metadata": {},
   "outputs": [
    {
     "data": {
      "text/latex": [
       "$\\displaystyle \\frac{\\cos{\\left(2 x \\right)}}{\\sqrt{\\sin{\\left(2 x \\right)} + 1}}$"
      ],
      "text/plain": [
       "cos(2*x)/sqrt(sin(2*x) + 1)"
      ]
     },
     "execution_count": 42,
     "metadata": {},
     "output_type": "execute_result"
    }
   ],
   "source": [
    "y = sp.sqrt(1+sp.sin(2*x))\n",
    "y.diff()"
   ]
  },
  {
   "attachments": {
    "image.png": {
     "image/png": "[encoded data removed]"
    }
   },
   "cell_type": "markdown",
   "id": "9f0f7cff",
   "metadata": {},
   "source": [
    "### 15\n",
    "![image.png](attachment:image.png)"
   ]
  },
  {
   "cell_type": "markdown",
   "id": "6488fee6",
   "metadata": {},
   "source": [
    "- **Cosecant**\n",
    "  $$\n",
    "  \\frac{d}{dx}(\\csc x) = -\\csc x \\cot x\n",
    "  $$\n",
    "- **Chain Rule**\n",
    "  $$ \\frac{d}{dx}[f(g(x))] = f'(g) \\cdot g'(x) $$"
   ]
  },
  {
   "cell_type": "code",
   "execution_count": 44,
   "id": "2dbc322d",
   "metadata": {},
   "outputs": [
    {
     "data": {
      "text/latex": [
       "$\\displaystyle - 216 \\cot{\\left(9 x \\right)} \\csc^{4}{\\left(9 x \\right)}$"
      ],
      "text/plain": [
       "-216*cot(9*x)*csc(9*x)**4"
      ]
     },
     "execution_count": 44,
     "metadata": {},
     "output_type": "execute_result"
    }
   ],
   "source": [
    "y = 6*sp.csc(9*x)**4\n",
    "y.diff()"
   ]
  },
  {
   "cell_type": "markdown",
   "id": "79c2b60c",
   "metadata": {},
   "source": [
    "$$\n",
    "    6 [\\csc(9x)]^4\n",
    "\\\\  6 [\\csc(9x)]^4 \\cdot 9\n",
    "\\\\  6 [\\csc(9x)]^4 \\cdot 9 \\cdot -\\csc(9x)\\cot(9x)\n",
    "\\\\  9 \\cdot 6 \\cdot 4[\\csc(9x)]^3 \\cdot  -1\\csc(9x)\\cot(9x)\n",
    "\\\\  -216[\\csc(9x)]^3 \\cdot  \\csc(9x)\\cot(9x)\n",
    "\\\\  -216[\\csc(9x)]^4 \\cdot  \\cot(9x)\n",
    "\\\\  -216\\csc^4(9x) \\cdot  \\cot(9x)\n",
    "\\\\  -216\\cot(9x)\\csc^4(9x) "
   ]
  },
  {
   "attachments": {
    "image.png": {
     "image/png": "[encoded data removed]"
    }
   },
   "cell_type": "markdown",
   "id": "b99efae2",
   "metadata": {},
   "source": [
    "### 16\n",
    "![image.png](attachment:image.png)"
   ]
  },
  {
   "cell_type": "markdown",
   "id": "28eabfcc",
   "metadata": {},
   "source": [
    "- **Product Rule**  \n",
    "    $$ \\frac{d}{dx}[f(x) g(x)] = f'(x) g(x) + f(x) g'(x) $$\n",
    "\n",
    "- **Cosecant**\n",
    "  $$\n",
    "  \\frac{d}{dx}(\\csc x) = -\\csc x \\cot x\n",
    "  $$\n",
    "\n",
    "- **Sine**\n",
    "  $$\n",
    "  \\frac{d}{dx}(\\sin x) = \\cos x\n",
    "  $$"
   ]
  },
  {
   "cell_type": "markdown",
   "id": "03dc5adb",
   "metadata": {},
   "source": [
    "$$\n",
    "\\begin{align*}\n",
    "\n",
    "\\end{align*}\n",
    "$$"
   ]
  },
  {
   "cell_type": "markdown",
   "id": "4069e859",
   "metadata": {},
   "source": [
    "$$\n",
    "\\begin{align*}\n",
    "    y &= 4\\sin(x)\\csc(x^2)\n",
    "\\\\  y &= 4 f(x) g(h(x))\n",
    "\\\\\n",
    "\\\\  f' &= \\cos(x)\n",
    "\\\\  g' &= -2x\\csc(x^2)\\cot(x^2)\n",
    "\\\\\n",
    "\\\\  y' &= f'g(x) + g'f(x)\n",
    "\\\\  y' &= \\cos(x)\\csc(x^2) + -2x\\csc(x^2)\\cot(x^2)\\sin(x)\n",
    "\\end{align*}\n",
    "$$"
   ]
  },
  {
   "attachments": {
    "image.png": {
     "image/png": "[encoded data removed]"
    }
   },
   "cell_type": "markdown",
   "id": "7b35c09d",
   "metadata": {},
   "source": [
    "### 17\n",
    "![image.png](attachment:image.png)"
   ]
  },
  {
   "cell_type": "markdown",
   "id": "fe4074b4",
   "metadata": {},
   "source": [
    "This again relies on the chain rule. But it also relies on knowing the d' of the inverse tangent function.  I decline to subject myself to that headache so:"
   ]
  },
  {
   "cell_type": "code",
   "execution_count": 46,
   "id": "af6fb535",
   "metadata": {},
   "outputs": [
    {
     "data": {
      "text/latex": [
       "$\\displaystyle \\frac{4}{\\sqrt{x} \\left(x + 1\\right)}$"
      ],
      "text/plain": [
       "4/(sqrt(x)*(x + 1))"
      ]
     },
     "execution_count": 46,
     "metadata": {},
     "output_type": "execute_result"
    }
   ],
   "source": [
    "y = 8*sp.atan(sp.sqrt(x))\n",
    "y.diff()"
   ]
  },
  {
   "cell_type": "code",
   "execution_count": 49,
   "id": "e959372e",
   "metadata": {},
   "outputs": [
    {
     "data": {
      "text/latex": [
       "$\\displaystyle \\frac{24}{x \\log{\\left(10 \\right)}}$"
      ],
      "text/plain": [
       "24/(x*log(10))"
      ]
     },
     "execution_count": 49,
     "metadata": {},
     "output_type": "execute_result"
    }
   ],
   "source": [
    "#18\n",
    "y = 8*sp.log(x**3, 10)\n",
    "y.diff()"
   ]
  },
  {
   "attachments": {
    "image.png": {
     "image/png": "[encoded data removed]"
    }
   },
   "cell_type": "markdown",
   "id": "68a78d75",
   "metadata": {},
   "source": [
    "### 19\n",
    "![image.png](attachment:image.png)"
   ]
  },
  {
   "cell_type": "markdown",
   "id": "ac52afbd",
   "metadata": {},
   "source": [
    "- **Coefficient Rule**  \n",
    "    $$ \n",
    "    \\frac{d}{dx}[c \\cdot f(x)] = c \\cdot f'(x) \n",
    "    $$\n",
    "- **Chain Rule**  \n",
    "    $$\n",
    "    \\frac{d}{dx}[f(g(x))] = f'(g) \\cdot g' \n",
    "    $$\n",
    "- **Quotient Rule**  \n",
    "    $$\n",
    "    \\frac{d}{dx} \\!\\!\\left[\\frac{f(x)}{g(x)}\\right] = \\frac{f'g - g'f}{g^2} \n",
    "    $$"
   ]
  },
  {
   "cell_type": "code",
   "execution_count": null,
   "id": "bab12bac",
   "metadata": {},
   "outputs": [
    {
     "data": {
      "text/latex": [
       "$\\displaystyle 60 e^{5 x}$"
      ],
      "text/plain": [
       "60*exp(5*x)"
      ]
     },
     "execution_count": 62,
     "metadata": {},
     "output_type": "execute_result"
    }
   ],
   "source": [
    "wrt = x\n",
    "numer = 12*sp.E**(5*x)\n",
    "d_numer = numer.diff(wrt)\n",
    "d_numer"
   ]
  },
  {
   "cell_type": "code",
   "execution_count": 64,
   "id": "f13c38e2",
   "metadata": {},
   "outputs": [
    {
     "data": {
      "text/latex": [
       "$\\displaystyle 1$"
      ],
      "text/plain": [
       "1"
      ]
     },
     "execution_count": 64,
     "metadata": {},
     "output_type": "execute_result"
    }
   ],
   "source": [
    "denom = x+2\n",
    "d_denom = denom.diff(wrt)\n",
    "d_denom"
   ]
  },
  {
   "cell_type": "code",
   "execution_count": 65,
   "id": "066b59c6",
   "metadata": {},
   "outputs": [
    {
     "data": {
      "text/latex": [
       "$\\displaystyle 60 \\left(x + 2\\right) e^{5 x} - 12 e^{5 x}$"
      ],
      "text/plain": [
       "60*(x + 2)*exp(5*x) - 12*exp(5*x)"
      ]
     },
     "execution_count": 65,
     "metadata": {},
     "output_type": "execute_result"
    }
   ],
   "source": [
    "top = d_numer*denom - d_denom*numer\n",
    "top"
   ]
  },
  {
   "cell_type": "code",
   "execution_count": 66,
   "id": "a983071d",
   "metadata": {},
   "outputs": [
    {
     "data": {
      "text/latex": [
       "$\\displaystyle \\left(x + 2\\right)^{2}$"
      ],
      "text/plain": [
       "(x + 2)**2"
      ]
     },
     "execution_count": 66,
     "metadata": {},
     "output_type": "execute_result"
    }
   ],
   "source": [
    "bottom = denom**2\n",
    "bottom"
   ]
  },
  {
   "cell_type": "code",
   "execution_count": 67,
   "id": "7ea0b3a4",
   "metadata": {},
   "outputs": [
    {
     "data": {
      "text/latex": [
       "$\\displaystyle \\frac{60 \\left(x + 2\\right) e^{5 x} - 12 e^{5 x}}{\\left(x + 2\\right)^{2}}$"
      ],
      "text/plain": [
       "(60*(x + 2)*exp(5*x) - 12*exp(5*x))/(x + 2)**2"
      ]
     },
     "execution_count": 67,
     "metadata": {},
     "output_type": "execute_result"
    }
   ],
   "source": [
    "diff_quotient_rule = top/bottom\n",
    "diff_quotient_rule"
   ]
  },
  {
   "cell_type": "code",
   "execution_count": null,
   "id": "db02ff3b",
   "metadata": {},
   "outputs": [
    {
     "data": {
      "text/latex": [
       "$\\displaystyle \\frac{60 x e^{5 x} + 108 e^{5 x}}{x^{2} + 4 x + 4}$"
      ],
      "text/plain": [
       "(60*x*exp(5*x) + 108*exp(5*x))/(x**2 + 4*x + 4)"
      ]
     },
     "execution_count": 76,
     "metadata": {},
     "output_type": "execute_result"
    }
   ],
   "source": [
    "diff_quotient_rule.as_numer_denom()[0].expand()/(denom**2).expand()"
   ]
  },
  {
   "cell_type": "code",
   "execution_count": 89,
   "id": "f05c748c",
   "metadata": {},
   "outputs": [
    {
     "data": {
      "text/latex": [
       "$\\displaystyle \\frac{20 e^{5 x}}{x + 3}$"
      ],
      "text/plain": [
       "20*exp(5*x)/(x + 3)"
      ]
     },
     "metadata": {},
     "output_type": "display_data"
    }
   ],
   "source": [
    "import sympy as sp\n",
    "x = sp.symbols('x')\n",
    "\n",
    "my_expr = (20*sp.E**(5*x)) / (x+3)\n",
    "display(my_expr)"
   ]
  },
  {
   "cell_type": "code",
   "execution_count": null,
   "id": "c55b4859",
   "metadata": {},
   "outputs": [
    {
     "data": {
      "text/latex": [
       "$\\displaystyle \\frac{\\left(100 x + 280\\right) e^{5 x}}{\\left(x + 3\\right)^{2}}$"
      ],
      "text/plain": [
       "(100*x + 280)*exp(5*x)/(x + 3)**2"
      ]
     },
     "execution_count": 84,
     "metadata": {},
     "output_type": "execute_result"
    }
   ],
   "source": [
    "def quotient_rule(expr, wrt=x):\n",
    "    numer, denom = expr.as_numer_denom()\n",
    "    d_numer = numer.diff(wrt)\n",
    "    d_denom = denom.diff(wrt)\n",
    "    top = d_numer*denom - d_denom*numer\n",
    "    bottom = denom**2\n",
    "    return sp.simplify(top.expand())/bottom\n",
    "\n",
    "quotient_rule(my_expr)"
   ]
  },
  {
   "cell_type": "code",
   "execution_count": 88,
   "id": "8558d020",
   "metadata": {},
   "outputs": [
    {
     "data": {
      "text/latex": [
       "$\\displaystyle \\frac{\\left(100 x + 280\\right) e^{5 x}}{x^{2} + 6 x + 9}$"
      ],
      "text/plain": [
       "(100*x + 280)*exp(5*x)/(x**2 + 6*x + 9)"
      ]
     },
     "execution_count": 88,
     "metadata": {},
     "output_type": "execute_result"
    }
   ],
   "source": [
    "my_expr.diff().simplify()"
   ]
  },
  {
   "cell_type": "code",
   "execution_count": 91,
   "id": "5680dc28",
   "metadata": {},
   "outputs": [
    {
     "data": {
      "text/latex": [
       "$\\displaystyle 20 e^{5 x}$"
      ],
      "text/plain": [
       "20*exp(5*x)"
      ]
     },
     "metadata": {},
     "output_type": "display_data"
    },
    {
     "data": {
      "text/latex": [
       "$\\displaystyle x + 3$"
      ],
      "text/plain": [
       "x + 3"
      ]
     },
     "metadata": {},
     "output_type": "display_data"
    }
   ],
   "source": [
    "numer, denom = my_expr.as_numer_denom()\n",
    "display(num)\n",
    "display(denom)"
   ]
  },
  {
   "cell_type": "code",
   "execution_count": 92,
   "id": "f4ff73cf",
   "metadata": {},
   "outputs": [
    {
     "data": {
      "text/latex": [
       "$\\displaystyle 100 e^{5 x}$"
      ],
      "text/plain": [
       "100*exp(5*x)"
      ]
     },
     "metadata": {},
     "output_type": "display_data"
    },
    {
     "data": {
      "text/latex": [
       "$\\displaystyle 1$"
      ],
      "text/plain": [
       "1"
      ]
     },
     "metadata": {},
     "output_type": "display_data"
    }
   ],
   "source": [
    "d_numer = num.diff()\n",
    "d_denom = denom.diff()\n",
    "display(d_num)\n",
    "display(d_denom)"
   ]
  },
  {
   "cell_type": "code",
   "execution_count": 95,
   "id": "46684614",
   "metadata": {},
   "outputs": [
    {
     "data": {
      "text/latex": [
       "$\\displaystyle 100 \\left(x + 3\\right) e^{5 x} - 20 e^{5 x}$"
      ],
      "text/plain": [
       "100*(x + 3)*exp(5*x) - 20*exp(5*x)"
      ]
     },
     "metadata": {},
     "output_type": "display_data"
    },
    {
     "data": {
      "text/latex": [
       "$\\displaystyle \\left(100 x + 280\\right) e^{5 x}$"
      ],
      "text/plain": [
       "(100*x + 280)*exp(5*x)"
      ]
     },
     "metadata": {},
     "output_type": "display_data"
    }
   ],
   "source": [
    "top = d_numer*denom - d_denom*numer\n",
    "display(top)\n",
    "display(top.simplify())"
   ]
  },
  {
   "cell_type": "code",
   "execution_count": 100,
   "id": "2cc0afa5",
   "metadata": {},
   "outputs": [
    {
     "data": {
      "text/latex": [
       "$\\displaystyle \\frac{\\left(100 x + 280\\right) e^{5 x}}{\\left(x + 3\\right)^{2}}$"
      ],
      "text/plain": [
       "(100*x + 280)*exp(5*x)/(x + 3)**2"
      ]
     },
     "metadata": {},
     "output_type": "display_data"
    }
   ],
   "source": [
    "top = top.simplify()\n",
    "bottom = denom**2\n",
    "answer = top/bottom\n",
    "display(answer)"
   ]
  },
  {
   "cell_type": "markdown",
   "id": "6335e727",
   "metadata": {},
   "source": [
    "$$\n",
    "\\Large\n",
    "\\underbrace{\n",
    "\\frac{dy}{dx} = \\frac{(100 x  + 280 )e^{5 x}}{(x+3)^2} \n",
    "}_{\\text{Derivative}}\n",
    "\n",
    "\\quad \\iff \\quad\n",
    "\n",
    "\\underbrace{\n",
    "dy = dx\\left[ \\frac{(100 x  + 280 )e^{5 x}}{(x+3)^2} \\right]\n",
    "}_{\\text{Differential}}\n",
    "$$"
   ]
  },
  {
   "attachments": {
    "image.png": {
     "image/png": "[encoded data removed]"
    }
   },
   "cell_type": "markdown",
   "id": "6c3c9d0c",
   "metadata": {},
   "source": [
    "### 20\n",
    "![image.png](attachment:image.png)"
   ]
  },
  {
   "cell_type": "markdown",
   "id": "0d5f98d2",
   "metadata": {},
   "source": []
  }
 ],
 "metadata": {
  "kernelspec": {
   "display_name": "Python 3",
   "language": "python",
   "name": "python3"
  },
  "language_info": {
   "codemirror_mode": {
    "name": "ipython",
    "version": 3
   },
   "file_extension": ".py",
   "mimetype": "text/x-python",
   "name": "python",
   "nbconvert_exporter": "python",
   "pygments_lexer": "ipython3",
   "version": "3.13.2"
  }
 },
 "nbformat": 4,
 "nbformat_minor": 5
}
