{
 "cells": [
  {
   "cell_type": "code",
   "execution_count": 1,
   "id": "39301da7",
   "metadata": {},
   "outputs": [],
   "source": [
    "import numpy as np\n",
    "import sympy as sp\n",
    "from sympy.plotting import plot\n",
    "import matplotlib.pyplot as plt"
   ]
  },
  {
   "cell_type": "code",
   "execution_count": null,
   "id": "da12e312",
   "metadata": {},
   "outputs": [],
   "source": [
    "a, b, c, m, n, p, x, y, z = sp.symbols('a, b, c, m, n, p, x, y, z')\n",
    "h = sp.symbols('h')\n",
    "f = sp.Function('f')"
   ]
  },
  {
   "cell_type": "code",
   "execution_count": 74,
   "id": "e4718151",
   "metadata": {},
   "outputs": [],
   "source": [
    "from matplotlib.ticker import EngFormatter\n",
    "\n",
    "engf = EngFormatter()\n",
    "\n",
    "def eng_format(value, unit=''):\n",
    "    f = EngFormatter(unit=unit)\n",
    "    return f(value)"
   ]
  },
  {
   "cell_type": "markdown",
   "id": "a66124c0",
   "metadata": {},
   "source": [
    "### 1.\n",
    "Find the derivative of the function by using the definition  \n",
    "$y= 8x^2 - 5x$"
   ]
  },
  {
   "cell_type": "markdown",
   "id": "dac55a97",
   "metadata": {},
   "source": [
    "$$\n",
    "f'(x) = \\lim_{h \\to 0} \\frac{f(x + h) - f(x)}{h}\n",
    "$$"
   ]
  },
  {
   "cell_type": "code",
   "execution_count": 15,
   "id": "a52a8127",
   "metadata": {},
   "outputs": [
    {
     "data": {
      "text/latex": [
       "$\\displaystyle 16 x - 5$"
      ],
      "text/plain": [
       "16*x - 5"
      ]
     },
     "execution_count": 15,
     "metadata": {},
     "output_type": "execute_result"
    }
   ],
   "source": [
    "# First let's just look at the answer so we know if we make a mistake.\n",
    "fy = 8*x**2 - 5*x\n",
    "sp.diff(fy, x)"
   ]
  },
  {
   "cell_type": "code",
   "execution_count": null,
   "id": "36b23cc5",
   "metadata": {},
   "outputs": [
    {
     "data": {
      "text/latex": [
       "$\\displaystyle \\frac{- f{\\left(x \\right)} + f{\\left(h + x \\right)}}{h}$"
      ],
      "text/plain": [
       "(-f(x) + f(h + x))/h"
      ]
     },
     "execution_count": 25,
     "metadata": {},
     "output_type": "execute_result"
    }
   ],
   "source": [
    "# We'll start with the difference quotient / definition of derivative\n",
    "diff_quotient = (f(x + h) - f(x)) / h\n",
    "diff_quotient"
   ]
  },
  {
   "cell_type": "code",
   "execution_count": null,
   "id": "7b078563",
   "metadata": {},
   "outputs": [
    {
     "data": {
      "text/latex": [
       "$\\displaystyle \\frac{- 5 h - 8 x^{2} + 8 \\left(h + x\\right)^{2}}{h}$"
      ],
      "text/plain": [
       "(-5*h - 8*x**2 + 8*(h + x)**2)/h"
      ]
     },
     "execution_count": 35,
     "metadata": {},
     "output_type": "execute_result"
    }
   ],
   "source": [
    "# Substitute our expression into the difference quotient\n",
    "dq_sub = diff_quotient.subs({f(x): fy, f(x + h): fy.subs(x, x + h)})\n",
    "dq_sub"
   ]
  },
  {
   "cell_type": "code",
   "execution_count": null,
   "id": "d25782c3",
   "metadata": {},
   "outputs": [
    {
     "data": {
      "text/latex": [
       "$\\displaystyle 8 h + 16 x - 5$"
      ],
      "text/plain": [
       "8*h + 16*x - 5"
      ]
     },
     "execution_count": 34,
     "metadata": {},
     "output_type": "execute_result"
    }
   ],
   "source": [
    "#Let's look at a simplified version\n",
    "sp.simplify(dq_sub)"
   ]
  },
  {
   "cell_type": "code",
   "execution_count": null,
   "id": "e0aa68a2",
   "metadata": {},
   "outputs": [
    {
     "data": {
      "text/latex": [
       "$\\displaystyle 16 x - 5$"
      ],
      "text/plain": [
       "16*x - 5"
      ]
     },
     "execution_count": 36,
     "metadata": {},
     "output_type": "execute_result"
    }
   ],
   "source": [
    "# Take the limit as h approaches 0\n",
    "derivative_expr = sp.limit(dq_sub, h, 0)\n",
    "derivative_expr"
   ]
  },
  {
   "cell_type": "markdown",
   "id": "76029ba7",
   "metadata": {},
   "source": [
    "### 2\n",
    "Evaluate the function $f(r) = \\sqrt{r+5} + 5$ at the given values of the independent variable and simplify.  \n",
    "- f(-5)\n",
    "- f(76)\n",
    "- f(x-5)\n"
   ]
  },
  {
   "cell_type": "code",
   "execution_count": 38,
   "id": "498fc770",
   "metadata": {},
   "outputs": [
    {
     "data": {
      "text/latex": [
       "$\\displaystyle \\sqrt{r + 5} + 5$"
      ],
      "text/plain": [
       "sqrt(r + 5) + 5"
      ]
     },
     "execution_count": 38,
     "metadata": {},
     "output_type": "execute_result"
    }
   ],
   "source": [
    "r = sp.symbols('r')\n",
    "expr = sp.sqrt(r+5)+5\n",
    "expr"
   ]
  },
  {
   "cell_type": "code",
   "execution_count": 40,
   "id": "db7daa07",
   "metadata": {},
   "outputs": [
    {
     "data": {
      "text/latex": [
       "$\\displaystyle 5$"
      ],
      "text/plain": [
       "5"
      ]
     },
     "execution_count": 40,
     "metadata": {},
     "output_type": "execute_result"
    }
   ],
   "source": [
    "expr.subs(r, -5)"
   ]
  },
  {
   "cell_type": "code",
   "execution_count": 42,
   "id": "4cce1d4f",
   "metadata": {},
   "outputs": [
    {
     "data": {
      "text/latex": [
       "$\\displaystyle 14$"
      ],
      "text/plain": [
       "14"
      ]
     },
     "execution_count": 42,
     "metadata": {},
     "output_type": "execute_result"
    }
   ],
   "source": [
    "expr.subs(r, 76)"
   ]
  },
  {
   "cell_type": "code",
   "execution_count": 43,
   "id": "5816f571",
   "metadata": {},
   "outputs": [
    {
     "data": {
      "text/latex": [
       "$\\displaystyle \\sqrt{x} + 5$"
      ],
      "text/plain": [
       "sqrt(x) + 5"
      ]
     },
     "execution_count": 43,
     "metadata": {},
     "output_type": "execute_result"
    }
   ],
   "source": [
    "expr.subs(r, x-5)"
   ]
  },
  {
   "cell_type": "markdown",
   "id": "1e10fb1c",
   "metadata": {},
   "source": [
    "### 3"
   ]
  },
  {
   "cell_type": "code",
   "execution_count": 48,
   "id": "9d89bb75",
   "metadata": {},
   "outputs": [
    {
     "data": {
      "text/latex": [
       "$\\displaystyle - 3 x^{2} + 3 \\left(x + 3\\right)^{2} - 3$"
      ],
      "text/plain": [
       "-3*x**2 + 3*(x + 3)**2 - 3"
      ]
     },
     "execution_count": 48,
     "metadata": {},
     "output_type": "execute_result"
    }
   ],
   "source": [
    "fx = lambda x: 3*x**2+2\n",
    "\n",
    "e = fx(x+3) - (fx(x)+3)\n",
    "e"
   ]
  },
  {
   "cell_type": "code",
   "execution_count": 49,
   "id": "79b53c6a",
   "metadata": {},
   "outputs": [
    {
     "data": {
      "text/latex": [
       "$\\displaystyle 18 x + 24$"
      ],
      "text/plain": [
       "18*x + 24"
      ]
     },
     "execution_count": 49,
     "metadata": {},
     "output_type": "execute_result"
    }
   ],
   "source": [
    "sp.simplify(e)"
   ]
  },
  {
   "cell_type": "markdown",
   "id": "64a9140f",
   "metadata": {},
   "source": [
    "### 7"
   ]
  },
  {
   "cell_type": "code",
   "execution_count": 62,
   "id": "028a3819",
   "metadata": {},
   "outputs": [
    {
     "data": {
      "text/plain": [
       "-230.84469565820868"
      ]
     },
     "execution_count": 62,
     "metadata": {},
     "output_type": "execute_result"
    }
   ],
   "source": [
    "-4.029/np.pi *180"
   ]
  },
  {
   "cell_type": "code",
   "execution_count": 60,
   "id": "5d5f26b3",
   "metadata": {},
   "outputs": [
    {
     "data": {
      "text/plain": [
       "np.float64(-230.84469565820868)"
      ]
     },
     "execution_count": 60,
     "metadata": {},
     "output_type": "execute_result"
    }
   ],
   "source": [
    "np.degrees(-4.029)"
   ]
  },
  {
   "cell_type": "code",
   "execution_count": 61,
   "id": "804ec3b8",
   "metadata": {},
   "outputs": [
    {
     "data": {
      "text/plain": [
       "np.float64(-230.84469565820868)"
      ]
     },
     "execution_count": 61,
     "metadata": {},
     "output_type": "execute_result"
    }
   ],
   "source": [
    "np.rad2deg(-4.029)"
   ]
  },
  {
   "cell_type": "markdown",
   "id": "f7b5880a",
   "metadata": {},
   "source": [
    "### 8, 9"
   ]
  },
  {
   "cell_type": "code",
   "execution_count": 64,
   "id": "b496d061",
   "metadata": {},
   "outputs": [
    {
     "data": {
      "text/plain": [
       "np.float64(15.0)"
      ]
     },
     "execution_count": 64,
     "metadata": {},
     "output_type": "execute_result"
    }
   ],
   "source": [
    "np.hypot(9,12)"
   ]
  },
  {
   "cell_type": "code",
   "execution_count": 72,
   "id": "01deae24",
   "metadata": {},
   "outputs": [
    {
     "data": {
      "text/plain": [
       "np.float64(28.61045966596522)"
      ]
     },
     "execution_count": 72,
     "metadata": {},
     "output_type": "execute_result"
    }
   ],
   "source": [
    "np.degrees(np.arctan2(12,22)) #y,x"
   ]
  },
  {
   "attachments": {
    "image.png": {
     "image/png": "[encoded data removed]"
    }
   },
   "cell_type": "markdown",
   "id": "de4f51fe",
   "metadata": {},
   "source": [
    "![image.png](attachment:image.png)"
   ]
  },
  {
   "cell_type": "code",
   "execution_count": 79,
   "id": "3f8813f5",
   "metadata": {},
   "outputs": [
    {
     "data": {
      "text/plain": [
       "0.023487102711299324"
      ]
     },
     "execution_count": 79,
     "metadata": {},
     "output_type": "execute_result"
    }
   ],
   "source": [
    "8.4*(1-np.e**(-0.28*10e-3))"
   ]
  },
  {
   "cell_type": "code",
   "execution_count": 84,
   "id": "af5b129e",
   "metadata": {},
   "outputs": [
    {
     "data": {
      "text/plain": [
       "0.0075847653082352084"
      ]
     },
     "execution_count": 84,
     "metadata": {},
     "output_type": "execute_result"
    }
   ],
   "source": [
    "5.5*(1 - np.e**( -0.23 * 6e-3 ))"
   ]
  },
  {
   "cell_type": "code",
   "execution_count": 86,
   "id": "a6a7fe81",
   "metadata": {},
   "outputs": [
    {
     "data": {
      "text/plain": [
       "0.0625"
      ]
     },
     "execution_count": 86,
     "metadata": {},
     "output_type": "execute_result"
    }
   ],
   "source": [
    "2**-4"
   ]
  },
  {
   "cell_type": "code",
   "execution_count": 88,
   "id": "49921488",
   "metadata": {},
   "outputs": [
    {
     "data": {
      "text/plain": [
       "np.float64(15.39912084579118)"
      ]
     },
     "execution_count": 88,
     "metadata": {},
     "output_type": "execute_result"
    }
   ],
   "source": [
    "10*np.log(26/.75)\n",
    "10*np.log10(26/.75)"
   ]
  },
  {
   "attachments": {
    "image.png": {
     "image/png": "[encoded data removed]"
    }
   },
   "cell_type": "markdown",
   "id": "145dc152",
   "metadata": {},
   "source": [
    "![image.png](attachment:image.png)"
   ]
  },
  {
   "cell_type": "code",
   "execution_count": 95,
   "id": "5757abb2",
   "metadata": {},
   "outputs": [
    {
     "data": {
      "text/latex": [
       "$\\displaystyle \\frac{4}{3}$"
      ],
      "text/plain": [
       "4/3"
      ]
     },
     "execution_count": 95,
     "metadata": {},
     "output_type": "execute_result"
    }
   ],
   "source": [
    "expr = sp.Eq(16,8**x)\n",
    "sp.solve(expr, x)[0]"
   ]
  },
  {
   "cell_type": "code",
   "execution_count": 105,
   "id": "0e06c324",
   "metadata": {},
   "outputs": [
    {
     "data": {
      "text/latex": [
       "$\\displaystyle \\frac{\\log{\\left(16 \\right)}}{\\log{\\left(8 \\right)}}$"
      ],
      "text/plain": [
       "log(16)/log(8)"
      ]
     },
     "execution_count": 105,
     "metadata": {},
     "output_type": "execute_result"
    }
   ],
   "source": [
    "expr = sp.log(16)/sp.log(8)\n",
    "expr"
   ]
  },
  {
   "cell_type": "code",
   "execution_count": 106,
   "id": "c2e3b757",
   "metadata": {},
   "outputs": [
    {
     "data": {
      "text/plain": [
       "np.float64(1.3333333333333335)"
      ]
     },
     "execution_count": 106,
     "metadata": {},
     "output_type": "execute_result"
    }
   ],
   "source": [
    "np.log10(16)/np.log10(8)"
   ]
  },
  {
   "attachments": {
    "image.png": {
     "image/png": "[encoded data removed]"
    }
   },
   "cell_type": "markdown",
   "id": "65a3d3a4",
   "metadata": {},
   "source": [
    "![image.png](attachment:image.png)  \n",
    "Solve for $K$ as a function of $a$"
   ]
  },
  {
   "cell_type": "code",
   "execution_count": 114,
   "id": "1f0e8874",
   "metadata": {},
   "outputs": [
    {
     "data": {
      "text/latex": [
       "$\\displaystyle \\log{\\left(k \\right)} = a^{4} q - a t + \\log{\\left(j \\right)}$"
      ],
      "text/plain": [
       "Eq(log(k), a**4*q - a*t + log(j))"
      ]
     },
     "metadata": {},
     "output_type": "display_data"
    },
    {
     "data": {
      "text/latex": [
       "$\\displaystyle j e^{a \\left(a^{3} q - t\\right)}$"
      ],
      "text/plain": [
       "j*exp(a*(a**3*q - t))"
      ]
     },
     "execution_count": 114,
     "metadata": {},
     "output_type": "execute_result"
    }
   ],
   "source": [
    "## Peek at the answer:\n",
    "k, j ,t, q, a = sp.symbols('k, j ,t, q, a')\n",
    "\n",
    "expr = sp.Eq(sp.ln(k), sp.ln(j) - t*a + q*a**4)\n",
    "display(expr)\n",
    "sp.solve(expr, k)[0]"
   ]
  },
  {
   "cell_type": "markdown",
   "id": "dc5f5f8f",
   "metadata": {},
   "source": [
    "$$ \\begin{align*}\n",
    "\\\\ \\ln{(k)} &= \\ln{(j)} - ta + qa^4 \n",
    "\\\\ \\ln{(k)} - \\ln{(j)} &=  - ta + qa^4 \n",
    "\\\\ \\ln{\\left( \\frac{k}{j} \\right)} &=  - ta + qa^4 \n",
    "\\\\ e^{\\ln{\\left( \\frac{k}{j} \\right)}} &=  e^{- ta + qa^4 }\n",
    "\\\\ \\frac{k}{j} &=  e^{- ta + qa^4 }\n",
    "\\\\ k &=  je^{- ta + qa^4 }\n",
    "\\\\ k &=  je^{qa^4 - ta}\n",
    "\\end{align*}$$"
   ]
  },
  {
   "attachments": {
    "image.png": {
     "image/png": "[encoded data removed]"
    }
   },
   "cell_type": "markdown",
   "id": "479260b9",
   "metadata": {},
   "source": [
    "![image.png](attachment:image.png)"
   ]
  },
  {
   "cell_type": "code",
   "execution_count": 117,
   "id": "ccdb8749",
   "metadata": {},
   "outputs": [
    {
     "data": {
      "text/plain": [
       "[[np.float64(2.31),\n",
       "  np.float64(2.0301),\n",
       "  np.float64(2.003),\n",
       "  np.float64(1.997),\n",
       "  np.float64(1.9701),\n",
       "  np.float64(1.71)]]"
      ]
     },
     "execution_count": 117,
     "metadata": {},
     "output_type": "execute_result"
    }
   ],
   "source": [
    "fx = lambda x: (x**3-x) / (x+1)\n",
    "vals = [-1.1,-1.01,-1.001,-.999,-.990,-.9]\n",
    "\n",
    "[[np.round(fx(val),4) for val in vals]]"
   ]
  },
  {
   "cell_type": "markdown",
   "id": "6da2f615",
   "metadata": {},
   "source": []
  },
  {
   "cell_type": "code",
   "execution_count": 120,
   "id": "5c907f60",
   "metadata": {},
   "outputs": [
    {
     "data": {
      "text/latex": [
       "$\\displaystyle 4 x$"
      ],
      "text/plain": [
       "4*x"
      ]
     },
     "execution_count": 120,
     "metadata": {},
     "output_type": "execute_result"
    }
   ],
   "source": [
    "fy = 2*x**2\n",
    "sp.diff(fy, x)"
   ]
  },
  {
   "cell_type": "code",
   "execution_count": 123,
   "id": "0c29abdf",
   "metadata": {},
   "outputs": [
    {
     "data": {
      "text/latex": [
       "$\\displaystyle - 3 x^{2}$"
      ],
      "text/plain": [
       "-3*x**2"
      ]
     },
     "execution_count": 123,
     "metadata": {},
     "output_type": "execute_result"
    }
   ],
   "source": [
    "sp.diff(2-x**3, x)"
   ]
  },
  {
   "cell_type": "code",
   "execution_count": 124,
   "id": "d5322224",
   "metadata": {},
   "outputs": [
    {
     "data": {
      "text/plain": [
       "-4.359999999999999"
      ]
     },
     "execution_count": 124,
     "metadata": {},
     "output_type": "execute_result"
    }
   ],
   "source": [
    "-1.744/.4"
   ]
  },
  {
   "cell_type": "code",
   "execution_count": 125,
   "id": "7c3c804c",
   "metadata": {},
   "outputs": [
    {
     "data": {
      "text/latex": [
       "$\\displaystyle 16 x - 3$"
      ],
      "text/plain": [
       "16*x - 3"
      ]
     },
     "execution_count": 125,
     "metadata": {},
     "output_type": "execute_result"
    }
   ],
   "source": [
    "sp.diff(8*x**2-3*x, x)"
   ]
  },
  {
   "cell_type": "code",
   "execution_count": 126,
   "id": "cee34bef",
   "metadata": {},
   "outputs": [
    {
     "data": {
      "text/latex": [
       "$\\displaystyle - \\frac{36}{x^{5}}$"
      ],
      "text/plain": [
       "-36/x**5"
      ]
     },
     "execution_count": 126,
     "metadata": {},
     "output_type": "execute_result"
    }
   ],
   "source": [
    "fy = 9/x**4\n",
    "sp.diff(fy, x)"
   ]
  },
  {
   "cell_type": "markdown",
   "id": "857b8c08",
   "metadata": {},
   "source": [
    "### 24"
   ]
  },
  {
   "cell_type": "markdown",
   "id": "8c64285e",
   "metadata": {},
   "source": [
    "**With recitlinear motion:**  \n",
    "Distance is a function of time:\n",
    "$$ s = s(t) $$\n",
    "Velocity is the derivative of that fuction:\n",
    "$$ s'(t) = v(t) $$\n",
    "Acceleration is the derivative of that fuction:\n",
    "$$ v'(t) = a(t) $$"
   ]
  },
  {
   "cell_type": "code",
   "execution_count": 129,
   "id": "d20cdc6d",
   "metadata": {},
   "outputs": [
    {
     "data": {
      "text/latex": [
       "$\\displaystyle 2 t^{2} - 5 t$"
      ],
      "text/plain": [
       "2*t**2 - 5*t"
      ]
     },
     "metadata": {},
     "output_type": "display_data"
    },
    {
     "data": {
      "text/latex": [
       "$\\displaystyle 4 t - 5$"
      ],
      "text/plain": [
       "4*t - 5"
      ]
     },
     "execution_count": 129,
     "metadata": {},
     "output_type": "execute_result"
    }
   ],
   "source": [
    "fy = 2*t**2-5*t\n",
    "display(fy)\n",
    "sp.diff(fy, t)"
   ]
  },
  {
   "cell_type": "code",
   "execution_count": 130,
   "id": "31b6a661",
   "metadata": {},
   "outputs": [
    {
     "data": {
      "text/plain": [
       "27"
      ]
     },
     "execution_count": 130,
     "metadata": {},
     "output_type": "execute_result"
    }
   ],
   "source": [
    "8*4-5"
   ]
  },
  {
   "cell_type": "markdown",
   "id": "f3157a30",
   "metadata": {},
   "source": []
  },
  {
   "cell_type": "code",
   "execution_count": 131,
   "id": "3e0997b7",
   "metadata": {},
   "outputs": [
    {
     "data": {
      "text/latex": [
       "$\\displaystyle 3 x^{3} - 13 x^{2} + 16 x + 2$"
      ],
      "text/plain": [
       "3*x**3 - 13*x**2 + 16*x + 2"
      ]
     },
     "metadata": {},
     "output_type": "display_data"
    },
    {
     "data": {
      "text/latex": [
       "$\\displaystyle 9 x^{2} - 26 x + 16$"
      ],
      "text/plain": [
       "9*x**2 - 26*x + 16"
      ]
     },
     "execution_count": 131,
     "metadata": {},
     "output_type": "execute_result"
    }
   ],
   "source": [
    "fy = 3*x**3 - 13*x**2 + 16*x + 2\n",
    "display(fy)\n",
    "sp.diff(fy, x)"
   ]
  },
  {
   "cell_type": "code",
   "execution_count": 132,
   "id": "e9956738",
   "metadata": {},
   "outputs": [
    {
     "data": {
      "text/latex": [
       "$\\displaystyle 6 x^{7} + 0.9 x^{6}$"
      ],
      "text/plain": [
       "6*x**7 + 0.9*x**6"
      ]
     },
     "metadata": {},
     "output_type": "display_data"
    },
    {
     "data": {
      "text/latex": [
       "$\\displaystyle 42 x^{6} + 5.4 x^{5}$"
      ],
      "text/plain": [
       "42*x**6 + 5.4*x**5"
      ]
     },
     "execution_count": 132,
     "metadata": {},
     "output_type": "execute_result"
    }
   ],
   "source": [
    "fy = 6*x**7 + .9*x**6\n",
    "display(fy)\n",
    "sp.diff(fy, x)"
   ]
  }
 ],
 "metadata": {
  "kernelspec": {
   "display_name": "Python 3",
   "language": "python",
   "name": "python3"
  },
  "language_info": {
   "codemirror_mode": {
    "name": "ipython",
    "version": 3
   },
   "file_extension": ".py",
   "mimetype": "text/x-python",
   "name": "python",
   "nbconvert_exporter": "python",
   "pygments_lexer": "ipython3",
   "version": "3.13.2"
  }
 },
 "nbformat": 4,
 "nbformat_minor": 5
}
