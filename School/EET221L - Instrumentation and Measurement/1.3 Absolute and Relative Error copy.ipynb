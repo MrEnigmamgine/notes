{
 "cells": [
  {
   "cell_type": "code",
   "execution_count": 107,
   "metadata": {},
   "outputs": [],
   "source": [
    "import math"
   ]
  },
  {
   "cell_type": "code",
   "execution_count": 108,
   "metadata": {},
   "outputs": [],
   "source": [
    "from matplotlib.ticker import EngFormatter\n",
    "\n",
    "engf = EngFormatter()\n",
    "\n",
    "def eng_format(value, unit=''):\n",
    "    f = EngFormatter(unit=unit)\n",
    "    return f(value)"
   ]
  },
  {
   "cell_type": "code",
   "execution_count": 109,
   "metadata": {},
   "outputs": [
    {
     "data": {
      "text/markdown": [
       "<span style=\"color: red; font-weight: bold;\">Answers will be highlighted in red</span>"
      ],
      "text/plain": [
       "<IPython.core.display.Markdown object>"
      ]
     },
     "metadata": {},
     "output_type": "display_data"
    }
   ],
   "source": [
    "from IPython.display import Markdown, display\n",
    "\n",
    "def highlight(variable, color='red'):\n",
    "    display(Markdown(f'<span style=\"color: {color}; font-weight: bold;\">{variable}</span>'))\n",
    "\n",
    "highlight('Answers will be highlighted in red')"
   ]
  },
  {
   "cell_type": "markdown",
   "metadata": {},
   "source": [
    "# EET221L - Instrumentation and Measurement Lab - Activity # 1"
   ]
  },
  {
   "cell_type": "markdown",
   "metadata": {},
   "source": [
    "In this notebook we will be working with absolute and relative uncertainties, often swapping back and forth between them.  \n",
    "After some research I have decided on this convention:  \n",
    "\n",
    "$$\n",
    "\\Delta x = \\text{Absolute uncertainty}\n",
    "$$\n",
    "\n",
    "$$\n",
    "\\delta x = \\text{Relative uncertainty}\n",
    "$$\n",
    "\n",
    "In code a capital `D[var]` will represent a capital delta, and a lowercase `d[var]` will represent a lowercase delta."
   ]
  },
  {
   "cell_type": "markdown",
   "metadata": {},
   "source": [
    "When adding uncertainties:\n",
    "$$\n",
    "\\Delta z = \\sqrt{\\Delta x^2 + \\Delta y^2}\n",
    "$$"
   ]
  },
  {
   "cell_type": "markdown",
   "metadata": {},
   "source": [
    "When multiplying or dividing uncertainties:\n",
    "$$\n",
    "\\delta z = \\sqrt{\\delta x^2 + \\delta y^2}\n",
    "$$"
   ]
  },
  {
   "cell_type": "markdown",
   "metadata": {},
   "source": [
    "When converting between the two:\n",
    "$$\n",
    "\\delta x = \\frac{\\Delta x}{x}\n",
    "$$"
   ]
  },
  {
   "cell_type": "markdown",
   "metadata": {},
   "source": [
    "### Problem 1\n",
    "Calculate the total resistance with uncertainty estimation, if the following resistors are connected in series.  \n",
    "    R1 = 22 kΩ ±5%  \n",
    "    R2 = 680 Ω ±5%  "
   ]
  },
  {
   "cell_type": "code",
   "execution_count": 110,
   "metadata": {},
   "outputs": [],
   "source": [
    "# Given\n",
    "r1 = 22e3\n",
    "r2 = 680\n",
    "dr1 = .05\n",
    "dr2 = .05\n",
    "\n",
    "# Find\n",
    "z = __\n",
    "dz = __"
   ]
  },
  {
   "cell_type": "code",
   "execution_count": 111,
   "metadata": {},
   "outputs": [
    {
     "data": {
      "text/plain": [
       "1100.525329104242"
      ]
     },
     "execution_count": 111,
     "metadata": {},
     "output_type": "execute_result"
    }
   ],
   "source": [
    "# Since we are adding we want to use absolute uncertainties to find Dz\n",
    "Dr1 = dr1 * r1\n",
    "Dr2 = dr2 * r2\n",
    "Dz = math.hypot(Dr1,Dr2)\n",
    "Dz"
   ]
  },
  {
   "cell_type": "code",
   "execution_count": 112,
   "metadata": {},
   "outputs": [
    {
     "data": {
      "text/plain": [
       "22680.0"
      ]
     },
     "execution_count": 112,
     "metadata": {},
     "output_type": "execute_result"
    }
   ],
   "source": [
    "# Resistors in series are summed\n",
    "z = r1 + r2\n",
    "z # Ω"
   ]
  },
  {
   "cell_type": "code",
   "execution_count": 113,
   "metadata": {},
   "outputs": [
    {
     "data": {
      "text/plain": [
       "0.048524044493132364"
      ]
     },
     "execution_count": 113,
     "metadata": {},
     "output_type": "execute_result"
    }
   ],
   "source": [
    "# And we can convert Dz back to relative uncertainty\n",
    "dz = Dz/z\n",
    "dz"
   ]
  },
  {
   "cell_type": "code",
   "execution_count": 114,
   "metadata": {},
   "outputs": [
    {
     "data": {
      "text/markdown": [
       "<span style=\"color: red; font-weight: bold;\">22.68 kΩ ±4.85%</span>"
      ],
      "text/plain": [
       "<IPython.core.display.Markdown object>"
      ]
     },
     "metadata": {},
     "output_type": "display_data"
    }
   ],
   "source": [
    "highlight(f'{eng_format(z, 'Ω')} ±{dz*100:.2f}%')"
   ]
  },
  {
   "cell_type": "markdown",
   "metadata": {},
   "source": [
    "### Problem 2\n",
    "Calculate the total resistance with uncertainty estimation, if the following resistors are connected in parallel.  \n",
    "R1 = 47 Ω ±5%  \n",
    "R2 = 68 Ω ±5%  "
   ]
  },
  {
   "cell_type": "code",
   "execution_count": 115,
   "metadata": {},
   "outputs": [],
   "source": [
    "# Given\n",
    "r1 = 47\n",
    "r2 = 68\n",
    "dr1 = .05\n",
    "dr2 = .05\n",
    "\n",
    "# Find\n",
    "rt = __\n",
    "drt = __"
   ]
  },
  {
   "cell_type": "markdown",
   "metadata": {},
   "source": [
    "To tackle this, we'll use a shortcut for calculating two parallel resistors, as opposed to the reciprocal of the sum of reciprocals:\n",
    "$$\n",
    "R_T = \\frac{(R_1 \\pm \\delta R_1) \\cdot (R_2 \\pm \\delta R_2)}{(R_1 \\pm \\Delta R_1) + (R_2 \\pm \\Delta R_2)}\n",
    "$$\n",
    "\n",
    "This allows us to work with the uncertainties of the numerator and denominator separately."
   ]
  },
  {
   "cell_type": "code",
   "execution_count": 116,
   "metadata": {},
   "outputs": [
    {
     "data": {
      "text/plain": [
       "(3196, 0.07071067811865475)"
      ]
     },
     "execution_count": 116,
     "metadata": {},
     "output_type": "execute_result"
    }
   ],
   "source": [
    "# First the numerator\n",
    "numer = r1 * r2\n",
    "dnumer = math.hypot(dr1,dr2) #relative\n",
    "\n",
    "numer, dnumer"
   ]
  },
  {
   "cell_type": "code",
   "execution_count": 117,
   "metadata": {},
   "outputs": [
    {
     "data": {
      "text/plain": [
       "(115, 4.133098111586514)"
      ]
     },
     "execution_count": 117,
     "metadata": {},
     "output_type": "execute_result"
    }
   ],
   "source": [
    "# Then the denominator\n",
    "Dr1 = dr1 * r1\n",
    "Dr2 = dr2 * r2\n",
    "\n",
    "denom = r1 + r2\n",
    "Ddenom = math.hypot(Dr1, Dr2) #absolute\n",
    "\n",
    "denom, Ddenom"
   ]
  },
  {
   "cell_type": "code",
   "execution_count": 118,
   "metadata": {},
   "outputs": [
    {
     "data": {
      "text/plain": [
       "0.035939983579013166"
      ]
     },
     "execution_count": 118,
     "metadata": {},
     "output_type": "execute_result"
    }
   ],
   "source": [
    "# In order to evaluate the fraction , we need to convert Ddenom into relative uncertainty\n",
    "ddenom = Ddenom/denom\n",
    "ddenom"
   ]
  },
  {
   "cell_type": "code",
   "execution_count": 119,
   "metadata": {},
   "outputs": [
    {
     "data": {
      "text/plain": [
       "(27.791304347826088, 0.07932012619543502)"
      ]
     },
     "execution_count": 119,
     "metadata": {},
     "output_type": "execute_result"
    }
   ],
   "source": [
    "# Now we just evaluate\n",
    "rt = numer/denom\n",
    "drt = math.hypot(dnumer, ddenom) #relative\n",
    "rt, drt"
   ]
  },
  {
   "cell_type": "code",
   "execution_count": 120,
   "metadata": {},
   "outputs": [
    {
     "data": {
      "text/markdown": [
       "<span style=\"color: red; font-weight: bold;\">27.7913 Ω ±7.93%</span>"
      ],
      "text/plain": [
       "<IPython.core.display.Markdown object>"
      ]
     },
     "metadata": {},
     "output_type": "display_data"
    }
   ],
   "source": [
    "highlight(f'{eng_format(rt, 'Ω')} ±{drt*100:.2f}%')"
   ]
  },
  {
   "cell_type": "markdown",
   "metadata": {},
   "source": [
    "### Problem 3\n",
    "In a circuit, voltage across a resistor is measured as `2.346 V` with uncertainty of `0.035 V` and current is measured as `0.00695 A` with uncertainty of `0.00076 A`.  \n",
    "Calculate the resistance value of the resistor with uncertainty. "
   ]
  },
  {
   "cell_type": "code",
   "execution_count": 121,
   "metadata": {},
   "outputs": [],
   "source": [
    "# Given\n",
    "v =  2.346\n",
    "Dv =  .035\n",
    "i =   .00695\n",
    "Di =  .00076\n",
    "\n",
    "# Find\n",
    "r = __\n",
    "Dr = __"
   ]
  },
  {
   "cell_type": "markdown",
   "metadata": {},
   "source": [
    "By Ohm's Law:\n",
    "$$ R = \\frac{V}{I} $$"
   ]
  },
  {
   "cell_type": "code",
   "execution_count": 122,
   "metadata": {},
   "outputs": [
    {
     "data": {
      "text/plain": [
       "(0.014919011082693948, 0.10935251798561152)"
      ]
     },
     "execution_count": 122,
     "metadata": {},
     "output_type": "execute_result"
    }
   ],
   "source": [
    "# Since we are dividing, we'll need relative uncertainties:\n",
    "dv = Dv/v\n",
    "di = Di/i\n",
    "dv, di"
   ]
  },
  {
   "cell_type": "code",
   "execution_count": 123,
   "metadata": {},
   "outputs": [
    {
     "data": {
      "text/plain": [
       "(337.5539568345324, 0.11036552940786827)"
      ]
     },
     "execution_count": 123,
     "metadata": {},
     "output_type": "execute_result"
    }
   ],
   "source": [
    "# Then we can evaluate\n",
    "r = v/i\n",
    "dr = math.hypot(dv,di)\n",
    "r, dr"
   ]
  },
  {
   "cell_type": "code",
   "execution_count": 124,
   "metadata": {},
   "outputs": [],
   "source": [
    "# Assuming we want Absolute uncertainty\n",
    "Dr = dr * r"
   ]
  },
  {
   "cell_type": "code",
   "execution_count": 125,
   "metadata": {},
   "outputs": [
    {
     "data": {
      "text/markdown": [
       "<span style=\"color: red; font-weight: bold;\">337.55Ω ±37.25Ω</span>"
      ],
      "text/plain": [
       "<IPython.core.display.Markdown object>"
      ]
     },
     "metadata": {},
     "output_type": "display_data"
    }
   ],
   "source": [
    "highlight(f'{r:.2f}Ω ±{Dr:.2f}Ω')"
   ]
  },
  {
   "cell_type": "markdown",
   "metadata": {},
   "source": [
    "### Problem 4\n",
    "In a circuit, voltage across a resistor is measured as `3.465V` with uncertainty of `0.025V` and the resistance value is measured as `1.65kΩ` with uncertainty of `36.45Ω`.  Calculate the current through the resistor with uncertainty. "
   ]
  },
  {
   "cell_type": "code",
   "execution_count": 126,
   "metadata": {},
   "outputs": [],
   "source": [
    "# Given\n",
    "v = 3.465\n",
    "Dv = 0.025\n",
    "r = 1650\n",
    "Dr = 36.45\n",
    "\n",
    "# Find\n",
    "i = __\n",
    "Di = __"
   ]
  },
  {
   "cell_type": "markdown",
   "metadata": {},
   "source": [
    "By Ohm's Law:\n",
    "$$ I = \\frac{V}{R} $$"
   ]
  },
  {
   "cell_type": "code",
   "execution_count": 127,
   "metadata": {},
   "outputs": [
    {
     "data": {
      "text/plain": [
       "(0.007215007215007216, 0.02209090909090909)"
      ]
     },
     "execution_count": 127,
     "metadata": {},
     "output_type": "execute_result"
    }
   ],
   "source": [
    "# Since we are dividing, we'll need relative uncertainties:\n",
    "dv = Dv/v\n",
    "dr = Dr/r\n",
    "dv, dr"
   ]
  },
  {
   "cell_type": "code",
   "execution_count": 128,
   "metadata": {},
   "outputs": [
    {
     "data": {
      "text/plain": [
       "(0.0021, 0.023239289868139605)"
      ]
     },
     "execution_count": 128,
     "metadata": {},
     "output_type": "execute_result"
    }
   ],
   "source": [
    "# Then we can evaluate\n",
    "i = v/r\n",
    "di = math.hypot(dv, dr)\n",
    "i, di"
   ]
  },
  {
   "cell_type": "code",
   "execution_count": 129,
   "metadata": {},
   "outputs": [],
   "source": [
    "# Assuming we want Absolute uncertainty\n",
    "Di = di * i"
   ]
  },
  {
   "cell_type": "code",
   "execution_count": 132,
   "metadata": {},
   "outputs": [
    {
     "data": {
      "text/markdown": [
       "<span style=\"color: red; font-weight: bold;\">2.1 mA ±48.8025 µA</span>"
      ],
      "text/plain": [
       "<IPython.core.display.Markdown object>"
      ]
     },
     "metadata": {},
     "output_type": "display_data"
    }
   ],
   "source": [
    "highlight(f'{eng_format(i)}A ±{eng_format(Di)}A')"
   ]
  }
 ],
 "metadata": {
  "kernelspec": {
   "display_name": "Python 3",
   "language": "python",
   "name": "python3"
  },
  "language_info": {
   "codemirror_mode": {
    "name": "ipython",
    "version": 3
   },
   "file_extension": ".py",
   "mimetype": "text/x-python",
   "name": "python",
   "nbconvert_exporter": "python",
   "pygments_lexer": "ipython3",
   "version": "3.13.2"
  }
 },
 "nbformat": 4,
 "nbformat_minor": 2
}
