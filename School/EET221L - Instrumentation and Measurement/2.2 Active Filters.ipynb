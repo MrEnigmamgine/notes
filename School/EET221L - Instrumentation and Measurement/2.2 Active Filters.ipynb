{
 "cells": [
  {
   "cell_type": "markdown",
   "id": "a83a98dc",
   "metadata": {},
   "source": [
    "## This is just a scratch notebook for calculations. Nothing meaningful here"
   ]
  },
  {
   "cell_type": "code",
   "execution_count": 22,
   "id": "ba3fe60e",
   "metadata": {},
   "outputs": [],
   "source": [
    "import math"
   ]
  },
  {
   "cell_type": "code",
   "execution_count": 23,
   "id": "7898b373",
   "metadata": {},
   "outputs": [],
   "source": [
    "class si :\n",
    "    \"\"\"\n",
    "    This is a simple class that provides an easy way to access the engineering prefixes for the metric system.\n",
    "    Example:\n",
    "        25*si.k results in 25_000\n",
    "    \"\"\"\n",
    "    Y = 10**24  # Yotta\n",
    "    Z = 10**21  # Zetta\n",
    "    E = 10**18  # Exa\n",
    "    P = 10**15  # Peta\n",
    "    T = 10**12  # Tera\n",
    "    G = 10**9   # Giga\n",
    "    M = 10**6   # Mega\n",
    "    k = 10**3   # kilo\n",
    "\n",
    "    m = 10**-3  # milli\n",
    "    µ = 10**-6  # micro\n",
    "    u = 10**-6  # micro ## so that we can type u instead of µ\n",
    "    n = 10**-9  # nano\n",
    "    p = 10**-12 # pico\n",
    "    f = 10**-15 # femto\n",
    "    a = 10**-18 # atto\n",
    "    z = 10**-21 # zepto\n",
    "    y = 10**-24 # yocto\n"
   ]
  },
  {
   "cell_type": "code",
   "execution_count": 24,
   "id": "7cafcd0e",
   "metadata": {},
   "outputs": [],
   "source": [
    "from matplotlib.ticker import EngFormatter\n",
    "\n",
    "engf = EngFormatter()\n",
    "\n",
    "def eng_format(value, unit='', places = None):\n",
    "    f = EngFormatter(unit=unit, places=places)\n",
    "    return f(value)"
   ]
  },
  {
   "cell_type": "markdown",
   "id": "07691d98",
   "metadata": {},
   "source": [
    "There is a frequency at which the capacitive reactance will be equivalent to the resistance.  This will be the *critical frequency* $f_c$ of the filter.\n",
    "\n",
    "$$\n",
    "\\begin{align}\n",
    "X_C &= \\frac{1}{2 \\pi f_c C} = R \\\\\n",
    "\\\\\n",
    "f_c &= \\frac{1}{2 \\pi R C}\n",
    "\n",
    "\\end{align}\n",
    "$$\n"
   ]
  },
  {
   "cell_type": "code",
   "execution_count": 25,
   "id": "4cac411e",
   "metadata": {},
   "outputs": [],
   "source": [
    "def get_rc_critical_frequency(resistance,capacitance):\n",
    "    return 1/(2*math.pi*resistance*capacitance)"
   ]
  },
  {
   "cell_type": "code",
   "execution_count": 26,
   "id": "21519243",
   "metadata": {},
   "outputs": [
    {
     "data": {
      "text/plain": [
       "'7.23432 kHz'"
      ]
     },
     "execution_count": 26,
     "metadata": {},
     "output_type": "execute_result"
    }
   ],
   "source": [
    "R = 1000 #Ohms\n",
    "C = .022 * si.u\n",
    "\n",
    "\n",
    "critical_frequency = get_rc_critical_frequency(R,C)\n",
    "eng_format(critical_frequency, 'Hz')"
   ]
  },
  {
   "cell_type": "code",
   "execution_count": 27,
   "id": "cc5b1c0a",
   "metadata": {},
   "outputs": [
    {
     "data": {
      "text/plain": [
       "4.0"
      ]
     },
     "execution_count": 27,
     "metadata": {},
     "output_type": "execute_result"
    }
   ],
   "source": [
    "1+3/1"
   ]
  },
  {
   "attachments": {
    "image.png": {
     "image/png": "[encoded data removed]"
    }
   },
   "cell_type": "markdown",
   "id": "584cb652",
   "metadata": {},
   "source": [
    "![image.png](attachment:image.png)"
   ]
  },
  {
   "cell_type": "code",
   "execution_count": 28,
   "id": "c647dddc",
   "metadata": {},
   "outputs": [
    {
     "data": {
      "text/plain": [
       "'7.23432 kHz'"
      ]
     },
     "execution_count": 28,
     "metadata": {},
     "output_type": "execute_result"
    }
   ],
   "source": [
    "cf = 1/(2*math.pi * math.sqrt(R*R*C*C))\n",
    "eng_format(critical_frequency, 'Hz')"
   ]
  },
  {
   "cell_type": "code",
   "execution_count": 29,
   "id": "b7258297",
   "metadata": {},
   "outputs": [
    {
     "data": {
      "text/plain": [
       "1.5859999999999999"
      ]
     },
     "execution_count": 29,
     "metadata": {},
     "output_type": "execute_result"
    }
   ],
   "source": [
    "1+586/1000"
   ]
  },
  {
   "cell_type": "code",
   "execution_count": 30,
   "id": "1c77bea5",
   "metadata": {},
   "outputs": [
    {
     "data": {
      "text/plain": [
       "723.4315595086151"
      ]
     },
     "execution_count": 30,
     "metadata": {},
     "output_type": "execute_result"
    }
   ],
   "source": [
    "lcf = get_rc_critical_frequency(10*si.k, .022*si.u)\n",
    "lcf"
   ]
  },
  {
   "cell_type": "code",
   "execution_count": 31,
   "id": "1574e2b2",
   "metadata": {},
   "outputs": [
    {
     "data": {
      "text/plain": [
       "7234.315595086151"
      ]
     },
     "execution_count": 31,
     "metadata": {},
     "output_type": "execute_result"
    }
   ],
   "source": [
    "ucf = get_rc_critical_frequency(2.2*si.k, 10*si.n)\n",
    "ucf"
   ]
  },
  {
   "cell_type": "code",
   "execution_count": 32,
   "id": "cf0ab49f",
   "metadata": {},
   "outputs": [
    {
     "data": {
      "text/plain": [
       "6510.8840355775355"
      ]
     },
     "execution_count": 32,
     "metadata": {},
     "output_type": "execute_result"
    }
   ],
   "source": [
    "bw = ucf - lcf\n",
    "bw"
   ]
  },
  {
   "cell_type": "code",
   "execution_count": 33,
   "id": "02889e2f",
   "metadata": {},
   "outputs": [
    {
     "data": {
      "text/plain": [
       "2287.691459294865"
      ]
     },
     "execution_count": 33,
     "metadata": {},
     "output_type": "execute_result"
    }
   ],
   "source": [
    "cf = math.sqrt(lcf * ucf)\n",
    "cf"
   ]
  },
  {
   "cell_type": "code",
   "execution_count": 34,
   "id": "bbdeec75",
   "metadata": {},
   "outputs": [
    {
     "data": {
      "text/plain": [
       "0.3513641844631533"
      ]
     },
     "execution_count": 34,
     "metadata": {},
     "output_type": "execute_result"
    }
   ],
   "source": [
    "q = cf/bw\n",
    "q"
   ]
  },
  {
   "cell_type": "markdown",
   "id": "91457bbe",
   "metadata": {},
   "source": [
    "## 2.3 Lab"
   ]
  },
  {
   "cell_type": "code",
   "execution_count": 35,
   "id": "4d20c145",
   "metadata": {},
   "outputs": [
    {
     "data": {
      "text/plain": [
       "15915.494309189533"
      ]
     },
     "execution_count": 35,
     "metadata": {},
     "output_type": "execute_result"
    }
   ],
   "source": [
    "get_rc_critical_frequency(10*si.k, 1*si.n)"
   ]
  },
  {
   "cell_type": "code",
   "execution_count": 36,
   "id": "b6fb9380",
   "metadata": {},
   "outputs": [
    {
     "data": {
      "text/plain": [
       "7234.315595086151"
      ]
     },
     "execution_count": 36,
     "metadata": {},
     "output_type": "execute_result"
    }
   ],
   "source": [
    "get_rc_critical_frequency(10*si.k, 2.2*si.n)"
   ]
  },
  {
   "cell_type": "code",
   "execution_count": 37,
   "id": "b5b45835",
   "metadata": {},
   "outputs": [
    {
     "data": {
      "text/plain": [
       "4822.877063390768"
      ]
     },
     "execution_count": 37,
     "metadata": {},
     "output_type": "execute_result"
    }
   ],
   "source": [
    "get_rc_critical_frequency(33*si.k, 1*si.n)"
   ]
  },
  {
   "cell_type": "code",
   "execution_count": 38,
   "id": "ff856f65",
   "metadata": {},
   "outputs": [
    {
     "data": {
      "text/plain": [
       "2192.2168469958033"
      ]
     },
     "execution_count": 38,
     "metadata": {},
     "output_type": "execute_result"
    }
   ],
   "source": [
    "get_rc_critical_frequency(33*si.k, 2.2*si.n)"
   ]
  },
  {
   "cell_type": "code",
   "execution_count": null,
   "id": "2096eff1",
   "metadata": {},
   "outputs": [],
   "source": []
  },
  {
   "cell_type": "code",
   "execution_count": 39,
   "id": "464e3924",
   "metadata": {},
   "outputs": [
    {
     "data": {
      "text/plain": [
       "2340.5138689984606"
      ]
     },
     "execution_count": 39,
     "metadata": {},
     "output_type": "execute_result"
    }
   ],
   "source": [
    "get_rc_critical_frequency(68*si.k, 1*si.n)"
   ]
  },
  {
   "cell_type": "code",
   "execution_count": 40,
   "id": "787ab4d3",
   "metadata": {},
   "outputs": [
    {
     "data": {
      "text/plain": [
       "408089.5976715265"
      ]
     },
     "execution_count": 40,
     "metadata": {},
     "output_type": "execute_result"
    }
   ],
   "source": [
    "get_rc_critical_frequency(10*si.k, 39*si.p)"
   ]
  },
  {
   "cell_type": "code",
   "execution_count": 44,
   "id": "d4f6f72e",
   "metadata": {},
   "outputs": [
    {
     "data": {
      "text/plain": [
       "'405.749 k'"
      ]
     },
     "execution_count": 44,
     "metadata": {},
     "output_type": "execute_result"
    }
   ],
   "source": [
    "eng_format(get_rc_critical_frequency(10*si.k, 39*si.p) - get_rc_critical_frequency(68*si.k, 1*si.n))"
   ]
  },
  {
   "cell_type": "code",
   "execution_count": null,
   "id": "61b0b778",
   "metadata": {},
   "outputs": [],
   "source": []
  }
 ],
 "metadata": {
  "kernelspec": {
   "display_name": "Python 3",
   "language": "python",
   "name": "python3"
  },
  "language_info": {
   "codemirror_mode": {
    "name": "ipython",
    "version": 3
   },
   "file_extension": ".py",
   "mimetype": "text/x-python",
   "name": "python",
   "nbconvert_exporter": "python",
   "pygments_lexer": "ipython3",
   "version": "3.13.2"
  }
 },
 "nbformat": 4,
 "nbformat_minor": 5
}
