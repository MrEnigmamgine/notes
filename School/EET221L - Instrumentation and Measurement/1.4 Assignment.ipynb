{
 "cells": [
  {
   "cell_type": "code",
   "execution_count": 53,
   "metadata": {},
   "outputs": [],
   "source": [
    "import math"
   ]
  },
  {
   "cell_type": "code",
   "execution_count": 54,
   "metadata": {},
   "outputs": [],
   "source": [
    "from matplotlib.ticker import EngFormatter\n",
    "\n",
    "engf = EngFormatter()\n",
    "\n",
    "def eng_format(value, unit='', places = None):\n",
    "    f = EngFormatter(unit=unit, places=places)\n",
    "    return f(value)"
   ]
  },
  {
   "cell_type": "code",
   "execution_count": 55,
   "metadata": {},
   "outputs": [
    {
     "data": {
      "text/markdown": [
       "<span style=\"color: red; font-weight: bold;\">Answers will be highlighted in red</span>"
      ],
      "text/plain": [
       "<IPython.core.display.Markdown object>"
      ]
     },
     "metadata": {},
     "output_type": "display_data"
    }
   ],
   "source": [
    "from IPython.display import Markdown, display\n",
    "\n",
    "def highlight(variable, color='red'):\n",
    "    display(Markdown(f'<span style=\"color: {color}; font-weight: bold;\">{variable}</span>'))\n",
    "\n",
    "highlight('Answers will be highlighted in red')"
   ]
  },
  {
   "cell_type": "markdown",
   "metadata": {},
   "source": [
    "# EET221L - Instrumentation and Measurement Lab - Assignment # 1"
   ]
  },
  {
   "cell_type": "markdown",
   "metadata": {},
   "source": [
    "In this notebook we will be working with absolute and relative uncertainties, often swapping back and forth between them.  \n",
    "After some research I have decided on this convention:  \n",
    "\n",
    "$$\n",
    "\\Delta x = \\text{Absolute uncertainty}\n",
    "$$\n",
    "\n",
    "$$\n",
    "\\delta x = \\text{Relative uncertainty}\n",
    "$$\n",
    "\n",
    "In code a capital `D[var]` will represent a capital delta, and a lowercase `d[var]` will represent a lowercase delta."
   ]
  },
  {
   "cell_type": "markdown",
   "metadata": {},
   "source": [
    "When adding uncertainties:\n",
    "$$\n",
    "\\Delta z = \\sqrt{\\Delta x^2 + \\Delta y^2}\n",
    "$$"
   ]
  },
  {
   "cell_type": "markdown",
   "metadata": {},
   "source": [
    "When multiplying or dividing uncertainties:\n",
    "$$\n",
    "\\delta z = \\sqrt{\\delta x^2 + \\delta y^2}\n",
    "$$"
   ]
  },
  {
   "cell_type": "markdown",
   "metadata": {},
   "source": [
    "When converting between the two:\n",
    "$$\n",
    "\\delta x = \\frac{\\Delta x}{x}\n",
    "$$"
   ]
  },
  {
   "cell_type": "markdown",
   "metadata": {},
   "source": [
    "### Problem 1\n",
    "Calculate the total resistance with uncertainty estimation, if the following resistors are connected in series.  \n",
    "    R1 = 10 kΩ ±5%  \n",
    "    R2 = 2.2 kΩ ±10%  "
   ]
  },
  {
   "cell_type": "code",
   "execution_count": 56,
   "metadata": {},
   "outputs": [],
   "source": [
    "# Given\n",
    "r1 = 10e3\n",
    "r2 = 2.2e3\n",
    "dr1 = .05\n",
    "dr2 = .10\n",
    "\n",
    "# Find\n",
    "z = __\n",
    "dz = __"
   ]
  },
  {
   "cell_type": "code",
   "execution_count": 57,
   "metadata": {},
   "outputs": [
    {
     "data": {
      "text/plain": [
       "546.2600113499066"
      ]
     },
     "execution_count": 57,
     "metadata": {},
     "output_type": "execute_result"
    }
   ],
   "source": [
    "# Since we are adding we want to use absolute uncertainties to find Dz\n",
    "Dr1 = dr1 * r1\n",
    "Dr2 = dr2 * r2\n",
    "Dz = math.hypot(Dr1,Dr2)\n",
    "Dz"
   ]
  },
  {
   "cell_type": "code",
   "execution_count": 58,
   "metadata": {},
   "outputs": [
    {
     "data": {
      "text/plain": [
       "12200.0"
      ]
     },
     "execution_count": 58,
     "metadata": {},
     "output_type": "execute_result"
    }
   ],
   "source": [
    "# Resistors in series are summed\n",
    "z = r1 + r2\n",
    "z # Ω"
   ]
  },
  {
   "cell_type": "code",
   "execution_count": 59,
   "metadata": {},
   "outputs": [
    {
     "data": {
      "text/plain": [
       "0.04477541076638578"
      ]
     },
     "execution_count": 59,
     "metadata": {},
     "output_type": "execute_result"
    }
   ],
   "source": [
    "# And we can convert Dz back to relative uncertainty\n",
    "dz = Dz/z\n",
    "dz"
   ]
  },
  {
   "cell_type": "code",
   "execution_count": 60,
   "metadata": {},
   "outputs": [
    {
     "data": {
      "text/markdown": [
       "<span style=\"color: red; font-weight: bold;\">12.2 kΩ ±4.48%</span>"
      ],
      "text/plain": [
       "<IPython.core.display.Markdown object>"
      ]
     },
     "metadata": {},
     "output_type": "display_data"
    }
   ],
   "source": [
    "highlight(f'{eng_format(z, 'Ω')} ±{dz*100:.2f}%')"
   ]
  },
  {
   "cell_type": "markdown",
   "metadata": {},
   "source": [
    "### Problem 2\n",
    "Calculate the total resistance with uncertainty estimation, if the following resistors are connected in parallel.  \n",
    "R1 = 6.8 kΩ ±5%  \n",
    "R2 = 2.7 kΩ ±5%  "
   ]
  },
  {
   "cell_type": "code",
   "execution_count": 61,
   "metadata": {},
   "outputs": [],
   "source": [
    "# Given\n",
    "r1 = 6.8e3\n",
    "r2 = 2.7e3\n",
    "dr1 = .05\n",
    "dr2 = .05\n",
    "\n",
    "# Find\n",
    "rt = __\n",
    "drt = __"
   ]
  },
  {
   "cell_type": "markdown",
   "metadata": {},
   "source": [
    "To tackle this, we'll use a shortcut for calculating two parallel resistors, as opposed to the reciprocal of the sum of reciprocals:\n",
    "$$\n",
    "R_T = \\frac{(R_1 \\pm \\delta R_1) \\cdot (R_2 \\pm \\delta R_2)}{(R_1 \\pm \\Delta R_1) + (R_2 \\pm \\Delta R_2)}\n",
    "$$\n",
    "\n",
    "This allows us to work with the uncertainties of the numerator and denominator separately."
   ]
  },
  {
   "cell_type": "code",
   "execution_count": 62,
   "metadata": {},
   "outputs": [
    {
     "data": {
      "text/plain": [
       "(18360000.0, 0.07071067811865475)"
      ]
     },
     "execution_count": 62,
     "metadata": {},
     "output_type": "execute_result"
    }
   ],
   "source": [
    "# First the numerator\n",
    "numer = r1 * r2\n",
    "dnumer = math.hypot(dr1,dr2) #relative\n",
    "\n",
    "numer, dnumer"
   ]
  },
  {
   "cell_type": "code",
   "execution_count": 63,
   "metadata": {},
   "outputs": [
    {
     "data": {
      "text/plain": [
       "(9500.0, 365.8209944768069)"
      ]
     },
     "execution_count": 63,
     "metadata": {},
     "output_type": "execute_result"
    }
   ],
   "source": [
    "# Then the denominator\n",
    "Dr1 = dr1 * r1\n",
    "Dr2 = dr2 * r2\n",
    "\n",
    "denom = r1 + r2\n",
    "Ddenom = math.hypot(Dr1, Dr2) #absolute\n",
    "\n",
    "denom, Ddenom"
   ]
  },
  {
   "cell_type": "code",
   "execution_count": 64,
   "metadata": {},
   "outputs": [
    {
     "data": {
      "text/plain": [
       "0.03850747310282178"
      ]
     },
     "execution_count": 64,
     "metadata": {},
     "output_type": "execute_result"
    }
   ],
   "source": [
    "# In order to evaluate the fraction , we need to convert Ddenom into relative uncertainty\n",
    "ddenom = Ddenom/denom\n",
    "ddenom"
   ]
  },
  {
   "cell_type": "code",
   "execution_count": 65,
   "metadata": {},
   "outputs": [
    {
     "data": {
      "text/plain": [
       "(1932.6315789473683, 0.08051599521066943)"
      ]
     },
     "execution_count": 65,
     "metadata": {},
     "output_type": "execute_result"
    }
   ],
   "source": [
    "# Now we just evaluate\n",
    "rt = numer/denom\n",
    "drt = math.hypot(dnumer, ddenom) #relative\n",
    "rt, drt"
   ]
  },
  {
   "cell_type": "code",
   "execution_count": 66,
   "metadata": {},
   "outputs": [
    {
     "data": {
      "text/markdown": [
       "<span style=\"color: red; font-weight: bold;\">1.933 kΩ ±8.05%</span>"
      ],
      "text/plain": [
       "<IPython.core.display.Markdown object>"
      ]
     },
     "metadata": {},
     "output_type": "display_data"
    }
   ],
   "source": [
    "highlight(f'{eng_format(rt, 'Ω', places=3)} ±{drt*100:.2f}%')"
   ]
  },
  {
   "cell_type": "markdown",
   "metadata": {},
   "source": [
    "### Problem 3\n",
    "In a circuit, voltage across a resistor is measured as `1.02V` with uncertainty of `0.002V` and current is measured as `0.00345A` with uncertainty of `0.00035A`.  \n",
    "Calculate the resistance value of the resistor with uncertainty. "
   ]
  },
  {
   "cell_type": "code",
   "execution_count": 67,
   "metadata": {},
   "outputs": [],
   "source": [
    "# Given\n",
    "v =     1.02\n",
    "Dv =    0.002\n",
    "i =     0.00345\n",
    "Di =    0.00035\n",
    "\n",
    "# Find\n",
    "r = __\n",
    "Dr = __"
   ]
  },
  {
   "cell_type": "markdown",
   "metadata": {},
   "source": [
    "By Ohm's Law:\n",
    "$$ R = \\frac{V}{I} $$"
   ]
  },
  {
   "cell_type": "code",
   "execution_count": 68,
   "metadata": {},
   "outputs": [
    {
     "data": {
      "text/plain": [
       "(0.00196078431372549, 0.10144927536231885)"
      ]
     },
     "execution_count": 68,
     "metadata": {},
     "output_type": "execute_result"
    }
   ],
   "source": [
    "# Since we are dividing, we'll need relative uncertainties:\n",
    "dv = Dv/v\n",
    "di = Di/i\n",
    "dv, di"
   ]
  },
  {
   "cell_type": "code",
   "execution_count": 69,
   "metadata": {},
   "outputs": [
    {
     "data": {
      "text/plain": [
       "(295.6521739130435, 0.10146822234899233)"
      ]
     },
     "execution_count": 69,
     "metadata": {},
     "output_type": "execute_result"
    }
   ],
   "source": [
    "# Then we can evaluate\n",
    "r = v/i\n",
    "dr = math.hypot(dv,di)\n",
    "r, dr"
   ]
  },
  {
   "cell_type": "code",
   "execution_count": 70,
   "metadata": {},
   "outputs": [],
   "source": [
    "# Assuming we want Absolute uncertainty\n",
    "Dr = dr * r"
   ]
  },
  {
   "cell_type": "code",
   "execution_count": 71,
   "metadata": {},
   "outputs": [
    {
     "data": {
      "text/markdown": [
       "<span style=\"color: red; font-weight: bold;\">295.65Ω ±30.00Ω</span>"
      ],
      "text/plain": [
       "<IPython.core.display.Markdown object>"
      ]
     },
     "metadata": {},
     "output_type": "display_data"
    }
   ],
   "source": [
    "highlight(f'{r:.2f}Ω ±{Dr:.2f}Ω')"
   ]
  },
  {
   "cell_type": "markdown",
   "metadata": {},
   "source": [
    "### Problem 4\n",
    "In a certain circuit current flowing through a resistor `330kΩ ±5%` is measured as `0.01515 A` with uncertainty of `0.0000144A`.  \n",
    "Calculate the voltage drop across the resistor with uncertainty."
   ]
  },
  {
   "cell_type": "code",
   "execution_count": 79,
   "metadata": {},
   "outputs": [],
   "source": [
    "# Given\n",
    "r = 330e3\n",
    "dr = 0.05\n",
    "i = 0.01515\n",
    "Di = 0.0000144\n",
    "\n",
    "# Find\n",
    "v = __\n",
    "Dv = __"
   ]
  },
  {
   "cell_type": "markdown",
   "metadata": {},
   "source": [
    "By Ohm's Law:\n",
    "$$ V = IR $$"
   ]
  },
  {
   "cell_type": "code",
   "execution_count": null,
   "metadata": {},
   "outputs": [
    {
     "data": {
      "text/plain": [
       "0.0009504950495049505"
      ]
     },
     "execution_count": 78,
     "metadata": {},
     "output_type": "execute_result"
    }
   ],
   "source": [
    "# Since we are multiplying, we'll want relative uncertainty\n",
    "di = Di/i\n",
    "di"
   ]
  },
  {
   "cell_type": "markdown",
   "metadata": {},
   "source": [
    "There's a shortcut to calculating uncertainty propagation when one of the uncertainties is very small compared to the other.  In this case we *could* ignore the uncertainty of the current and treat resistance uncertainty as the only resistance.  I won't do that here, though, and instead will demonstrate this phenomena."
   ]
  },
  {
   "cell_type": "code",
   "execution_count": 80,
   "metadata": {},
   "outputs": [
    {
     "data": {
      "text/plain": [
       "(4999.5, 0.050009033592333434)"
      ]
     },
     "execution_count": 80,
     "metadata": {},
     "output_type": "execute_result"
    }
   ],
   "source": [
    "# Now we can evaluate\n",
    "v = i*r\n",
    "dv = math.hypot(dr, di)\n",
    "v, dv"
   ]
  },
  {
   "cell_type": "code",
   "execution_count": 87,
   "metadata": {},
   "outputs": [
    {
     "data": {
      "text/markdown": [
       "<span style=\"color: red; font-weight: bold;\">4999.5V ±5.0%</span>"
      ],
      "text/plain": [
       "<IPython.core.display.Markdown object>"
      ]
     },
     "metadata": {},
     "output_type": "display_data"
    }
   ],
   "source": [
    "highlight(f'{v}V ±{dv*100:.1f}%')"
   ]
  },
  {
   "cell_type": "code",
   "execution_count": null,
   "metadata": {},
   "outputs": [],
   "source": []
  }
 ],
 "metadata": {
  "kernelspec": {
   "display_name": "Python 3",
   "language": "python",
   "name": "python3"
  },
  "language_info": {
   "codemirror_mode": {
    "name": "ipython",
    "version": 3
   },
   "file_extension": ".py",
   "mimetype": "text/x-python",
   "name": "python",
   "nbconvert_exporter": "python",
   "pygments_lexer": "ipython3",
   "version": "3.13.2"
  }
 },
 "nbformat": 4,
 "nbformat_minor": 2
}
