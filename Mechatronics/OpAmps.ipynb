{
 "cells": [
  {
   "cell_type": "code",
   "execution_count": 1,
   "metadata": {},
   "outputs": [],
   "source": [
    "import sympy as sp"
   ]
  },
  {
   "cell_type": "markdown",
   "metadata": {},
   "source": [
    "# Operational Amplifiers"
   ]
  },
  {
   "attachments": {
    "op-amp-in-schematics.webp": {
     "image/webp": "[encoded data removed]"
    }
   },
   "cell_type": "markdown",
   "metadata": {},
   "source": [
    "![op-amp-in-schematics.webp](attachment:op-amp-in-schematics.webp)"
   ]
  },
  {
   "cell_type": "markdown",
   "metadata": {},
   "source": [
    "\n",
    "Operational amplifiers, or op-amps, are essential building blocks in analog electronic circuits. An op-amp is a high-gain voltage amplifier with differential inputs (inverting $V_{-}$ and non-inverting $V_{+}$) and usually a single-ended output $V_{out}$. The key feature of an op-amp is its high gain, which is typically on the order of $10^5$ to $10^6$.\n",
    "\n",
    "## Ideal Op-Amp Characteristics\n",
    "\n",
    "In the ideal case, an op-amp has the following characteristics:\n",
    "- Infinite open-loop gain ($A_{OL} \\to \\infty$)\n",
    "- Infinite input impedance ($R_{in} \\to \\infty$)\n",
    "- Zero output impedance ($R_{out} \\approx 0$)\n",
    "- Infinite bandwidth ($f_{BW} \\to \\infty$)\n",
    "- Zero offset voltage ($V_{offset} \\approx 0$)\n",
    "\n",
    "These characteristics simplify the analysis of op-amp circuits, allowing us to make useful assumptions.\n",
    "\n",
    "## Key Equations\n",
    "\n",
    "For an ideal op-amp, the output voltage $V_{out}$ is related to the input voltages by the equation:\n",
    "\n",
    "$$V_{out} = A_{OL} \\cdot (V_{+} - V_{-})$$"
   ]
  },
  {
   "cell_type": "markdown",
   "metadata": {},
   "source": [
    "Where:  \n",
    " - $A_{OL}$ : Open Loop Gain.  $A$ is the symbol for gain.\n",
    " - $V_{+}$ (Non-inverting Input): The voltage applied to the non-inverting input terminal of the op-amp. \n",
    "    - When the voltage at $V_{+}$ is higher than at $V_{-}$, the output voltage $V_{out}$ tends to increase.\n",
    "\n",
    " - $V_{-}$ (Inverting Input): This is the voltage applied to the inverting input terminal of the op-amp. \n",
    "   - When the voltage at $V_{-}$ is higher than at $V_{+}$, the output voltage $V_{out}$ tends to decrease."
   ]
  },
  {
   "cell_type": "code",
   "execution_count": 2,
   "metadata": {},
   "outputs": [
    {
     "data": {
      "text/latex": [
       "$\\displaystyle A_{OL} \\left(V_{+} - V_{-}\\right)$"
      ],
      "text/plain": [
       "A_OL*(V_+ - V_-)"
      ]
     },
     "execution_count": 2,
     "metadata": {},
     "output_type": "execute_result"
    }
   ],
   "source": [
    "V_plus, V_minus, A_OL = sp.symbols('V_+ V_- A_OL')\n",
    "V_out = A_OL * (V_plus - V_minus)\n",
    "\n",
    "V_out"
   ]
  },
  {
   "cell_type": "markdown",
   "metadata": {},
   "source": [
    "### Mathematical Operations with Op-Amps"
   ]
  },
  {
   "cell_type": "markdown",
   "metadata": {},
   "source": [
    "#### 1. Summing Amplifier (Addition)\n",
    "\n",
    "A summing amplifier can add multiple input signals together. The circuit configuration is typically based on an inverting op-amp setup where multiple input voltages are applied through resistors to the inverting input.\n",
    "\n",
    "For a summing amplifier with $n$ inputs $V_1, V_2, \\dots, V_n$, the output voltage $V_{out}$ is given by:\n",
    "\n",
    "$$V_{out} = -\\left(\\frac{R_f}{R_1}V_1 + \\frac{R_f}{R_2}V_2 + \\dots + \\frac{R_f}{R_n}V_n\\right)$$\n",
    "\n",
    "Where $R_f$ is the feedback resistor and $R_1, R_2, \\dots, R_n$ are the input resistors."
   ]
  },
  {
   "cell_type": "markdown",
   "metadata": {},
   "source": [
    "#### 2. Difference Amplifier (Subtraction)\n",
    "\n",
    "A difference amplifier subtracts one input signal from another. It uses both inverting and non-inverting inputs of the op-amp.\n",
    "\n",
    "The output voltage for a difference amplifier with inputs $V_1$ and $V_2$ is given by:\n",
    "\n",
    "$$V_{out} = \\left(\\frac{R_f}{R_1}\\right)(V_2 - V_1)$$\n",
    "\n",
    "Where $R_f$ and $R_1$ are the resistors in the circuit, usually set to equal values for simplicity, resulting in unity gain."
   ]
  },
  {
   "cell_type": "markdown",
   "metadata": {},
   "source": [
    "#### 3. Integrator\n",
    "\n",
    "An integrator circuit produces an output that is the integral of the input signal with respect to time. This is done by using a capacitor in the feedback loop.\n",
    "\n",
    "The output voltage of an integrator is given by:\n",
    "\n",
    "$$V_{out}(t) = -\\frac{1}{RC} \\int V_{in}(t) \\, dt$$\n",
    "\n",
    "Where $R$ is the input resistor and $C$ is the feedback capacitor."
   ]
  },
  {
   "cell_type": "markdown",
   "metadata": {},
   "source": [
    "#### 4. Differentiator\n",
    "\n",
    "A differentiator circuit produces an output that is the derivative of the input signal with respect to time. This is achieved by placing a capacitor in series with the input signal.\n",
    "\n",
    "The output voltage of a differentiator is given by:\n",
    "\n",
    "$$V_{out}(t) = -RC \\frac{dV_{in}(t)}{dt}$$\n",
    "\n",
    "Where $R$ is the feedback resistor and $C$ is the input capacitor."
   ]
  }
 ],
 "metadata": {
  "kernelspec": {
   "display_name": "Python 3",
   "language": "python",
   "name": "python3"
  },
  "language_info": {
   "codemirror_mode": {
    "name": "ipython",
    "version": 3
   },
   "file_extension": ".py",
   "mimetype": "text/x-python",
   "name": "python",
   "nbconvert_exporter": "python",
   "pygments_lexer": "ipython3",
   "version": "3.10.8"
  }
 },
 "nbformat": 4,
 "nbformat_minor": 2
}
