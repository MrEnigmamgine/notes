{
 "cells": [
  {
   "cell_type": "code",
   "execution_count": 2,
   "metadata": {},
   "outputs": [],
   "source": [
    "import sympy as sp"
   ]
  },
  {
   "cell_type": "code",
   "execution_count": 8,
   "metadata": {},
   "outputs": [],
   "source": [
    "class si :\n",
    "    \"\"\"\n",
    "    This is a simple class that provides an easy way to access the engineering prefixes for the metric system.\n",
    "    Example:\n",
    "        25*si.k results in 25_000\n",
    "    \"\"\"\n",
    "    Y = 10**24  # Yotta\n",
    "    Z = 10**21  # Zetta\n",
    "    E = 10**18  # Exa\n",
    "    P = 10**15  # Peta\n",
    "    T = 10**12  # Tera\n",
    "    G = 10**9   # Giga\n",
    "    M = 10**6   # Mega\n",
    "    k = 10**3   # kilo\n",
    "\n",
    "    m = 10**-3  # milli\n",
    "    µ = 10**-6  # micro\n",
    "    u = 10**-6  # micro ## so that we can type u instead of µ\n",
    "    n = 10**-9  # nano\n",
    "    p = 10**-12 # pico\n",
    "    f = 10**-15 # femto\n",
    "    a = 10**-18 # atto\n",
    "    z = 10**-21 # zepto\n",
    "    y = 10**-24 # yocto"
   ]
  },
  {
   "cell_type": "markdown",
   "metadata": {},
   "source": [
    "## Glossary"
   ]
  },
  {
   "cell_type": "markdown",
   "metadata": {},
   "source": [
    "ASTM - American Society for Testing and Materials"
   ]
  },
  {
   "cell_type": "markdown",
   "metadata": {},
   "source": [
    "# Materiels and Manufacturing"
   ]
  },
  {
   "cell_type": "markdown",
   "metadata": {},
   "source": [
    "### Manufacturing\n",
    " - The process of transforming a materiel into something new\n",
    "\n",
    "### Materiels Science\n",
    " - The study of how materiels respond to forces, temperatures, and other factors.\n",
    "\n",
    "### Primary Bonds (Atom to atom)\n",
    " - Ionic\n",
    "   - One element gives up an electron creating two ions\n",
    " - Covalent\n",
    "   - Valence electrons are shared between two atoms\n",
    " - Metallic\n",
    "   - Valence electrons are shared by the entire block of atoms\n",
    "\n",
    "### Secondary Bonds (Molecule to molecule)\n",
    " - Dipole\n",
    "   - Opposite electrical polarities attract\n",
    " - London\n",
    "   - Motion of electrons create magnetic eddies that attract\n",
    " - Hydrogen\n",
    "   - Covalent (see above) bonding of hydrogen atoms between molecules"
   ]
  },
  {
   "cell_type": "markdown",
   "metadata": {},
   "source": [
    "### Stress-Strain Relationships\n",
    "\n",
    "- Tensile\n",
    "  - Stretching\n",
    "- Compressive\n",
    "  - Squeezing\n",
    "- Shear\n",
    "  - Twisting\n"
   ]
  },
  {
   "cell_type": "markdown",
   "metadata": {},
   "source": [
    "## Formulae and Definitions"
   ]
  },
  {
   "cell_type": "markdown",
   "metadata": {},
   "source": [
    "### Definition of stress\n",
    "$$ \\sigma = \\frac{F}{A_0} $$\n",
    "$F$ = Force  \n",
    "$A_0$ = Original Area"
   ]
  },
  {
   "cell_type": "code",
   "execution_count": 4,
   "metadata": {},
   "outputs": [
    {
     "data": {
      "text/latex": [
       "$\\displaystyle \\frac{F}{A_{0}}$"
      ],
      "text/plain": [
       "F/A0"
      ]
     },
     "execution_count": 4,
     "metadata": {},
     "output_type": "execute_result"
    }
   ],
   "source": [
    "# Define symbols\n",
    "F, A0 = sp.symbols('F A0')\n",
    "stress = F / A0\n",
    "\n",
    "# Display the formula\n",
    "stress\n"
   ]
  },
  {
   "cell_type": "markdown",
   "metadata": {},
   "source": [
    "### Definition of Strain\n",
    "\n",
    "$$ \\epsilon = \\frac{\\Delta L }{L_0} $$\n",
    "\n",
    "$\\Delta L$ = Change in length  \n",
    "$L_0$ = Original Length"
   ]
  },
  {
   "cell_type": "code",
   "execution_count": 7,
   "metadata": {},
   "outputs": [
    {
     "data": {
      "text/latex": [
       "$\\displaystyle \\frac{\\Delta_{L}}{L_{0}}$"
      ],
      "text/plain": [
       "Delta_L/L0"
      ]
     },
     "execution_count": 7,
     "metadata": {},
     "output_type": "execute_result"
    }
   ],
   "source": [
    "# Engineering strain formula\n",
    "delta_L, L0 = sp.symbols('Delta_L L0')\n",
    "strain = delta_L / L0\n",
    "\n",
    "strain"
   ]
  },
  {
   "cell_type": "markdown",
   "metadata": {},
   "source": [
    "### Modulus of Elasticity\n",
    "Also known as Young's Modulus\n",
    "\n",
    "Defined by Hooke's Law:\n",
    "$$ \\sigma = E \\epsilon $$\n",
    "\n",
    "$\\sigma$ = Stress  \n",
    "$\\epsilon$ = Strain\n",
    "$E$ = Modulus of Elasticity"
   ]
  },
  {
   "cell_type": "code",
   "execution_count": 10,
   "metadata": {},
   "outputs": [
    {
     "data": {
      "text/latex": [
       "$\\displaystyle \\frac{\\sigma}{\\epsilon}$"
      ],
      "text/plain": [
       "sigma/epsilon"
      ]
     },
     "execution_count": 10,
     "metadata": {},
     "output_type": "execute_result"
    }
   ],
   "source": [
    "sigma, epsilon = sp.symbols ('sigma epsilon')\n",
    "\n",
    "E_modulus = sigma / epsilon\n",
    "\n",
    "E_modulus"
   ]
  },
  {
   "cell_type": "code",
   "execution_count": 12,
   "metadata": {},
   "outputs": [
    {
     "data": {
      "text/latex": [
       "$\\displaystyle \\frac{F L_{0}}{A_{0} \\Delta_{L}}$"
      ],
      "text/plain": [
       "F*L0/(A0*Delta_L)"
      ]
     },
     "execution_count": 12,
     "metadata": {},
     "output_type": "execute_result"
    }
   ],
   "source": [
    "E_modulus.subs(sigma, stress).subs(epsilon, strain)"
   ]
  },
  {
   "attachments": {
    "image.png": {
     "image/png": "[encoded data removed]"
    }
   },
   "cell_type": "markdown",
   "metadata": {},
   "source": [
    "### Brinell Hardness\n",
    "\n",
    "$$ HB = \\frac{2F}{\\pi D_b (D_b - \\sqrt{D_b^2 - D_i^2})} $$\n",
    "\n",
    "Where:  \n",
    "![image.png](attachment:image.png)"
   ]
  },
  {
   "cell_type": "code",
   "execution_count": 15,
   "metadata": {},
   "outputs": [
    {
     "data": {
      "text/latex": [
       "$\\displaystyle \\frac{2 F}{\\pi D_{b} \\left(D_{b} - \\sqrt{D_{b}^{2} - D_{i}^{2}}\\right)}$"
      ],
      "text/plain": [
       "2*F/(pi*D_b*(D_b - sqrt(D_b**2 - D_i**2)))"
      ]
     },
     "execution_count": 15,
     "metadata": {},
     "output_type": "execute_result"
    }
   ],
   "source": [
    "F, D_b, D_i = sp.symbols('F D_b D_i')\n",
    "\n",
    "BHN = (2 * F) / (sp.pi * D_b * (D_b - sp.sqrt(D_b**2 - D_i**2)))\n",
    "BHN"
   ]
  },
  {
   "cell_type": "code",
   "execution_count": 18,
   "metadata": {},
   "outputs": [
    {
     "data": {
      "text/latex": [
       "$\\displaystyle 1781.55613319119$"
      ],
      "text/plain": [
       "1781.55613319119"
      ]
     },
     "execution_count": 18,
     "metadata": {},
     "output_type": "execute_result"
    }
   ],
   "source": [
    "# Example of evaluating BHN using 1500kg load\n",
    "BHN.subs({\n",
    "    F: 1500*9.81,   # Mass*Gravity (N)\n",
    "    D_b: 10,        # Ball Diameter (mm)\n",
    "    D_i: 3.2        # Indentation Diameter (mm)\n",
    "    }).evalf()"
   ]
  },
  {
   "cell_type": "markdown",
   "metadata": {},
   "source": [
    "#### Using BHN to estimate ultimate tensile strength of steel\n",
    "\n",
    "$$ \\sigma_{ts} (MPa) = 3.45 * BH $$\n",
    "$$ \\sigma_{ts} (\\frac{lb}{in^2}) = 500 * BH $$"
   ]
  },
  {
   "cell_type": "code",
   "execution_count": 22,
   "metadata": {},
   "outputs": [
    {
     "data": {
      "text/latex": [
       "$\\displaystyle \\frac{6.9 F}{\\pi D_{b} \\left(D_{b} - \\sqrt{D_{b}^{2} - D_{i}^{2}}\\right)}$"
      ],
      "text/plain": [
       "6.9*F/(pi*D_b*(D_b - sqrt(D_b**2 - D_i**2)))"
      ]
     },
     "execution_count": 22,
     "metadata": {},
     "output_type": "execute_result"
    }
   ],
   "source": [
    "estimated_tensile_strength = BHN*3.45"
   ]
  },
  {
   "cell_type": "code",
   "execution_count": 23,
   "metadata": {},
   "outputs": [
    {
     "data": {
      "text/plain": [
       "6146.52"
      ]
     },
     "execution_count": 23,
     "metadata": {},
     "output_type": "execute_result"
    }
   ],
   "source": [
    "1781.6 *3.45"
   ]
  },
  {
   "cell_type": "markdown",
   "metadata": {},
   "source": [
    "### Thermal Expansion\n",
    "\n",
    "$$ \\Delta L = \\alpha * \\Delta T * L_0 $$"
   ]
  },
  {
   "cell_type": "markdown",
   "metadata": {},
   "source": [
    "Where:  \n",
    "$\\Delta L$ = Change in length  \n",
    "$\\alpha$ = Coefficient of thermal expansion  \n",
    "$L_0$ = Original Length  \n",
    "$\\Delta T$ = Change in temperature: $T_f - T_i$  "
   ]
  },
  {
   "cell_type": "code",
   "execution_count": 25,
   "metadata": {},
   "outputs": [
    {
     "data": {
      "text/latex": [
       "$\\displaystyle \\Delta_{T} L_{0} \\alpha$"
      ],
      "text/plain": [
       "Delta_T*L0*alpha"
      ]
     },
     "execution_count": 25,
     "metadata": {},
     "output_type": "execute_result"
    }
   ],
   "source": [
    "alpha, L0, delta_T = sp.symbols('alpha L0 Delta_T')\n",
    "delta_L = alpha * L0 * delta_T\n",
    "delta_L"
   ]
  },
  {
   "cell_type": "code",
   "execution_count": 40,
   "metadata": {},
   "outputs": [
    {
     "data": {
      "text/latex": [
       "$\\displaystyle 0.0001152$"
      ],
      "text/plain": [
       "0.000115200000000000"
      ]
     },
     "execution_count": 40,
     "metadata": {},
     "output_type": "execute_result"
    }
   ],
   "source": [
    "delta_L.subs({\n",
    "    alpha: 24*si.u,     # Coefficient of thermal expansion (1/°C)\n",
    "    L0: .01,            # Original Length (m)\n",
    "    delta_T: 500-20       # Change in temp (°C)\n",
    "    }).evalf()"
   ]
  }
 ],
 "metadata": {
  "kernelspec": {
   "display_name": "Python 3",
   "language": "python",
   "name": "python3"
  },
  "language_info": {
   "codemirror_mode": {
    "name": "ipython",
    "version": 3
   },
   "file_extension": ".py",
   "mimetype": "text/x-python",
   "name": "python",
   "nbconvert_exporter": "python",
   "pygments_lexer": "ipython3",
   "version": "3.10.8"
  }
 },
 "nbformat": 4,
 "nbformat_minor": 2
}
